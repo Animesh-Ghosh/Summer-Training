{
 "cells": [
  {
   "cell_type": "markdown",
   "metadata": {},
   "source": [
    "## Loop control statements\n",
    "\n",
    "**break** - takes control out fo the loop body\n",
    "\n",
    "**continue** - skips to the next iteration of the loop, ignoring the following sequence of statements"
   ]
  },
  {
   "cell_type": "code",
   "execution_count": 3,
   "metadata": {},
   "outputs": [
    {
     "name": "stdout",
     "output_type": "stream",
     "text": [
      "A List "
     ]
    }
   ],
   "source": [
    "my_tuple = ('A', 2, 'List', 3.14, '2e-10')\n",
    "for item in my_tuple:\n",
    "    if item == 2:\n",
    "        continue\n",
    "    if item == my_tuple[3]:\n",
    "        break\n",
    "    print (item, end = ' ')"
   ]
  },
  {
   "cell_type": "code",
   "execution_count": 45,
   "metadata": {},
   "outputs": [
    {
     "name": "stdout",
     "output_type": "stream",
     "text": [
      "Number of unique characters in Helloo are:\n",
      " 4\n",
      "Count of each character:\n",
      " {'H': 1, 'e': 1, 'l': 2, 'o': 2}\n"
     ]
    }
   ],
   "source": [
    "my_dict = {}\n",
    "string = 'Helloo'\n",
    "for k in string:\n",
    "    if k in my_dict:\n",
    "        my_dict[k] += 1\n",
    "    else:\n",
    "        my_dict[k] = 1\n",
    "print ('Number of unique characters in', string, 'are:\\n', len(my_dict.keys()))\n",
    "print ('Count of each character:\\n', my_dict)"
   ]
  },
  {
   "cell_type": "code",
   "execution_count": 43,
   "metadata": {},
   "outputs": [
    {
     "name": "stdout",
     "output_type": "stream",
     "text": [
      "{'Age': 20.0, 'Course': 'BCA', 'Life': 0, 'Name': 'NA', 'Sex': 'M'}\n",
      "Name NA\n",
      "Age 20.0\n",
      "Sex M\n",
      "Course BCA\n",
      "Life 0\n"
     ]
    }
   ],
   "source": [
    "from pprint import pprint\n",
    "new_dict = {'Name': 'NA', 'Age': 20.0, 'Sex': 'M', 'Course': 'BCA', 'Life': 0}\n",
    "pprint (new_dict)\n",
    "for key in new_dict:\n",
    "    print (key, new_dict[key])"
   ]
  },
  {
   "cell_type": "code",
   "execution_count": 46,
   "metadata": {},
   "outputs": [],
   "source": [
    "def Uni (string):\n",
    "    mydict = {}\n",
    "    for k in string:\n",
    "        if k in mydict:\n",
    "            mydict[k] += 1\n",
    "        else:\n",
    "            mydict[k] = 1\n",
    "    return mydict"
   ]
  },
  {
   "cell_type": "code",
   "execution_count": 52,
   "metadata": {},
   "outputs": [
    {
     "name": "stdout",
     "output_type": "stream",
     "text": [
      "Enter a string: Hello World\n",
      "Number of unique characters in Helloo are:\n",
      " 8\n",
      "Count of each character:\n",
      " {'H': 1, 'e': 1, 'l': 3, 'o': 2, ' ': 1, 'W': 1, 'r': 1, 'd': 1}\n"
     ]
    }
   ],
   "source": [
    "new_string = input ('Enter a string: ')\n",
    "newD = Uni(new_string)\n",
    "print ('Number of unique characters in', string, 'are:\\n', len(newD.keys()))\n",
    "print ('Count of each character:\\n', newD)"
   ]
  },
  {
   "cell_type": "code",
   "execution_count": 54,
   "metadata": {},
   "outputs": [
    {
     "name": "stdout",
     "output_type": "stream",
     "text": [
      "[0, 1, 2, 'new_item', 4]\n"
     ]
    }
   ],
   "source": [
    "my_list = []\n",
    "for i in range(5):\n",
    "    my_list.append(i)\n",
    "my_list[3] = 'new_item'\n",
    "print (my_list)"
   ]
  },
  {
   "cell_type": "code",
   "execution_count": 65,
   "metadata": {},
   "outputs": [
    {
     "name": "stdout",
     "output_type": "stream",
     "text": [
      "No object\n"
     ]
    }
   ],
   "source": [
    "x = None\n",
    "#x = 'Not None'\n",
    "if x:\n",
    "    print ('Object')\n",
    "else:\n",
    "    print ('No object')"
   ]
  },
  {
   "cell_type": "code",
   "execution_count": 75,
   "metadata": {},
   "outputs": [
    {
     "name": "stdout",
     "output_type": "stream",
     "text": [
      "0 0\n",
      "0.5\n",
      "1 1\n",
      "2 32\n",
      "3 243\n",
      "4 1024\n"
     ]
    }
   ],
   "source": [
    "x = 0\n",
    "while x < 5:\n",
    "    print (x, x**5)\n",
    "    x += 1\n",
    "    if x//2 == 0:\n",
    "        print (x/2)\n",
    "        continue"
   ]
  },
  {
   "cell_type": "code",
   "execution_count": null,
   "metadata": {},
   "outputs": [],
   "source": []
  }
 ],
 "metadata": {
  "kernelspec": {
   "display_name": "Python 3",
   "language": "python",
   "name": "python3"
  },
  "language_info": {
   "codemirror_mode": {
    "name": "ipython",
    "version": 3
   },
   "file_extension": ".py",
   "mimetype": "text/x-python",
   "name": "python",
   "nbconvert_exporter": "python",
   "pygments_lexer": "ipython3",
   "version": "3.7.0"
  }
 },
 "nbformat": 4,
 "nbformat_minor": 2
}
