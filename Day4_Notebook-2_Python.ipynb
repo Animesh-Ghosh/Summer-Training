{
 "cells": [
  {
   "cell_type": "code",
   "execution_count": 1,
   "metadata": {},
   "outputs": [
    {
     "name": "stdout",
     "output_type": "stream",
     "text": [
      "True\n"
     ]
    }
   ],
   "source": [
    "x, y = 10, 37\n",
    "print (x + y == 47)"
   ]
  },
  {
   "cell_type": "code",
   "execution_count": 8,
   "metadata": {},
   "outputs": [
    {
     "name": "stdout",
     "output_type": "stream",
     "text": [
      "False\n",
      "True\n"
     ]
    }
   ],
   "source": [
    "x, y = 0.1, 0.2\n",
    "print (x + y == 0.3) # returns false\n",
    "print (x + y - 0.3 < 0.00001) # returns true"
   ]
  },
  {
   "cell_type": "markdown",
   "metadata": {},
   "source": [
    "### Comparison operator **'=='**\n",
    "\n",
    "**==** used to compare two values. Works fine for *integers*.\n",
    "\n",
    "**Messes up** for *fractions*."
   ]
  },
  {
   "cell_type": "code",
   "execution_count": 7,
   "metadata": {},
   "outputs": [
    {
     "name": "stdout",
     "output_type": "stream",
     "text": [
      "0.7999999999999999\n"
     ]
    }
   ],
   "source": [
    "print (0.1 + 0.1 + 0.1 + 0.1 + 0.1 + 0.1 + 0.1 + 0.1)"
   ]
  },
  {
   "cell_type": "markdown",
   "metadata": {},
   "source": [
    "**IEEE 754** ... is *interesting*..."
   ]
  },
  {
   "cell_type": "code",
   "execution_count": 9,
   "metadata": {},
   "outputs": [
    {
     "name": "stdout",
     "output_type": "stream",
     "text": [
      "10.0\n",
      "9.0\n"
     ]
    }
   ],
   "source": [
    "x, y = 1.0, 0.1\n",
    "print (x/y) # division yeilds 10\n",
    "print (x//y) # floor division yeilds something else"
   ]
  },
  {
   "cell_type": "code",
   "execution_count": 11,
   "metadata": {},
   "outputs": [
    {
     "ename": "ValueError",
     "evalue": "invalid literal for int() with base 10: '12.56'",
     "output_type": "error",
     "traceback": [
      "\u001b[1;31m---------------------------------------------------------------------------\u001b[0m",
      "\u001b[1;31mValueError\u001b[0m                                Traceback (most recent call last)",
      "\u001b[1;32m<ipython-input-11-ecb7d3af163d>\u001b[0m in \u001b[0;36m<module>\u001b[1;34m()\u001b[0m\n\u001b[0;32m      1\u001b[0m \u001b[0mn\u001b[0m \u001b[1;33m=\u001b[0m \u001b[1;34m'12.56'\u001b[0m\u001b[1;33m\u001b[0m\u001b[0m\n\u001b[0;32m      2\u001b[0m \u001b[0mfloat\u001b[0m \u001b[1;33m(\u001b[0m\u001b[0mn\u001b[0m\u001b[1;33m)\u001b[0m \u001b[1;31m# need to hold value in a variable\u001b[0m\u001b[1;33m\u001b[0m\u001b[0m\n\u001b[1;32m----> 3\u001b[1;33m \u001b[0mint\u001b[0m \u001b[1;33m(\u001b[0m\u001b[0mn\u001b[0m\u001b[1;33m)\u001b[0m \u001b[1;31m# wrong value is being passed\u001b[0m\u001b[1;33m\u001b[0m\u001b[0m\n\u001b[0m",
      "\u001b[1;31mValueError\u001b[0m: invalid literal for int() with base 10: '12.56'"
     ]
    }
   ],
   "source": [
    "n = '12.56'\n",
    "float (n) # need to hold value in a variable\n",
    "int (n) # wrong value is being passed"
   ]
  },
  {
   "cell_type": "code",
   "execution_count": 12,
   "metadata": {},
   "outputs": [
    {
     "data": {
      "text/plain": [
       "12"
      ]
     },
     "execution_count": 12,
     "metadata": {},
     "output_type": "execute_result"
    }
   ],
   "source": [
    "n = '12.56'\n",
    "n = float (n)\n",
    "int (n) # correct value is being passed"
   ]
  },
  {
   "cell_type": "markdown",
   "metadata": {},
   "source": [
    "Fixed error of the cell above."
   ]
  },
  {
   "cell_type": "code",
   "execution_count": 14,
   "metadata": {},
   "outputs": [
    {
     "name": "stdout",
     "output_type": "stream",
     "text": [
      "shruberry ni!\n"
     ]
    }
   ],
   "source": [
    "A = 'shruberry'\n",
    "B = A\n",
    "B = 'ni!'\n",
    "print (A, B)"
   ]
  },
  {
   "cell_type": "code",
   "execution_count": 15,
   "metadata": {},
   "outputs": [
    {
     "name": "stdout",
     "output_type": "stream",
     "text": [
      "['snail', 'mail'] ['snail', 'mail']\n"
     ]
    }
   ],
   "source": [
    "A = ['spam', 'mail']\n",
    "B = A\n",
    "B[0] = 'snail'\n",
    "print (A, B)"
   ]
  },
  {
   "cell_type": "code",
   "execution_count": 16,
   "metadata": {},
   "outputs": [
    {
     "name": "stdout",
     "output_type": "stream",
     "text": [
      "['spam', 'mail'] ['snail', 'mail']\n"
     ]
    }
   ],
   "source": [
    "A = ['spam', 'mail']\n",
    "B = A[:]\n",
    "B[0] = 'snail'\n",
    "print (A, B)"
   ]
  },
  {
   "cell_type": "markdown",
   "metadata": {},
   "source": [
    "### Difference between string and list\n",
    "\n",
    "*Strings* are immutable objects while *Lists* are mutable.\n",
    "\n",
    "A = B means different things for different objects.\n",
    "\n",
    "For *lists* assigning normally means a reference is assigned, while assigning with slicing means a copy is made which is then assigned."
   ]
  },
  {
   "cell_type": "code",
   "execution_count": 28,
   "metadata": {
    "scrolled": true
   },
   "outputs": [
    {
     "name": "stdout",
     "output_type": "stream",
     "text": [
      "Jhimmili Kammal\n",
      "Anthony's stuff is OK, I guess?\n",
      "JK\n",
      "            It's not.\n",
      "            I KID.\n"
     ]
    }
   ],
   "source": [
    "string1 = 'Jhimmili Kammal'\n",
    "string2 = \"Anthony's stuff is OK, I guess?\"\n",
    "string3 = '''JK\n",
    "            It\\'s not.\n",
    "            I KID.'''\n",
    "print (string1)\n",
    "print (string2)\n",
    "print (string3)"
   ]
  },
  {
   "cell_type": "markdown",
   "metadata": {},
   "source": [
    "### Examples of string initialization\n",
    "\n",
    "string1 *-->* single quote init\n",
    "\n",
    "string2 *-->* double quote init, ignores single quote as string identifier\n",
    "\n",
    "string3 *-->* multi-line formatted output"
   ]
  },
  {
   "cell_type": "code",
   "execution_count": 23,
   "metadata": {},
   "outputs": [
    {
     "name": "stdout",
     "output_type": "stream",
     "text": [
      "Raw string. Ignores escape characters like \\n, \\t and \\', \\\\\n"
     ]
    }
   ],
   "source": [
    "print (r'Raw string. Ignores escape characters like \\n, \\t and \\', \\\\')"
   ]
  },
  {
   "cell_type": "code",
   "execution_count": 25,
   "metadata": {},
   "outputs": [
    {
     "name": "stdout",
     "output_type": "stream",
     "text": [
      "<class 'str'> 15\n"
     ]
    }
   ],
   "source": [
    "print (type (string1), len (string1))"
   ]
  },
  {
   "cell_type": "code",
   "execution_count": 35,
   "metadata": {},
   "outputs": [],
   "source": [
    "# import antigravity\n",
    "# easter"
   ]
  },
  {
   "cell_type": "code",
   "execution_count": null,
   "metadata": {},
   "outputs": [],
   "source": []
  }
 ],
 "metadata": {
  "kernelspec": {
   "display_name": "Python 3",
   "language": "python",
   "name": "python3"
  },
  "language_info": {
   "codemirror_mode": {
    "name": "ipython",
    "version": 3
   },
   "file_extension": ".py",
   "mimetype": "text/x-python",
   "name": "python",
   "nbconvert_exporter": "python",
   "pygments_lexer": "ipython3",
   "version": "3.7.0"
  }
 },
 "nbformat": 4,
 "nbformat_minor": 2
}
