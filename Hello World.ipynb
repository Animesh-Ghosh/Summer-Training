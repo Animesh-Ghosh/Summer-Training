{
 "cells": [
  {
   "cell_type": "code",
   "execution_count": 1,
   "metadata": {},
   "outputs": [
    {
     "name": "stdout",
     "output_type": "stream",
     "text": [
      "Hello World.\n"
     ]
    }
   ],
   "source": [
    "print (\"Hello World.\")"
   ]
  },
  {
   "cell_type": "markdown",
   "metadata": {},
   "source": [
    "## Python"
   ]
  },
  {
   "cell_type": "code",
   "execution_count": 2,
   "metadata": {},
   "outputs": [
    {
     "name": "stdout",
     "output_type": "stream",
     "text": [
      "30\n"
     ]
    }
   ],
   "source": [
    "a,b = 10, 20\n",
    "c = a + b\n",
    "print (c)"
   ]
  },
  {
   "cell_type": "markdown",
   "metadata": {},
   "source": [
    "### Testing other algebra functions..."
   ]
  },
  {
   "cell_type": "code",
   "execution_count": 3,
   "metadata": {},
   "outputs": [
    {
     "name": "stdout",
     "output_type": "stream",
     "text": [
      "6\n"
     ]
    }
   ],
   "source": [
    "a, b, c = 2, 3, 7\n",
    "print (a*b%c)"
   ]
  },
  {
   "cell_type": "markdown",
   "metadata": {},
   "source": [
    "### Plotting histograms\n",
    "\n",
    "What a jump..."
   ]
  },
  {
   "cell_type": "code",
   "execution_count": 12,
   "metadata": {},
   "outputs": [
    {
     "name": "stdout",
     "output_type": "stream",
     "text": [
      "[7, 3, 6, 7, 9, 6, 8, 4, 9, 7]\n"
     ]
    },
    {
     "data": {
      "image/png": "[encoded data removed]",
      "text/plain": [
       "<Figure size 432x288 with 1 Axes>"
      ]
     },
     "metadata": {},
     "output_type": "display_data"
    }
   ],
   "source": [
    "from matplotlib import pyplot as plt\n",
    "import random\n",
    "\n",
    "%matplotlib inline\n",
    "\n",
    "data = []\n",
    "\n",
    "for i in range (10):\n",
    "    data.append(random.randrange(10))\n",
    "\n",
    "print (data)\n",
    "\n",
    "plt.hist (data, bins = range(0, 11, 2), align = 'mid', rwidth = 0.9, color = 'cyan')\n",
    "plt.title ('Test Histogram')\n",
    "plt.xlabel ('Test numbers (< 10)')\n",
    "plt.show ()"
   ]
  },
  {
   "cell_type": "code",
   "execution_count": 15,
   "metadata": {
    "scrolled": true
   },
   "outputs": [
    {
     "name": "stdout",
     "output_type": "stream",
     "text": [
      "[7, 3, 6, 7, 9, 6, 8, 4, 9, 7]\n"
     ]
    },
    {
     "data": {
      "image/png": "[encoded data removed]",
      "text/plain": [
       "<Figure size 432x288 with 1 Axes>"
      ]
     },
     "metadata": {},
     "output_type": "display_data"
    }
   ],
   "source": [
    "print (data)\n",
    "\n",
    "plt.bar (data, 8.637789808499374)\n",
    "plt.show ()"
   ]
  },
  {
   "cell_type": "code",
   "execution_count": 6,
   "metadata": {},
   "outputs": [
    {
     "name": "stdout",
     "output_type": "stream",
     "text": [
      "[5, 7, 9]\n"
     ]
    }
   ],
   "source": [
    "list1 = [1, 2, 3]\n",
    "list2 = [4, 5, 6]\n",
    "list3 = []\n",
    "for i, j in zip (list1, list2) :\n",
    "    list3.append(i+j)\n",
    "print (list3)"
   ]
  },
  {
   "cell_type": "code",
   "execution_count": 133,
   "metadata": {},
   "outputs": [
    {
     "data": {
      "text/html": [
       "<div>\n",
       "<style scoped>\n",
       "    .dataframe tbody tr th:only-of-type {\n",
       "        vertical-align: middle;\n",
       "    }\n",
       "\n",
       "    .dataframe tbody tr th {\n",
       "        vertical-align: top;\n",
       "    }\n",
       "\n",
       "    .dataframe thead th {\n",
       "        text-align: right;\n",
       "    }\n",
       "</style>\n",
       "<table border=\"1\" class=\"dataframe\">\n",
       "  <thead>\n",
       "    <tr style=\"text-align: right;\">\n",
       "      <th></th>\n",
       "      <th>RM</th>\n",
       "      <th>LSTAT</th>\n",
       "      <th>PTRATIO</th>\n",
       "      <th>MEDV</th>\n",
       "    </tr>\n",
       "  </thead>\n",
       "  <tbody>\n",
       "    <tr>\n",
       "      <th>0</th>\n",
       "      <td>6.575</td>\n",
       "      <td>4.98</td>\n",
       "      <td>15.3</td>\n",
       "      <td>504000.0</td>\n",
       "    </tr>\n",
       "    <tr>\n",
       "      <th>1</th>\n",
       "      <td>6.421</td>\n",
       "      <td>9.14</td>\n",
       "      <td>17.8</td>\n",
       "      <td>453600.0</td>\n",
       "    </tr>\n",
       "    <tr>\n",
       "      <th>2</th>\n",
       "      <td>7.185</td>\n",
       "      <td>4.03</td>\n",
       "      <td>17.8</td>\n",
       "      <td>728700.0</td>\n",
       "    </tr>\n",
       "    <tr>\n",
       "      <th>3</th>\n",
       "      <td>6.998</td>\n",
       "      <td>2.94</td>\n",
       "      <td>18.7</td>\n",
       "      <td>701400.0</td>\n",
       "    </tr>\n",
       "    <tr>\n",
       "      <th>4</th>\n",
       "      <td>7.147</td>\n",
       "      <td>5.33</td>\n",
       "      <td>18.7</td>\n",
       "      <td>760200.0</td>\n",
       "    </tr>\n",
       "  </tbody>\n",
       "</table>\n",
       "</div>"
      ],
      "text/plain": [
       "      RM  LSTAT  PTRATIO      MEDV\n",
       "0  6.575   4.98     15.3  504000.0\n",
       "1  6.421   9.14     17.8  453600.0\n",
       "2  7.185   4.03     17.8  728700.0\n",
       "3  6.998   2.94     18.7  701400.0\n",
       "4  7.147   5.33     18.7  760200.0"
      ]
     },
     "execution_count": 133,
     "metadata": {},
     "output_type": "execute_result"
    }
   ],
   "source": [
    "import pandas as pd\n",
    "\n",
    "boston = r'C:\\Users\\ANIMESH\\Documents\\Python Scripts\\datasets\\boston_housing.csv'\n",
    "boston = pd.read_csv (boston)\n",
    "cols = boston.columns\n",
    "boston.head ()"
   ]
  },
  {
   "cell_type": "code",
   "execution_count": 134,
   "metadata": {},
   "outputs": [
    {
     "name": "stdout",
     "output_type": "stream",
     "text": [
      "RM         4.142850e-01\n",
      "LSTAT      5.015458e+01\n",
      "PTRATIO    4.457450e+00\n",
      "MEDV       2.733741e+10\n",
      "dtype: float64\n"
     ]
    }
   ],
   "source": [
    "from pprint import pprint\n",
    "\n",
    "print (boston.var ())"
   ]
  },
  {
   "cell_type": "code",
   "execution_count": 128,
   "metadata": {},
   "outputs": [
    {
     "data": {
      "text/html": [
       "<div>\n",
       "<style scoped>\n",
       "    .dataframe tbody tr th:only-of-type {\n",
       "        vertical-align: middle;\n",
       "    }\n",
       "\n",
       "    .dataframe tbody tr th {\n",
       "        vertical-align: top;\n",
       "    }\n",
       "\n",
       "    .dataframe thead th {\n",
       "        text-align: right;\n",
       "    }\n",
       "</style>\n",
       "<table border=\"1\" class=\"dataframe\">\n",
       "  <thead>\n",
       "    <tr style=\"text-align: right;\">\n",
       "      <th></th>\n",
       "      <th>RM</th>\n",
       "      <th>LSTAT</th>\n",
       "      <th>PTRATIO</th>\n",
       "      <th>MEDV</th>\n",
       "    </tr>\n",
       "  </thead>\n",
       "  <tbody>\n",
       "    <tr>\n",
       "      <th>0</th>\n",
       "      <td>0.520554</td>\n",
       "      <td>-1.125077</td>\n",
       "      <td>-1.525083</td>\n",
       "      <td>0.300640</td>\n",
       "    </tr>\n",
       "    <tr>\n",
       "      <th>1</th>\n",
       "      <td>0.281048</td>\n",
       "      <td>-0.537070</td>\n",
       "      <td>-0.339748</td>\n",
       "      <td>-0.004498</td>\n",
       "    </tr>\n",
       "    <tr>\n",
       "      <th>2</th>\n",
       "      <td>1.469245</td>\n",
       "      <td>-1.259357</td>\n",
       "      <td>-0.339748</td>\n",
       "      <td>1.661047</td>\n",
       "    </tr>\n",
       "    <tr>\n",
       "      <th>3</th>\n",
       "      <td>1.178417</td>\n",
       "      <td>-1.413427</td>\n",
       "      <td>0.086973</td>\n",
       "      <td>1.495764</td>\n",
       "    </tr>\n",
       "    <tr>\n",
       "      <th>4</th>\n",
       "      <td>1.410146</td>\n",
       "      <td>-1.075605</td>\n",
       "      <td>0.086973</td>\n",
       "      <td>1.851759</td>\n",
       "    </tr>\n",
       "  </tbody>\n",
       "</table>\n",
       "</div>"
      ],
      "text/plain": [
       "         RM     LSTAT   PTRATIO      MEDV\n",
       "0  0.520554 -1.125077 -1.525083  0.300640\n",
       "1  0.281048 -0.537070 -0.339748 -0.004498\n",
       "2  1.469245 -1.259357 -0.339748  1.661047\n",
       "3  1.178417 -1.413427  0.086973  1.495764\n",
       "4  1.410146 -1.075605  0.086973  1.851759"
      ]
     },
     "execution_count": 128,
     "metadata": {},
     "output_type": "execute_result"
    }
   ],
   "source": [
    "from sklearn.preprocessing import StandardScaler\n",
    "import numpy as np\n",
    "\n",
    "scale = StandardScaler ()\n",
    "\n",
    "# MEDV = np.array (boston['MEDV']).reshape(-1, 1)\n",
    "\n",
    "# scale.fit (MEDV)\n",
    "\n",
    "# MEDV = scale.transform (MEDV)\n",
    "\n",
    "# MEDV.reshape(-1)\n",
    "\n",
    "# boston.iloc[:, -1] = MEDV\n",
    "\n",
    "scale.fit (boston)\n",
    "boston = scale.transform (boston)\n",
    "\n",
    "boston = pd.DataFrame (boston, columns = cols)\n",
    "boston.head ()"
   ]
  },
  {
   "cell_type": "code",
   "execution_count": 135,
   "metadata": {},
   "outputs": [
    {
     "name": "stdout",
     "output_type": "stream",
     "text": [
      "RM         4.142850e-01\n",
      "LSTAT      5.015458e+01\n",
      "PTRATIO    4.457450e+00\n",
      "MEDV       2.733741e+10\n",
      "dtype: float64\n"
     ]
    },
    {
     "data": {
      "image/png": "[encoded data removed]",
      "text/plain": [
       "<Figure size 432x288 with 1 Axes>"
      ]
     },
     "metadata": {},
     "output_type": "display_data"
    }
   ],
   "source": [
    "print (boston.var ())\n",
    "from matplotlib import pyplot as plt\n",
    "%matplotlib inline\n",
    "\n",
    "X, y = boston['RM'], boston['MEDV']\n",
    "plt.scatter (X, y, color = 'g')\n",
    "plt.title ('RM v/s MEDV')\n",
    "plt.xlabel ('Room Number')\n",
    "plt.ylabel ('MEDV (standardised)')\n",
    "plt.show ()"
   ]
  },
  {
   "cell_type": "code",
   "execution_count": 139,
   "metadata": {},
   "outputs": [
    {
     "data": {
      "image/png": "[encoded data removed]",
      "text/plain": [
       "<Figure size 432x288 with 1 Axes>"
      ]
     },
     "metadata": {},
     "output_type": "display_data"
    }
   ],
   "source": [
    "_3cols = boston[['RM', 'PTRATIO', 'MEDV']].values\n",
    "\n",
    "from mpl_toolkits.mplot3d import Axes3D\n",
    "\n",
    "fig = plt.figure ()\n",
    "ax = fig.add_subplot (111, projection = '3d')\n",
    "\n",
    "plt.scatter (_3cols[:, 0], _3cols[:, 1], _3cols[:, 2])\n",
    "plt.show ()"
   ]
  },
  {
   "cell_type": "code",
   "execution_count": 130,
   "metadata": {
    "scrolled": true
   },
   "outputs": [
    {
     "name": "stdout",
     "output_type": "stream",
     "text": [
      "(342, 3) (342,)\n",
      "(147, 3) (147,)\n",
      "[-0.91920803  0.00927762 -1.09535911  0.07358085  0.80719687]\n",
      "380   -1.670043\n",
      "275   -0.195209\n",
      "8     -0.652916\n",
      "67     0.046358\n",
      "337    0.364210\n",
      "Name: MEDV, dtype: float64\n",
      "0.727223212886\n"
     ]
    }
   ],
   "source": [
    "from sklearn.linear_model import LinearRegression\n",
    "from sklearn.model_selection import train_test_split\n",
    "\n",
    "lr = LinearRegression ()\n",
    "\n",
    "X, y = boston.loc[:, :'PTRATIO'], boston.loc[:, 'MEDV']\n",
    "\n",
    "X_train, X_test, y_train, y_test = train_test_split (X, y, random_state = 15, test_size = 0.3)\n",
    "\n",
    "print (X_train.shape, y_train.shape)\n",
    "print (X_test.shape, y_test.shape)\n",
    "\n",
    "lr.fit (X_train, y_train)\n",
    "preds = lr.predict (X_test)\n",
    "score = lr.score (X_test, y_test)\n",
    "\n",
    "print (preds[:5])\n",
    "print (y_test[:5])\n",
    "print (score)"
   ]
  },
  {
   "cell_type": "code",
   "execution_count": 131,
   "metadata": {},
   "outputs": [
    {
     "name": "stdout",
     "output_type": "stream",
     "text": [
      "[ 0.78146008  0.64087531  0.5639302   0.5462187   0.62361632 -0.29916048\n",
      " -0.5298484   0.38041547] 0.338438400789\n"
     ]
    }
   ],
   "source": [
    "from sklearn.model_selection import cross_val_score\n",
    "\n",
    "scores = cross_val_score (lr, boston.loc[:, :'PTRATIO'], boston.loc[:, 'MEDV'], cv = 8)\n",
    "print (scores, scores.mean ())"
   ]
  }
 ],
 "metadata": {
  "kernelspec": {
   "display_name": "Python 3",
   "language": "python",
   "name": "python3"
  },
  "language_info": {
   "codemirror_mode": {
    "name": "ipython",
    "version": 3
   },
   "file_extension": ".py",
   "mimetype": "text/x-python",
   "name": "python",
   "nbconvert_exporter": "python",
   "pygments_lexer": "ipython3",
   "version": "3.7.0"
  }
 },
 "nbformat": 4,
 "nbformat_minor": 2
}
