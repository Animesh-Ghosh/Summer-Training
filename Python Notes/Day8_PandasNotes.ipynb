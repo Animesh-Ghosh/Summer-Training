{
 "cells": [
  {
   "cell_type": "markdown",
   "metadata": {},
   "source": [
    "### Importing pandas library"
   ]
  },
  {
   "cell_type": "code",
   "execution_count": 1,
   "metadata": {},
   "outputs": [],
   "source": [
    "import pandas as pd\n",
    "%matplotlib inline"
   ]
  },
  {
   "cell_type": "markdown",
   "metadata": {},
   "source": [
    "#### Reading and printing the file"
   ]
  },
  {
   "cell_type": "code",
   "execution_count": 2,
   "metadata": {
    "scrolled": true
   },
   "outputs": [
    {
     "data": {
      "text/html": [
       "<div>\n",
       "<style scoped>\n",
       "    .dataframe tbody tr th:only-of-type {\n",
       "        vertical-align: middle;\n",
       "    }\n",
       "\n",
       "    .dataframe tbody tr th {\n",
       "        vertical-align: top;\n",
       "    }\n",
       "\n",
       "    .dataframe thead th {\n",
       "        text-align: right;\n",
       "    }\n",
       "</style>\n",
       "<table border=\"1\" class=\"dataframe\">\n",
       "  <thead>\n",
       "    <tr style=\"text-align: right;\">\n",
       "      <th></th>\n",
       "      <th>tripduration</th>\n",
       "      <th>starttime</th>\n",
       "      <th>stoptime</th>\n",
       "      <th>start station id</th>\n",
       "      <th>start station name</th>\n",
       "      <th>start station latitude</th>\n",
       "      <th>start station longitude</th>\n",
       "      <th>end station id</th>\n",
       "      <th>end station name</th>\n",
       "      <th>end station latitude</th>\n",
       "      <th>end station longitude</th>\n",
       "      <th>bikeid</th>\n",
       "      <th>usertype</th>\n",
       "      <th>birth year</th>\n",
       "      <th>gender</th>\n",
       "    </tr>\n",
       "  </thead>\n",
       "  <tbody>\n",
       "    <tr>\n",
       "      <th>0</th>\n",
       "      <td>839</td>\n",
       "      <td>1/1/2016 00:09:55</td>\n",
       "      <td>1/1/2016 00:23:54</td>\n",
       "      <td>532</td>\n",
       "      <td>S 5 Pl &amp; S 4 St</td>\n",
       "      <td>40.710451</td>\n",
       "      <td>-73.960876</td>\n",
       "      <td>401</td>\n",
       "      <td>Allen St &amp; Rivington St</td>\n",
       "      <td>40.720196</td>\n",
       "      <td>-73.989978</td>\n",
       "      <td>17109</td>\n",
       "      <td>Customer</td>\n",
       "      <td>NaN</td>\n",
       "      <td>0</td>\n",
       "    </tr>\n",
       "    <tr>\n",
       "      <th>1</th>\n",
       "      <td>686</td>\n",
       "      <td>1/1/2016 00:21:17</td>\n",
       "      <td>1/1/2016 00:32:44</td>\n",
       "      <td>3143</td>\n",
       "      <td>5 Ave &amp; E 78 St</td>\n",
       "      <td>40.776829</td>\n",
       "      <td>-73.963888</td>\n",
       "      <td>3132</td>\n",
       "      <td>E 59 St &amp; Madison Ave</td>\n",
       "      <td>40.763505</td>\n",
       "      <td>-73.971092</td>\n",
       "      <td>23514</td>\n",
       "      <td>Subscriber</td>\n",
       "      <td>1960.0</td>\n",
       "      <td>1</td>\n",
       "    </tr>\n",
       "    <tr>\n",
       "      <th>2</th>\n",
       "      <td>315</td>\n",
       "      <td>1/1/2016 00:33:11</td>\n",
       "      <td>1/1/2016 00:38:26</td>\n",
       "      <td>3164</td>\n",
       "      <td>Columbus Ave &amp; W 72 St</td>\n",
       "      <td>40.777057</td>\n",
       "      <td>-73.978985</td>\n",
       "      <td>3178</td>\n",
       "      <td>Riverside Dr &amp; W 78 St</td>\n",
       "      <td>40.784145</td>\n",
       "      <td>-73.983625</td>\n",
       "      <td>14536</td>\n",
       "      <td>Subscriber</td>\n",
       "      <td>1971.0</td>\n",
       "      <td>1</td>\n",
       "    </tr>\n",
       "    <tr>\n",
       "      <th>3</th>\n",
       "      <td>739</td>\n",
       "      <td>1/1/2016 00:40:51</td>\n",
       "      <td>1/1/2016 00:53:11</td>\n",
       "      <td>223</td>\n",
       "      <td>W 13 St &amp; 7 Ave</td>\n",
       "      <td>40.737815</td>\n",
       "      <td>-73.999947</td>\n",
       "      <td>276</td>\n",
       "      <td>Duane St &amp; Greenwich St</td>\n",
       "      <td>40.717488</td>\n",
       "      <td>-74.010455</td>\n",
       "      <td>24062</td>\n",
       "      <td>Subscriber</td>\n",
       "      <td>1969.0</td>\n",
       "      <td>1</td>\n",
       "    </tr>\n",
       "    <tr>\n",
       "      <th>4</th>\n",
       "      <td>1253</td>\n",
       "      <td>1/1/2016 00:44:16</td>\n",
       "      <td>1/1/2016 01:05:09</td>\n",
       "      <td>484</td>\n",
       "      <td>W 44 St &amp; 5 Ave</td>\n",
       "      <td>40.755003</td>\n",
       "      <td>-73.980144</td>\n",
       "      <td>151</td>\n",
       "      <td>Cleveland Pl &amp; Spring St</td>\n",
       "      <td>40.722104</td>\n",
       "      <td>-73.997249</td>\n",
       "      <td>16380</td>\n",
       "      <td>Customer</td>\n",
       "      <td>NaN</td>\n",
       "      <td>0</td>\n",
       "    </tr>\n",
       "  </tbody>\n",
       "</table>\n",
       "</div>"
      ],
      "text/plain": [
       "   tripduration          starttime           stoptime  start station id  \\\n",
       "0           839  1/1/2016 00:09:55  1/1/2016 00:23:54               532   \n",
       "1           686  1/1/2016 00:21:17  1/1/2016 00:32:44              3143   \n",
       "2           315  1/1/2016 00:33:11  1/1/2016 00:38:26              3164   \n",
       "3           739  1/1/2016 00:40:51  1/1/2016 00:53:11               223   \n",
       "4          1253  1/1/2016 00:44:16  1/1/2016 01:05:09               484   \n",
       "\n",
       "       start station name  start station latitude  start station longitude  \\\n",
       "0         S 5 Pl & S 4 St               40.710451               -73.960876   \n",
       "1         5 Ave & E 78 St               40.776829               -73.963888   \n",
       "2  Columbus Ave & W 72 St               40.777057               -73.978985   \n",
       "3         W 13 St & 7 Ave               40.737815               -73.999947   \n",
       "4         W 44 St & 5 Ave               40.755003               -73.980144   \n",
       "\n",
       "   end station id          end station name  end station latitude  \\\n",
       "0             401   Allen St & Rivington St             40.720196   \n",
       "1            3132     E 59 St & Madison Ave             40.763505   \n",
       "2            3178    Riverside Dr & W 78 St             40.784145   \n",
       "3             276   Duane St & Greenwich St             40.717488   \n",
       "4             151  Cleveland Pl & Spring St             40.722104   \n",
       "\n",
       "   end station longitude  bikeid    usertype  birth year  gender  \n",
       "0             -73.989978   17109    Customer         NaN       0  \n",
       "1             -73.971092   23514  Subscriber      1960.0       1  \n",
       "2             -73.983625   14536  Subscriber      1971.0       1  \n",
       "3             -74.010455   24062  Subscriber      1969.0       1  \n",
       "4             -73.997249   16380    Customer         NaN       0  "
      ]
     },
     "execution_count": 2,
     "metadata": {},
     "output_type": "execute_result"
    }
   ],
   "source": [
    "data = pd.read_csv(r'C:\\Users\\ANIMESH\\Documents\\Python Scripts\\bike-share-project\\data\\NYC-CitiBike-2016.csv')\n",
    "# had saved the bike-share project data in another directory so had to giev the full file path\n",
    "data.head ()"
   ]
  },
  {
   "cell_type": "markdown",
   "metadata": {},
   "source": [
    "### Everything is so much earsier with pandas...\n",
    "\n",
    "1. Like working with data Eg. no need to type caste anything, works like a dictionary"
   ]
  },
  {
   "cell_type": "code",
   "execution_count": 3,
   "metadata": {},
   "outputs": [
    {
     "name": "stdout",
     "output_type": "stream",
     "text": [
      "tripduration                 int64\n",
      "starttime                   object\n",
      "stoptime                    object\n",
      "start station id             int64\n",
      "start station name          object\n",
      "start station latitude     float64\n",
      "start station longitude    float64\n",
      "end station id               int64\n",
      "end station name            object\n",
      "end station latitude       float64\n",
      "end station longitude      float64\n",
      "bikeid                       int64\n",
      "usertype                    object\n",
      "birth year                 float64\n",
      "gender                       int64\n",
      "dtype: object\n",
      "0     839\n",
      "1     686\n",
      "2     315\n",
      "3     739\n",
      "4    1253\n",
      "Name: tripduration, dtype: int64\n",
      "0    13.983333\n",
      "1    11.433333\n",
      "2     5.250000\n",
      "3    12.316667\n",
      "4    20.883333\n",
      "Name: tripduration, dtype: float64\n",
      "0    13.983333\n",
      "1    11.433333\n",
      "2     5.250000\n",
      "3    12.316667\n",
      "4    20.883333\n",
      "Name: tripduration, dtype: float64\n"
     ]
    }
   ],
   "source": [
    "print (data.dtypes)\n",
    "# print (data['tripduration'])\n",
    "print (data.head ()['tripduration']) # tripduration in seconds (for NYC)\n",
    "new_data = data['tripduration']/60\n",
    "print (data.head ()['tripduration']/60) # tripduration in mins (for NYC)\n",
    "print (new_data.head ())"
   ]
  },
  {
   "cell_type": "markdown",
   "metadata": {},
   "source": [
    "2. Can get useful information about the data by using describe () method"
   ]
  },
  {
   "cell_type": "code",
   "execution_count": 4,
   "metadata": {},
   "outputs": [
    {
     "data": {
      "text/html": [
       "<div>\n",
       "<style scoped>\n",
       "    .dataframe tbody tr th:only-of-type {\n",
       "        vertical-align: middle;\n",
       "    }\n",
       "\n",
       "    .dataframe tbody tr th {\n",
       "        vertical-align: top;\n",
       "    }\n",
       "\n",
       "    .dataframe thead th {\n",
       "        text-align: right;\n",
       "    }\n",
       "</style>\n",
       "<table border=\"1\" class=\"dataframe\">\n",
       "  <thead>\n",
       "    <tr style=\"text-align: right;\">\n",
       "      <th></th>\n",
       "      <th>tripduration</th>\n",
       "      <th>start station id</th>\n",
       "      <th>start station latitude</th>\n",
       "      <th>start station longitude</th>\n",
       "      <th>end station id</th>\n",
       "      <th>end station latitude</th>\n",
       "      <th>end station longitude</th>\n",
       "      <th>bikeid</th>\n",
       "      <th>birth year</th>\n",
       "      <th>gender</th>\n",
       "    </tr>\n",
       "  </thead>\n",
       "  <tbody>\n",
       "    <tr>\n",
       "      <th>count</th>\n",
       "      <td>2.767980e+05</td>\n",
       "      <td>276798.000000</td>\n",
       "      <td>276798.000000</td>\n",
       "      <td>276798.000000</td>\n",
       "      <td>276798.000000</td>\n",
       "      <td>276798.000000</td>\n",
       "      <td>276798.000000</td>\n",
       "      <td>276798.000000</td>\n",
       "      <td>245137.000000</td>\n",
       "      <td>276798.000000</td>\n",
       "    </tr>\n",
       "    <tr>\n",
       "      <th>mean</th>\n",
       "      <td>9.487556e+02</td>\n",
       "      <td>1066.602945</td>\n",
       "      <td>40.737666</td>\n",
       "      <td>-73.986233</td>\n",
       "      <td>1049.084433</td>\n",
       "      <td>40.736912</td>\n",
       "      <td>-73.985645</td>\n",
       "      <td>21015.015972</td>\n",
       "      <td>1977.683385</td>\n",
       "      <td>1.099202</td>\n",
       "    </tr>\n",
       "    <tr>\n",
       "      <th>std</th>\n",
       "      <td>6.231653e+03</td>\n",
       "      <td>1185.223048</td>\n",
       "      <td>0.024515</td>\n",
       "      <td>0.016319</td>\n",
       "      <td>1174.303122</td>\n",
       "      <td>0.136310</td>\n",
       "      <td>0.244122</td>\n",
       "      <td>3616.241267</td>\n",
       "      <td>11.707865</td>\n",
       "      <td>0.568291</td>\n",
       "    </tr>\n",
       "    <tr>\n",
       "      <th>min</th>\n",
       "      <td>6.100000e+01</td>\n",
       "      <td>72.000000</td>\n",
       "      <td>40.445350</td>\n",
       "      <td>-74.017134</td>\n",
       "      <td>72.000000</td>\n",
       "      <td>0.000000</td>\n",
       "      <td>-74.033759</td>\n",
       "      <td>14529.000000</td>\n",
       "      <td>1885.000000</td>\n",
       "      <td>0.000000</td>\n",
       "    </tr>\n",
       "    <tr>\n",
       "      <th>25%</th>\n",
       "      <td>3.820000e+02</td>\n",
       "      <td>339.000000</td>\n",
       "      <td>40.720828</td>\n",
       "      <td>-73.997249</td>\n",
       "      <td>336.000000</td>\n",
       "      <td>40.720664</td>\n",
       "      <td>-73.997901</td>\n",
       "      <td>17852.000000</td>\n",
       "      <td>1970.000000</td>\n",
       "      <td>1.000000</td>\n",
       "    </tr>\n",
       "    <tr>\n",
       "      <th>50%</th>\n",
       "      <td>6.310000e+02</td>\n",
       "      <td>465.000000</td>\n",
       "      <td>40.739017</td>\n",
       "      <td>-73.988084</td>\n",
       "      <td>462.000000</td>\n",
       "      <td>40.739017</td>\n",
       "      <td>-73.988557</td>\n",
       "      <td>21263.000000</td>\n",
       "      <td>1980.000000</td>\n",
       "      <td>1.000000</td>\n",
       "    </tr>\n",
       "    <tr>\n",
       "      <th>75%</th>\n",
       "      <td>1.070000e+03</td>\n",
       "      <td>2003.000000</td>\n",
       "      <td>40.755003</td>\n",
       "      <td>-73.977225</td>\n",
       "      <td>546.000000</td>\n",
       "      <td>40.754666</td>\n",
       "      <td>-73.977387</td>\n",
       "      <td>24016.000000</td>\n",
       "      <td>1987.000000</td>\n",
       "      <td>1.000000</td>\n",
       "    </tr>\n",
       "    <tr>\n",
       "      <th>max</th>\n",
       "      <td>2.363758e+06</td>\n",
       "      <td>3440.000000</td>\n",
       "      <td>40.804213</td>\n",
       "      <td>-73.929891</td>\n",
       "      <td>3440.000000</td>\n",
       "      <td>40.804213</td>\n",
       "      <td>0.000000</td>\n",
       "      <td>27327.000000</td>\n",
       "      <td>2000.000000</td>\n",
       "      <td>2.000000</td>\n",
       "    </tr>\n",
       "  </tbody>\n",
       "</table>\n",
       "</div>"
      ],
      "text/plain": [
       "       tripduration  start station id  start station latitude  \\\n",
       "count  2.767980e+05     276798.000000           276798.000000   \n",
       "mean   9.487556e+02       1066.602945               40.737666   \n",
       "std    6.231653e+03       1185.223048                0.024515   \n",
       "min    6.100000e+01         72.000000               40.445350   \n",
       "25%    3.820000e+02        339.000000               40.720828   \n",
       "50%    6.310000e+02        465.000000               40.739017   \n",
       "75%    1.070000e+03       2003.000000               40.755003   \n",
       "max    2.363758e+06       3440.000000               40.804213   \n",
       "\n",
       "       start station longitude  end station id  end station latitude  \\\n",
       "count            276798.000000   276798.000000         276798.000000   \n",
       "mean                -73.986233     1049.084433             40.736912   \n",
       "std                   0.016319     1174.303122              0.136310   \n",
       "min                 -74.017134       72.000000              0.000000   \n",
       "25%                 -73.997249      336.000000             40.720664   \n",
       "50%                 -73.988084      462.000000             40.739017   \n",
       "75%                 -73.977225      546.000000             40.754666   \n",
       "max                 -73.929891     3440.000000             40.804213   \n",
       "\n",
       "       end station longitude         bikeid     birth year         gender  \n",
       "count          276798.000000  276798.000000  245137.000000  276798.000000  \n",
       "mean              -73.985645   21015.015972    1977.683385       1.099202  \n",
       "std                 0.244122    3616.241267      11.707865       0.568291  \n",
       "min               -74.033759   14529.000000    1885.000000       0.000000  \n",
       "25%               -73.997901   17852.000000    1970.000000       1.000000  \n",
       "50%               -73.988557   21263.000000    1980.000000       1.000000  \n",
       "75%               -73.977387   24016.000000    1987.000000       1.000000  \n",
       "max                 0.000000   27327.000000    2000.000000       2.000000  "
      ]
     },
     "execution_count": 4,
     "metadata": {},
     "output_type": "execute_result"
    }
   ],
   "source": [
    "data.describe ()"
   ]
  },
  {
   "cell_type": "markdown",
   "metadata": {},
   "source": [
    "3. Plotting can be done just like in matplotlib.pyplot"
   ]
  },
  {
   "cell_type": "code",
   "execution_count": 5,
   "metadata": {},
   "outputs": [
    {
     "data": {
      "text/plain": [
       "<matplotlib.axes._subplots.AxesSubplot at 0x1eda627aa20>"
      ]
     },
     "execution_count": 5,
     "metadata": {},
     "output_type": "execute_result"
    },
    {
     "data": {
      "image/png": "[encoded data removed]",
      "text/plain": [
       "<Figure size 432x288 with 1 Axes>"
      ]
     },
     "metadata": {},
     "output_type": "display_data"
    }
   ],
   "source": [
    "# review prevouis cell for new_data\n",
    "new_data.plot.hist (bins = range (0, 75, 5))"
   ]
  },
  {
   "cell_type": "code",
   "execution_count": 6,
   "metadata": {},
   "outputs": [
    {
     "data": {
      "text/plain": [
       "<matplotlib.axes._subplots.AxesSubplot at 0x1eda7e632b0>"
      ]
     },
     "execution_count": 6,
     "metadata": {},
     "output_type": "execute_result"
    },
    {
     "data": {
      "image/png": "[encoded data removed]",
      "text/plain": [
       "<Figure size 432x288 with 1 Axes>"
      ]
     },
     "metadata": {},
     "output_type": "display_data"
    }
   ],
   "source": [
    "# plotting can be done this other alternative way as well\n",
    "new_data.plot (kind = 'hist', bins = range (0, 75, 5))"
   ]
  },
  {
   "cell_type": "markdown",
   "metadata": {},
   "source": [
    "#### Wondering how we'll plot other types of graphs in pandas..."
   ]
  },
  {
   "cell_type": "markdown",
   "metadata": {},
   "source": [
    "### DataFrames\n",
    "\n",
    "2D data structure provided in pandas. Can take different types of values.\n",
    "\n",
    "Can be created using lists and dictionaries..."
   ]
  },
  {
   "cell_type": "code",
   "execution_count": 7,
   "metadata": {
    "scrolled": true
   },
   "outputs": [
    {
     "name": "stdout",
     "output_type": "stream",
     "text": [
      "[1, 2, 'k', 56, ' mno']\n"
     ]
    },
    {
     "data": {
      "text/html": [
       "<div>\n",
       "<style scoped>\n",
       "    .dataframe tbody tr th:only-of-type {\n",
       "        vertical-align: middle;\n",
       "    }\n",
       "\n",
       "    .dataframe tbody tr th {\n",
       "        vertical-align: top;\n",
       "    }\n",
       "\n",
       "    .dataframe thead th {\n",
       "        text-align: right;\n",
       "    }\n",
       "</style>\n",
       "<table border=\"1\" class=\"dataframe\">\n",
       "  <thead>\n",
       "    <tr style=\"text-align: right;\">\n",
       "      <th></th>\n",
       "      <th>0</th>\n",
       "    </tr>\n",
       "  </thead>\n",
       "  <tbody>\n",
       "    <tr>\n",
       "      <th>0</th>\n",
       "      <td>1</td>\n",
       "    </tr>\n",
       "    <tr>\n",
       "      <th>1</th>\n",
       "      <td>2</td>\n",
       "    </tr>\n",
       "    <tr>\n",
       "      <th>2</th>\n",
       "      <td>k</td>\n",
       "    </tr>\n",
       "    <tr>\n",
       "      <th>3</th>\n",
       "      <td>56</td>\n",
       "    </tr>\n",
       "    <tr>\n",
       "      <th>4</th>\n",
       "      <td>mno</td>\n",
       "    </tr>\n",
       "  </tbody>\n",
       "</table>\n",
       "</div>"
      ],
      "text/plain": [
       "      0\n",
       "0     1\n",
       "1     2\n",
       "2     k\n",
       "3    56\n",
       "4   mno"
      ]
     },
     "execution_count": 7,
     "metadata": {},
     "output_type": "execute_result"
    }
   ],
   "source": [
    "data = [1, 2, 'k', 56, ' mno']\n",
    "print (data)\n",
    "new_dfList = pd.DataFrame (data)\n",
    "new_dfList"
   ]
  },
  {
   "cell_type": "markdown",
   "metadata": {},
   "source": [
    "*Note*: range () can't be passed since it doesn't return a list. BUT we can use it like this..."
   ]
  },
  {
   "cell_type": "code",
   "execution_count": 8,
   "metadata": {},
   "outputs": [
    {
     "name": "stdout",
     "output_type": "stream",
     "text": [
      "[0, 5, 10, 15, 20, 25]\n"
     ]
    },
    {
     "data": {
      "text/html": [
       "<div>\n",
       "<style scoped>\n",
       "    .dataframe tbody tr th:only-of-type {\n",
       "        vertical-align: middle;\n",
       "    }\n",
       "\n",
       "    .dataframe tbody tr th {\n",
       "        vertical-align: top;\n",
       "    }\n",
       "\n",
       "    .dataframe thead th {\n",
       "        text-align: right;\n",
       "    }\n",
       "</style>\n",
       "<table border=\"1\" class=\"dataframe\">\n",
       "  <thead>\n",
       "    <tr style=\"text-align: right;\">\n",
       "      <th></th>\n",
       "      <th>0</th>\n",
       "    </tr>\n",
       "  </thead>\n",
       "  <tbody>\n",
       "    <tr>\n",
       "      <th>0</th>\n",
       "      <td>0</td>\n",
       "    </tr>\n",
       "    <tr>\n",
       "      <th>1</th>\n",
       "      <td>5</td>\n",
       "    </tr>\n",
       "    <tr>\n",
       "      <th>2</th>\n",
       "      <td>10</td>\n",
       "    </tr>\n",
       "    <tr>\n",
       "      <th>3</th>\n",
       "      <td>15</td>\n",
       "    </tr>\n",
       "    <tr>\n",
       "      <th>4</th>\n",
       "      <td>20</td>\n",
       "    </tr>\n",
       "    <tr>\n",
       "      <th>5</th>\n",
       "      <td>25</td>\n",
       "    </tr>\n",
       "  </tbody>\n",
       "</table>\n",
       "</div>"
      ],
      "text/plain": [
       "    0\n",
       "0   0\n",
       "1   5\n",
       "2  10\n",
       "3  15\n",
       "4  20\n",
       "5  25"
      ]
     },
     "execution_count": 8,
     "metadata": {},
     "output_type": "execute_result"
    }
   ],
   "source": [
    "data = list (range (0, 26, 5)) # and that's how..!\n",
    "print (data)\n",
    "new_dfList = pd.DataFrame (data)\n",
    "new_dfList\n",
    "# new_dfList.describe ()"
   ]
  },
  {
   "cell_type": "code",
   "execution_count": 9,
   "metadata": {},
   "outputs": [
    {
     "data": {
      "text/html": [
       "<div>\n",
       "<style scoped>\n",
       "    .dataframe tbody tr th:only-of-type {\n",
       "        vertical-align: middle;\n",
       "    }\n",
       "\n",
       "    .dataframe tbody tr th {\n",
       "        vertical-align: top;\n",
       "    }\n",
       "\n",
       "    .dataframe thead th {\n",
       "        text-align: right;\n",
       "    }\n",
       "</style>\n",
       "<table border=\"1\" class=\"dataframe\">\n",
       "  <thead>\n",
       "    <tr style=\"text-align: right;\">\n",
       "      <th></th>\n",
       "      <th>Letters</th>\n",
       "      <th>ASCII</th>\n",
       "      <th>Used?</th>\n",
       "    </tr>\n",
       "  </thead>\n",
       "  <tbody>\n",
       "    <tr>\n",
       "      <th>0</th>\n",
       "      <td>a</td>\n",
       "      <td>97</td>\n",
       "      <td>occasionaly</td>\n",
       "    </tr>\n",
       "    <tr>\n",
       "      <th>1</th>\n",
       "      <td>b</td>\n",
       "      <td>98</td>\n",
       "      <td>it IS the next character</td>\n",
       "    </tr>\n",
       "    <tr>\n",
       "      <th>2</th>\n",
       "      <td>c</td>\n",
       "      <td>99</td>\n",
       "      <td>???</td>\n",
       "    </tr>\n",
       "    <tr>\n",
       "      <th>3</th>\n",
       "      <td>d</td>\n",
       "      <td>100</td>\n",
       "      <td>who? what?</td>\n",
       "    </tr>\n",
       "    <tr>\n",
       "      <th>4</th>\n",
       "      <td>e</td>\n",
       "      <td>101</td>\n",
       "      <td>no one does</td>\n",
       "    </tr>\n",
       "  </tbody>\n",
       "</table>\n",
       "</div>"
      ],
      "text/plain": [
       "  Letters  ASCII                     Used?\n",
       "0       a     97               occasionaly\n",
       "1       b     98  it IS the next character\n",
       "2       c     99                       ???\n",
       "3       d    100                who? what?\n",
       "4       e    101               no one does"
      ]
     },
     "execution_count": 9,
     "metadata": {},
     "output_type": "execute_result"
    }
   ],
   "source": [
    "my_dict = {'Letters': ['a', 'b', 'c', 'd', 'e'], 'ASCII': [97, 98, 99, 100, 101], 'Used?': ['occasionaly', 'it IS the next character', '???', 'who? what?', 'no one does']}\n",
    "new_dfDict = pd.DataFrame (my_dict)\n",
    "new_dfDict "
   ]
  },
  {
   "cell_type": "markdown",
   "metadata": {},
   "source": [
    "*Note*: When passing a dictionary object to DataFrame (), remeber to have array-like object in the value part. Else will throw all sorts of errors..."
   ]
  },
  {
   "cell_type": "markdown",
   "metadata": {},
   "source": [
    "### Another method of creating a DataFrame"
   ]
  },
  {
   "cell_type": "code",
   "execution_count": 10,
   "metadata": {},
   "outputs": [
    {
     "name": "stderr",
     "output_type": "stream",
     "text": [
      "C:\\Users\\ANIMESH\\Anaconda3\\lib\\site-packages\\ipykernel_launcher.py:7: FutureWarning: from_items is deprecated. Please use DataFrame.from_dict(dict(items), ...) instead. DataFrame.from_dict(OrderedDict(items)) may be used to preserve the key order.\n",
      "  import sys\n"
     ]
    },
    {
     "data": {
      "text/html": [
       "<div>\n",
       "<style scoped>\n",
       "    .dataframe tbody tr th:only-of-type {\n",
       "        vertical-align: middle;\n",
       "    }\n",
       "\n",
       "    .dataframe tbody tr th {\n",
       "        vertical-align: top;\n",
       "    }\n",
       "\n",
       "    .dataframe thead th {\n",
       "        text-align: right;\n",
       "    }\n",
       "</style>\n",
       "<table border=\"1\" class=\"dataframe\">\n",
       "  <thead>\n",
       "    <tr style=\"text-align: right;\">\n",
       "      <th></th>\n",
       "      <th>Letters</th>\n",
       "      <th>ASCII</th>\n",
       "      <th>Used?</th>\n",
       "    </tr>\n",
       "  </thead>\n",
       "  <tbody>\n",
       "    <tr>\n",
       "      <th>0</th>\n",
       "      <td>a</td>\n",
       "      <td>97</td>\n",
       "      <td>occasionaly</td>\n",
       "    </tr>\n",
       "    <tr>\n",
       "      <th>1</th>\n",
       "      <td>b</td>\n",
       "      <td>98</td>\n",
       "      <td>it IS the next character</td>\n",
       "    </tr>\n",
       "    <tr>\n",
       "      <th>2</th>\n",
       "      <td>c</td>\n",
       "      <td>99</td>\n",
       "      <td>???</td>\n",
       "    </tr>\n",
       "    <tr>\n",
       "      <th>3</th>\n",
       "      <td>d</td>\n",
       "      <td>100</td>\n",
       "      <td>who? what?</td>\n",
       "    </tr>\n",
       "    <tr>\n",
       "      <th>4</th>\n",
       "      <td>e</td>\n",
       "      <td>101</td>\n",
       "      <td>no one cares</td>\n",
       "    </tr>\n",
       "  </tbody>\n",
       "</table>\n",
       "</div>"
      ],
      "text/plain": [
       "  Letters  ASCII                     Used?\n",
       "0       a     97               occasionaly\n",
       "1       b     98  it IS the next character\n",
       "2       c     99                       ???\n",
       "3       d    100                who? what?\n",
       "4       e    101              no one cares"
      ]
     },
     "execution_count": 10,
     "metadata": {},
     "output_type": "execute_result"
    }
   ],
   "source": [
    "# from a list using .from_items ()\n",
    "new_list = [('Letters', ('a', 'b', 'c', 'd', 'e')), \n",
    "            ('ASCII', (97, 98, 99, 100, 101)), \n",
    "            ('Used?', ('occasionaly', 'it IS the next character', '???', 'who? what?', 'no one cares'))]\n",
    "labels = ['Letters', 'ASCII', 'Used?']\n",
    "# print (new_list)\n",
    "new_df = pd.DataFrame.from_items (new_list)\n",
    "new_df"
   ]
  },
  {
   "cell_type": "code",
   "execution_count": 11,
   "metadata": {},
   "outputs": [
    {
     "name": "stdout",
     "output_type": "stream",
     "text": [
      "[('a', 97, 'occasionaly'), ('b', 98, 'it IS the next character'), ('c', 99, '???'), ('d', 100, 'who? what?'), ('e', 101, 'no one cares')]\n"
     ]
    },
    {
     "data": {
      "text/html": [
       "<div>\n",
       "<style scoped>\n",
       "    .dataframe tbody tr th:only-of-type {\n",
       "        vertical-align: middle;\n",
       "    }\n",
       "\n",
       "    .dataframe tbody tr th {\n",
       "        vertical-align: top;\n",
       "    }\n",
       "\n",
       "    .dataframe thead th {\n",
       "        text-align: right;\n",
       "    }\n",
       "</style>\n",
       "<table border=\"1\" class=\"dataframe\">\n",
       "  <thead>\n",
       "    <tr style=\"text-align: right;\">\n",
       "      <th></th>\n",
       "      <th>Letters</th>\n",
       "      <th>ASCII</th>\n",
       "      <th>Used?</th>\n",
       "    </tr>\n",
       "  </thead>\n",
       "  <tbody>\n",
       "    <tr>\n",
       "      <th>0</th>\n",
       "      <td>a</td>\n",
       "      <td>97</td>\n",
       "      <td>occasionaly</td>\n",
       "    </tr>\n",
       "    <tr>\n",
       "      <th>1</th>\n",
       "      <td>b</td>\n",
       "      <td>98</td>\n",
       "      <td>it IS the next character</td>\n",
       "    </tr>\n",
       "    <tr>\n",
       "      <th>2</th>\n",
       "      <td>c</td>\n",
       "      <td>99</td>\n",
       "      <td>???</td>\n",
       "    </tr>\n",
       "    <tr>\n",
       "      <th>3</th>\n",
       "      <td>d</td>\n",
       "      <td>100</td>\n",
       "      <td>who? what?</td>\n",
       "    </tr>\n",
       "    <tr>\n",
       "      <th>4</th>\n",
       "      <td>e</td>\n",
       "      <td>101</td>\n",
       "      <td>no one cares</td>\n",
       "    </tr>\n",
       "  </tbody>\n",
       "</table>\n",
       "</div>"
      ],
      "text/plain": [
       "  Letters  ASCII                     Used?\n",
       "0       a     97               occasionaly\n",
       "1       b     98  it IS the next character\n",
       "2       c     99                       ???\n",
       "3       d    100                who? what?\n",
       "4       e    101              no one cares"
      ]
     },
     "execution_count": 11,
     "metadata": {},
     "output_type": "execute_result"
    }
   ],
   "source": [
    "# from a list using .from_records\n",
    "new_list = [('a', 97, 'occasionaly'),\n",
    "            ('b', 98, 'it IS the next character'),\n",
    "            ('c', 99, '???'),\n",
    "            ('d', 100, 'who? what?'),\n",
    "            ('e', 101, 'no one cares')]\n",
    "labels = ['Letters', 'ASCII', 'Used?']\n",
    "print (new_list)\n",
    "new_df = pd.DataFrame.from_records (new_list, columns = labels)\n",
    "new_df"
   ]
  },
  {
   "cell_type": "markdown",
   "metadata": {},
   "source": [
    "*Note*: .from_items and possibly from_records is deprecated now, ie not supported. Warning says to use .from_dict to preserve key order.\n",
    "\n",
    ".from_records didn't give any warnings... that's good, I guess."
   ]
  },
  {
   "cell_type": "markdown",
   "metadata": {},
   "source": [
    "#### Reading from an example csv file"
   ]
  },
  {
   "cell_type": "code",
   "execution_count": 12,
   "metadata": {
    "scrolled": true
   },
   "outputs": [
    {
     "name": "stdout",
     "output_type": "stream",
     "text": [
      "Index(['Trip ID', 'Duration', 'Start Date', 'Start Station', 'Start Terminal',\n",
      "       'End Date', 'End Station', 'End Terminal', 'Bike #', 'Subscriber Type',\n",
      "       'Zip Code'],\n",
      "      dtype='object')\n"
     ]
    },
    {
     "data": {
      "text/html": [
       "<div>\n",
       "<style scoped>\n",
       "    .dataframe tbody tr th:only-of-type {\n",
       "        vertical-align: middle;\n",
       "    }\n",
       "\n",
       "    .dataframe tbody tr th {\n",
       "        vertical-align: top;\n",
       "    }\n",
       "\n",
       "    .dataframe thead th {\n",
       "        text-align: right;\n",
       "    }\n",
       "</style>\n",
       "<table border=\"1\" class=\"dataframe\">\n",
       "  <thead>\n",
       "    <tr style=\"text-align: right;\">\n",
       "      <th></th>\n",
       "      <th>Trip ID</th>\n",
       "      <th>Duration</th>\n",
       "      <th>Start Date</th>\n",
       "      <th>Start Station</th>\n",
       "      <th>Start Terminal</th>\n",
       "      <th>End Date</th>\n",
       "      <th>End Station</th>\n",
       "      <th>End Terminal</th>\n",
       "      <th>Bike #</th>\n",
       "      <th>Subscriber Type</th>\n",
       "      <th>Zip Code</th>\n",
       "    </tr>\n",
       "  </thead>\n",
       "  <tbody>\n",
       "    <tr>\n",
       "      <th>0</th>\n",
       "      <td>913481</td>\n",
       "      <td>459</td>\n",
       "      <td>09-01-2015 6.01</td>\n",
       "      <td>San Francisco Caltrain (Townsend at 4th)</td>\n",
       "      <td>70</td>\n",
       "      <td>09-01-2015 6.09</td>\n",
       "      <td>2nd at Folsom</td>\n",
       "      <td>62</td>\n",
       "      <td>579</td>\n",
       "      <td>Subscriber</td>\n",
       "      <td>94002</td>\n",
       "    </tr>\n",
       "    <tr>\n",
       "      <th>1</th>\n",
       "      <td>913538</td>\n",
       "      <td>535</td>\n",
       "      <td>09-01-2015 7.08</td>\n",
       "      <td>Harry Bridges Plaza (Ferry Building)</td>\n",
       "      <td>50</td>\n",
       "      <td>09-01-2015 7.17</td>\n",
       "      <td>Embarcadero at Sansome</td>\n",
       "      <td>60</td>\n",
       "      <td>509</td>\n",
       "      <td>Subscriber</td>\n",
       "      <td>94530</td>\n",
       "    </tr>\n",
       "    <tr>\n",
       "      <th>2</th>\n",
       "      <td>913693</td>\n",
       "      <td>445</td>\n",
       "      <td>09-01-2015 8.06</td>\n",
       "      <td>San Francisco Caltrain (Townsend at 4th)</td>\n",
       "      <td>70</td>\n",
       "      <td>09-01-2015 8.13</td>\n",
       "      <td>Howard at 2nd</td>\n",
       "      <td>63</td>\n",
       "      <td>468</td>\n",
       "      <td>Subscriber</td>\n",
       "      <td>94402</td>\n",
       "    </tr>\n",
       "    <tr>\n",
       "      <th>3</th>\n",
       "      <td>913697</td>\n",
       "      <td>330</td>\n",
       "      <td>09-01-2015 8.06</td>\n",
       "      <td>Embarcadero at Sansome</td>\n",
       "      <td>60</td>\n",
       "      <td>09-01-2015 8.12</td>\n",
       "      <td>Davis at Jackson</td>\n",
       "      <td>42</td>\n",
       "      <td>363</td>\n",
       "      <td>Subscriber</td>\n",
       "      <td>94111</td>\n",
       "    </tr>\n",
       "    <tr>\n",
       "      <th>4</th>\n",
       "      <td>913707</td>\n",
       "      <td>970</td>\n",
       "      <td>09-01-2015 8.08</td>\n",
       "      <td>San Francisco Caltrain (Townsend at 4th)</td>\n",
       "      <td>70</td>\n",
       "      <td>09-01-2015 8.24</td>\n",
       "      <td>Commercial at Montgomery</td>\n",
       "      <td>45</td>\n",
       "      <td>356</td>\n",
       "      <td>Subscriber</td>\n",
       "      <td>94070</td>\n",
       "    </tr>\n",
       "  </tbody>\n",
       "</table>\n",
       "</div>"
      ],
      "text/plain": [
       "   Trip ID  Duration       Start Date  \\\n",
       "0   913481       459  09-01-2015 6.01   \n",
       "1   913538       535  09-01-2015 7.08   \n",
       "2   913693       445  09-01-2015 8.06   \n",
       "3   913697       330  09-01-2015 8.06   \n",
       "4   913707       970  09-01-2015 8.08   \n",
       "\n",
       "                              Start Station  Start Terminal         End Date  \\\n",
       "0  San Francisco Caltrain (Townsend at 4th)              70  09-01-2015 6.09   \n",
       "1      Harry Bridges Plaza (Ferry Building)              50  09-01-2015 7.17   \n",
       "2  San Francisco Caltrain (Townsend at 4th)              70  09-01-2015 8.13   \n",
       "3                    Embarcadero at Sansome              60  09-01-2015 8.12   \n",
       "4  San Francisco Caltrain (Townsend at 4th)              70  09-01-2015 8.24   \n",
       "\n",
       "                End Station  End Terminal  Bike # Subscriber Type Zip Code  \n",
       "0             2nd at Folsom            62     579      Subscriber    94002  \n",
       "1    Embarcadero at Sansome            60     509      Subscriber    94530  \n",
       "2             Howard at 2nd            63     468      Subscriber    94402  \n",
       "3          Davis at Jackson            42     363      Subscriber    94111  \n",
       "4  Commercial at Montgomery            45     356      Subscriber    94070  "
      ]
     },
     "execution_count": 12,
     "metadata": {},
     "output_type": "execute_result"
    }
   ],
   "source": [
    "df =  pd.read_csv (r'C:\\Users\\ANIMESH\\Documents\\Python Scripts\\bike-share-project\\examples\\BayArea_Y3_trip_data.csv')\n",
    "print (df.columns)\n",
    "df.head ()"
   ]
  },
  {
   "cell_type": "code",
   "execution_count": 13,
   "metadata": {
    "scrolled": true
   },
   "outputs": [
    {
     "name": "stdout",
     "output_type": "stream",
     "text": [
      "int64\n",
      "Index(['Trip ID', 'Duration', 'Start Date', 'Start Station', 'Start Terminal',\n",
      "       'End Date', 'End Station', 'End Terminal', 'Bike #', 'Subscriber Type',\n",
      "       'Zip Code', 'duration_in_mins'],\n",
      "      dtype='object')\n"
     ]
    },
    {
     "data": {
      "text/html": [
       "<div>\n",
       "<style scoped>\n",
       "    .dataframe tbody tr th:only-of-type {\n",
       "        vertical-align: middle;\n",
       "    }\n",
       "\n",
       "    .dataframe tbody tr th {\n",
       "        vertical-align: top;\n",
       "    }\n",
       "\n",
       "    .dataframe thead th {\n",
       "        text-align: right;\n",
       "    }\n",
       "</style>\n",
       "<table border=\"1\" class=\"dataframe\">\n",
       "  <thead>\n",
       "    <tr style=\"text-align: right;\">\n",
       "      <th></th>\n",
       "      <th>Trip ID</th>\n",
       "      <th>Duration</th>\n",
       "      <th>Start Date</th>\n",
       "      <th>Start Station</th>\n",
       "      <th>Start Terminal</th>\n",
       "      <th>End Date</th>\n",
       "      <th>End Station</th>\n",
       "      <th>End Terminal</th>\n",
       "      <th>Bike #</th>\n",
       "      <th>Subscriber Type</th>\n",
       "      <th>Zip Code</th>\n",
       "      <th>duration_in_mins</th>\n",
       "    </tr>\n",
       "  </thead>\n",
       "  <tbody>\n",
       "    <tr>\n",
       "      <th>0</th>\n",
       "      <td>913481</td>\n",
       "      <td>459</td>\n",
       "      <td>09-01-2015 6.01</td>\n",
       "      <td>San Francisco Caltrain (Townsend at 4th)</td>\n",
       "      <td>70</td>\n",
       "      <td>09-01-2015 6.09</td>\n",
       "      <td>2nd at Folsom</td>\n",
       "      <td>62</td>\n",
       "      <td>579</td>\n",
       "      <td>Subscriber</td>\n",
       "      <td>94002</td>\n",
       "      <td>7.650000</td>\n",
       "    </tr>\n",
       "    <tr>\n",
       "      <th>1</th>\n",
       "      <td>913538</td>\n",
       "      <td>535</td>\n",
       "      <td>09-01-2015 7.08</td>\n",
       "      <td>Harry Bridges Plaza (Ferry Building)</td>\n",
       "      <td>50</td>\n",
       "      <td>09-01-2015 7.17</td>\n",
       "      <td>Embarcadero at Sansome</td>\n",
       "      <td>60</td>\n",
       "      <td>509</td>\n",
       "      <td>Subscriber</td>\n",
       "      <td>94530</td>\n",
       "      <td>8.916667</td>\n",
       "    </tr>\n",
       "    <tr>\n",
       "      <th>2</th>\n",
       "      <td>913693</td>\n",
       "      <td>445</td>\n",
       "      <td>09-01-2015 8.06</td>\n",
       "      <td>San Francisco Caltrain (Townsend at 4th)</td>\n",
       "      <td>70</td>\n",
       "      <td>09-01-2015 8.13</td>\n",
       "      <td>Howard at 2nd</td>\n",
       "      <td>63</td>\n",
       "      <td>468</td>\n",
       "      <td>Subscriber</td>\n",
       "      <td>94402</td>\n",
       "      <td>7.416667</td>\n",
       "    </tr>\n",
       "    <tr>\n",
       "      <th>3</th>\n",
       "      <td>913697</td>\n",
       "      <td>330</td>\n",
       "      <td>09-01-2015 8.06</td>\n",
       "      <td>Embarcadero at Sansome</td>\n",
       "      <td>60</td>\n",
       "      <td>09-01-2015 8.12</td>\n",
       "      <td>Davis at Jackson</td>\n",
       "      <td>42</td>\n",
       "      <td>363</td>\n",
       "      <td>Subscriber</td>\n",
       "      <td>94111</td>\n",
       "      <td>5.500000</td>\n",
       "    </tr>\n",
       "    <tr>\n",
       "      <th>4</th>\n",
       "      <td>913707</td>\n",
       "      <td>970</td>\n",
       "      <td>09-01-2015 8.08</td>\n",
       "      <td>San Francisco Caltrain (Townsend at 4th)</td>\n",
       "      <td>70</td>\n",
       "      <td>09-01-2015 8.24</td>\n",
       "      <td>Commercial at Montgomery</td>\n",
       "      <td>45</td>\n",
       "      <td>356</td>\n",
       "      <td>Subscriber</td>\n",
       "      <td>94070</td>\n",
       "      <td>16.166667</td>\n",
       "    </tr>\n",
       "  </tbody>\n",
       "</table>\n",
       "</div>"
      ],
      "text/plain": [
       "   Trip ID  Duration       Start Date  \\\n",
       "0   913481       459  09-01-2015 6.01   \n",
       "1   913538       535  09-01-2015 7.08   \n",
       "2   913693       445  09-01-2015 8.06   \n",
       "3   913697       330  09-01-2015 8.06   \n",
       "4   913707       970  09-01-2015 8.08   \n",
       "\n",
       "                              Start Station  Start Terminal         End Date  \\\n",
       "0  San Francisco Caltrain (Townsend at 4th)              70  09-01-2015 6.09   \n",
       "1      Harry Bridges Plaza (Ferry Building)              50  09-01-2015 7.17   \n",
       "2  San Francisco Caltrain (Townsend at 4th)              70  09-01-2015 8.13   \n",
       "3                    Embarcadero at Sansome              60  09-01-2015 8.12   \n",
       "4  San Francisco Caltrain (Townsend at 4th)              70  09-01-2015 8.24   \n",
       "\n",
       "                End Station  End Terminal  Bike # Subscriber Type Zip Code  \\\n",
       "0             2nd at Folsom            62     579      Subscriber    94002   \n",
       "1    Embarcadero at Sansome            60     509      Subscriber    94530   \n",
       "2             Howard at 2nd            63     468      Subscriber    94402   \n",
       "3          Davis at Jackson            42     363      Subscriber    94111   \n",
       "4  Commercial at Montgomery            45     356      Subscriber    94070   \n",
       "\n",
       "   duration_in_mins  \n",
       "0          7.650000  \n",
       "1          8.916667  \n",
       "2          7.416667  \n",
       "3          5.500000  \n",
       "4         16.166667  "
      ]
     },
     "execution_count": 13,
     "metadata": {},
     "output_type": "execute_result"
    }
   ],
   "source": [
    "print (df['Duration'].dtype)\n",
    "df['duration_in_mins'] = df['Duration']/60 # updating in the same column is possible but highly unrecommended\n",
    "print (df.columns)\n",
    "df.head ()"
   ]
  },
  {
   "cell_type": "markdown",
   "metadata": {},
   "source": [
    "##### *Changes made here seems not to reflect in the actual file.*"
   ]
  },
  {
   "cell_type": "markdown",
   "metadata": {},
   "source": [
    "#### Copying to an example csv file\n",
    "\n",
    "```\n",
    "    df.to_csv (r'C:\\Users\\ANIMESH\\Documents\\Python Scripts\\bike-share-project\\examples\\new_example.csv)\n",
    "```"
   ]
  },
  {
   "cell_type": "code",
   "execution_count": 14,
   "metadata": {
    "scrolled": true
   },
   "outputs": [
    {
     "data": {
      "text/html": [
       "<div>\n",
       "<style scoped>\n",
       "    .dataframe tbody tr th:only-of-type {\n",
       "        vertical-align: middle;\n",
       "    }\n",
       "\n",
       "    .dataframe tbody tr th {\n",
       "        vertical-align: top;\n",
       "    }\n",
       "\n",
       "    .dataframe thead th {\n",
       "        text-align: right;\n",
       "    }\n",
       "</style>\n",
       "<table border=\"1\" class=\"dataframe\">\n",
       "  <thead>\n",
       "    <tr style=\"text-align: right;\">\n",
       "      <th></th>\n",
       "      <th>Duration</th>\n",
       "      <th>Subscriber Type</th>\n",
       "    </tr>\n",
       "  </thead>\n",
       "  <tbody>\n",
       "    <tr>\n",
       "      <th>0</th>\n",
       "      <td>459</td>\n",
       "      <td>Subscriber</td>\n",
       "    </tr>\n",
       "    <tr>\n",
       "      <th>1</th>\n",
       "      <td>535</td>\n",
       "      <td>Subscriber</td>\n",
       "    </tr>\n",
       "    <tr>\n",
       "      <th>2</th>\n",
       "      <td>445</td>\n",
       "      <td>Subscriber</td>\n",
       "    </tr>\n",
       "    <tr>\n",
       "      <th>3</th>\n",
       "      <td>330</td>\n",
       "      <td>Subscriber</td>\n",
       "    </tr>\n",
       "    <tr>\n",
       "      <th>4</th>\n",
       "      <td>970</td>\n",
       "      <td>Subscriber</td>\n",
       "    </tr>\n",
       "    <tr>\n",
       "      <th>5</th>\n",
       "      <td>252</td>\n",
       "      <td>Subscriber</td>\n",
       "    </tr>\n",
       "    <tr>\n",
       "      <th>6</th>\n",
       "      <td>539</td>\n",
       "      <td>Subscriber</td>\n",
       "    </tr>\n",
       "    <tr>\n",
       "      <th>7</th>\n",
       "      <td>577</td>\n",
       "      <td>Subscriber</td>\n",
       "    </tr>\n",
       "  </tbody>\n",
       "</table>\n",
       "</div>"
      ],
      "text/plain": [
       "   Duration Subscriber Type\n",
       "0       459      Subscriber\n",
       "1       535      Subscriber\n",
       "2       445      Subscriber\n",
       "3       330      Subscriber\n",
       "4       970      Subscriber\n",
       "5       252      Subscriber\n",
       "6       539      Subscriber\n",
       "7       577      Subscriber"
      ]
     },
     "execution_count": 14,
     "metadata": {},
     "output_type": "execute_result"
    }
   ],
   "source": [
    "df.head(8)[['Duration', 'Subscriber Type']] # retrieving multiple columns by passing a list"
   ]
  },
  {
   "cell_type": "code",
   "execution_count": 15,
   "metadata": {
    "scrolled": true
   },
   "outputs": [
    {
     "name": "stdout",
     "output_type": "stream",
     "text": [
      "['Subscriber' 'Customer']\n",
      "object\n"
     ]
    }
   ],
   "source": [
    "print (df['Subscriber Type'].unique ())\n",
    "print (df['Subscriber Type'].dtype)"
   ]
  },
  {
   "cell_type": "markdown",
   "metadata": {},
   "source": [
    "#### Group by in DataFrames\n",
    "\n",
    "Using groupby method of DataFrames to group by an attribute, then using aggregate fuctions (as you do)."
   ]
  },
  {
   "cell_type": "code",
   "execution_count": 16,
   "metadata": {},
   "outputs": [
    {
     "data": {
      "text/html": [
       "<div>\n",
       "<style scoped>\n",
       "    .dataframe tbody tr th:only-of-type {\n",
       "        vertical-align: middle;\n",
       "    }\n",
       "\n",
       "    .dataframe tbody tr th {\n",
       "        vertical-align: top;\n",
       "    }\n",
       "\n",
       "    .dataframe thead th {\n",
       "        text-align: right;\n",
       "    }\n",
       "</style>\n",
       "<table border=\"1\" class=\"dataframe\">\n",
       "  <thead>\n",
       "    <tr style=\"text-align: right;\">\n",
       "      <th></th>\n",
       "      <th>Trip ID</th>\n",
       "      <th>Duration</th>\n",
       "      <th>Start Date</th>\n",
       "      <th>Start Station</th>\n",
       "      <th>Start Terminal</th>\n",
       "      <th>End Date</th>\n",
       "      <th>End Station</th>\n",
       "      <th>End Terminal</th>\n",
       "      <th>Bike #</th>\n",
       "      <th>Zip Code</th>\n",
       "      <th>duration_in_mins</th>\n",
       "    </tr>\n",
       "    <tr>\n",
       "      <th>Subscriber Type</th>\n",
       "      <th></th>\n",
       "      <th></th>\n",
       "      <th></th>\n",
       "      <th></th>\n",
       "      <th></th>\n",
       "      <th></th>\n",
       "      <th></th>\n",
       "      <th></th>\n",
       "      <th></th>\n",
       "      <th></th>\n",
       "      <th></th>\n",
       "    </tr>\n",
       "  </thead>\n",
       "  <tbody>\n",
       "    <tr>\n",
       "      <th>Customer</th>\n",
       "      <td>633</td>\n",
       "      <td>633</td>\n",
       "      <td>633</td>\n",
       "      <td>633</td>\n",
       "      <td>633</td>\n",
       "      <td>633</td>\n",
       "      <td>633</td>\n",
       "      <td>633</td>\n",
       "      <td>633</td>\n",
       "      <td>628</td>\n",
       "      <td>633</td>\n",
       "    </tr>\n",
       "    <tr>\n",
       "      <th>Subscriber</th>\n",
       "      <td>5666</td>\n",
       "      <td>5666</td>\n",
       "      <td>5666</td>\n",
       "      <td>5666</td>\n",
       "      <td>5666</td>\n",
       "      <td>5666</td>\n",
       "      <td>5666</td>\n",
       "      <td>5666</td>\n",
       "      <td>5666</td>\n",
       "      <td>5666</td>\n",
       "      <td>5666</td>\n",
       "    </tr>\n",
       "  </tbody>\n",
       "</table>\n",
       "</div>"
      ],
      "text/plain": [
       "                 Trip ID  Duration  Start Date  Start Station  Start Terminal  \\\n",
       "Subscriber Type                                                                 \n",
       "Customer             633       633         633            633             633   \n",
       "Subscriber          5666      5666        5666           5666            5666   \n",
       "\n",
       "                 End Date  End Station  End Terminal  Bike #  Zip Code  \\\n",
       "Subscriber Type                                                          \n",
       "Customer              633          633           633     633       628   \n",
       "Subscriber           5666         5666          5666    5666      5666   \n",
       "\n",
       "                 duration_in_mins  \n",
       "Subscriber Type                    \n",
       "Customer                      633  \n",
       "Subscriber                   5666  "
      ]
     },
     "execution_count": 16,
     "metadata": {},
     "output_type": "execute_result"
    }
   ],
   "source": [
    "df.groupby ('Subscriber Type')\n",
    "df.groupby ('Subscriber Type').count ()"
   ]
  },
  {
   "cell_type": "code",
   "execution_count": 17,
   "metadata": {},
   "outputs": [
    {
     "data": {
      "text/plain": [
       "Subscriber Type\n",
       "Customer      34530.916667\n",
       "Subscriber    53898.583333\n",
       "Name: duration_in_mins, dtype: float64"
      ]
     },
     "execution_count": 17,
     "metadata": {},
     "output_type": "execute_result"
    }
   ],
   "source": [
    "# get sum of duration_in_mins by grouping by Subscriber Type then using sum ()\n",
    "df.groupby ('Subscriber Type')['duration_in_mins'].sum ()"
   ]
  },
  {
   "cell_type": "code",
   "execution_count": 18,
   "metadata": {
    "scrolled": true
   },
   "outputs": [
    {
     "name": "stdout",
     "output_type": "stream",
     "text": [
      "AxesSubplot(0.125,0.125;0.775x0.755)\n"
     ]
    },
    {
     "data": {
      "image/png": "[encoded data removed]",
      "text/plain": [
       "<Figure size 432x288 with 1 Axes>"
      ]
     },
     "metadata": {},
     "output_type": "display_data"
    }
   ],
   "source": [
    "plot = df['duration_in_mins'].plot.hist (bins = range (0, 250, 50))\n",
    "plot.set_title ('Trip Duration Distribtion')\n",
    "plot.set_xlabel ('Duration (m)')\n",
    "print (plot)"
   ]
  },
  {
   "cell_type": "markdown",
   "metadata": {},
   "source": [
    "### Don't know how to typecaste (object) data in DataFrame  yet..."
   ]
  }
 ],
 "metadata": {
  "kernelspec": {
   "display_name": "Python 3",
   "language": "python",
   "name": "python3"
  },
  "language_info": {
   "codemirror_mode": {
    "name": "ipython",
    "version": 3
   },
   "file_extension": ".py",
   "mimetype": "text/x-python",
   "name": "python",
   "nbconvert_exporter": "python",
   "pygments_lexer": "ipython3",
   "version": "3.6.5"
  }
 },
 "nbformat": 4,
 "nbformat_minor": 2
}
