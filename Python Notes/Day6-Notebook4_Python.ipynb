{
 "cells": [
  {
   "cell_type": "markdown",
   "metadata": {},
   "source": [
    "## Files\n",
    "\n",
    "Contain data which we can use or manipulate.\n",
    "\n",
    "There are three steps to working with files:\n",
    "\n",
    "1. Opening the file - \n",
    "    ``open ()``\n",
    "    \n",
    "2. Reading data from the file - \n",
    "    ``read ()``\n",
    "    \n",
    "3. Closing the file - \n",
    "    ``close ()``"
   ]
  },
  {
   "cell_type": "markdown",
   "metadata": {},
   "source": [
    "*Note*: While working with files or filenames, ``.split ()`` is used frequently."
   ]
  },
  {
   "cell_type": "code",
   "execution_count": 1,
   "metadata": {},
   "outputs": [
    {
     "name": "stdout",
     "output_type": "stream",
     "text": [
      "['..datasets', 'wine.csv']\n",
      "wine.csv\n",
      "['wine', 'csv']\n",
      "wine\n"
     ]
    }
   ],
   "source": [
    "file_path = '..datasets\\wine.csv'\n",
    "\n",
    "print (file_path.split ('\\\\'))\n",
    "print (file_path.split ('\\\\')[-1]) # .split () return a string\n",
    "print (file_path.split ('\\\\')[-1].split ('.'))\n",
    "print (file_path.split ('\\\\')[-1].split ('.')[0])"
   ]
  },
  {
   "cell_type": "code",
   "execution_count": 2,
   "metadata": {},
   "outputs": [
    {
     "name": "stdout",
     "output_type": "stream",
     "text": [
      "class_label,class_name,alcohol,malic_acid,ash,alcalinity_of_ash,magnesium,total_phenols,flavanoids,nonflavanoid_phenols,proanthocyanins,color_intensity,hue,od280,proline\n",
      "1,Barolo,14.23,1.71,2.43,15.6,127,2.8,3.06,0.28,2.29,5.64,1.04,3.92,1065\n",
      "1,Barolo,13.2,1.78,2.14,11.2,100,2.65,2.76,0.26,1.28,4.38,1.05,3.4,1050\n",
      "1,Barolo,13.16,2.36,2.67,18.6,101,2.8,3.24,0.3,2.81,5.68,1.03,3.17,1185\n",
      "1,Barolo,14.3\n"
     ]
    }
   ],
   "source": [
    "f = open ('..\\datasets\\wine.csv')\n",
    "\n",
    "string = f.read ()\n",
    "print (string[:400])\n",
    "f.close ()"
   ]
  },
  {
   "cell_type": "markdown",
   "metadata": {},
   "source": [
    "**Reading from a file after it has been read returns None, since the cursor reaches the EOF (end of file).**\n",
    "\n",
    "To read again, the file needs to be closed and then opened again."
   ]
  },
  {
   "cell_type": "code",
   "execution_count": 3,
   "metadata": {
    "scrolled": false
   },
   "outputs": [
    {
     "name": "stdout",
     "output_type": "stream",
     "text": [
      "class_label,class_name,alcohol,malic_acid,ash,alcalinity_of_ash,magnesium,total_phenols,flavanoids,nonflavanoid_phenols,proanthocyanins,color_intensity,hue,od280,proline\n",
      "1,Barolo,14.23,1.71,2.43,15.6,127,2.8,3.06,0.28,2.29,5.64,1.04,3.92,1065\n",
      "1,Barolo,13.2,1.78,2.14,11.2,100,2.65,2.76,0.26,1.28,4.38,1.05,3.4,1050\n",
      "1,Barolo,13.16,2.36,2.67,18.6,101,2.8,3.24,0.3,2.81,5.68,1.03,3.17,1185\n",
      "1,Barolo,14.3\n",
      "Trying to read the file again.\n",
      "\n"
     ]
    }
   ],
   "source": [
    "f = open ('..\\datasets\\wine.csv')\n",
    "\n",
    "print (f.read ()[:400])\n",
    "print ('Trying to read the file again.')\n",
    "print (f.read ())\n",
    "f.close ()"
   ]
  },
  {
   "cell_type": "markdown",
   "metadata": {},
   "source": [
    "To read again from the file without closing the file, ``.seek ()`` is used (although rarely)."
   ]
  },
  {
   "cell_type": "code",
   "execution_count": 4,
   "metadata": {},
   "outputs": [
    {
     "name": "stdout",
     "output_type": "stream",
     "text": [
      "class_label,class_name,alcohol,malic_acid,ash,alcalinity_of_ash,magnesium,total_phenols,flavanoids,nonflavanoid_phenols,proanthocyanins,color_intensity,hue,od280,proline\n",
      "1,Barolo,14.23,1.71,2.43,15.6,127,2.8,3.06,0.28,2.29,5.64,1.04,3.92,1065\n",
      "1,Barolo,13.2,1.78,2.14,11.2,100,2.65,2.76,0.26,1.28,4.38,1.05,3.4,1050\n",
      "1,Barolo,13.16,2.36,2.67,18.6,101,2.8,3.24,0.3,2.81,5.68,1.03,3.17,1185\n",
      "1,Barolo,14.3\n",
      "Trying to read the file again.\n",
      "class_label,class_name,alcohol,malic_acid,ash,alcalinity_of_ash,magnesium,total_phenols,flavanoids,nonflavanoid_phenols,proanthocyanins,color_intensity,hue,od280,proline\n",
      "1,Barolo,14.23,1.71,2.43,15.6,127,2.8,3.06,0.28,2.29,5.64,1.04,3.92,1065\n",
      "1,Barolo,13.2,1.78,2.14,11.2,100,2.65,2.76,0.26,1.28,4.38,1.05,3.4,1050\n",
      "1,Barolo,13.16,2.36,2.67,18.6,101,2.8,3.24,0.3,2.81,5.68,1.03,3.17,1185\n",
      "1,Barolo,14.3\n"
     ]
    }
   ],
   "source": [
    "f = open ('..\\datasets\\wine.csv')\n",
    "\n",
    "print (f.read ()[:400])\n",
    "print ('Trying to read the file again.')\n",
    "f.seek (0)\n",
    "print (f.read ()[:400])\n",
    "f.close ()"
   ]
  },
  {
   "cell_type": "markdown",
   "metadata": {},
   "source": [
    "By default, a file is opened in the read mode. We can pass an argument in the ``.open ()`` function to specify how to open the file:\n",
    "\n",
    "Ex: ``f = open (filepath, 'mode')``\n",
    "\n",
    "Mode: \n",
    "* r: read only mode \n",
    "\n",
    "* w: write only mode. Overwrites the previous content in the file\n",
    "\n",
    "* a: append mode. Adds the content at the end of the file.\n",
    "\n",
    "* b: opens the file in binary mode for images, non text files \n",
    "\n",
    "* +: used with any of above mode for both reading and writing"
   ]
  },
  {
   "cell_type": "code",
   "execution_count": 5,
   "metadata": {},
   "outputs": [
    {
     "name": "stdout",
     "output_type": "stream",
     "text": [
      "This is a sample file and it is just created.\n"
     ]
    }
   ],
   "source": [
    "f = open('sampleFile.txt','w')\n",
    "f.write('This is a sample file and it is just created.')\n",
    "f.close()\n",
    "\n",
    "f  = open('sampleFile.txt')\n",
    "data = f.read()\n",
    "print(data)\n",
    "f.close()"
   ]
  },
  {
   "cell_type": "code",
   "execution_count": 6,
   "metadata": {},
   "outputs": [
    {
     "name": "stdout",
     "output_type": "stream",
     "text": [
      "This is a sample file again and it is just created again.\n"
     ]
    }
   ],
   "source": [
    "f = open('sampleFile.txt','w')\n",
    "f.write('This is a sample file again and it is just created again.')\n",
    "f.close()\n",
    "\n",
    "f  = open('sampleFile.txt')\n",
    "data = f.read()\n",
    "print(data)\n",
    "f.close()"
   ]
  },
  {
   "cell_type": "code",
   "execution_count": 7,
   "metadata": {},
   "outputs": [
    {
     "name": "stdout",
     "output_type": "stream",
     "text": [
      "This is a sample file again and it is just created again.\n",
      "\n",
      "This is a new line that we are writing.\n"
     ]
    }
   ],
   "source": [
    "f = open('sampleFile.txt','a')\n",
    "f.write('\\n\\nThis is a new line that we are writing.')\n",
    "f.close()\n",
    "\n",
    "f  = open('sampleFile.txt')\n",
    "data = f.read()\n",
    "print(data)\n",
    "f.close()"
   ]
  },
  {
   "cell_type": "markdown",
   "metadata": {},
   "source": [
    "Some additional notes:\n",
    "\n",
    "1. Read a file line by line\n",
    "\n",
    "\n",
    "* ``readline ()`` : read a single line and then read again\n",
    "* ``readlines ()`` : read all the lines and returns a list\n",
    "* ``writelines ()`` : write lines from an iterable like a list\n",
    "\n",
    "\n",
    "2. ``with``statement\n",
    "\n",
    "Can be used to do stuff without worrying about closing the file."
   ]
  },
  {
   "cell_type": "code",
   "execution_count": 8,
   "metadata": {},
   "outputs": [
    {
     "name": "stdout",
     "output_type": "stream",
     "text": [
      "This is a sample file again and it is just created again.\n",
      "\n",
      "\n",
      "\n",
      "This is a new line that we are writing.\n",
      "['This is a sample file again and it is just created again.\\n', '\\n', 'This is a new line that we are writing.']\n",
      "This is a sample file again and it is just created again.\n",
      "\n",
      "New line! Who wrote this anyway?\n",
      "\n",
      "This is a new line that we are writing.\n"
     ]
    }
   ],
   "source": [
    "with open ('sampleFile.txt') as f_in:\n",
    "    rows = f_in.readlines ()\n",
    "    for i in range (len (rows)):\n",
    "        print (rows[i])\n",
    "    \n",
    "print (rows)\n",
    "rows[1] = 'New line! Who wrote this anyway?\\n'\n",
    "\n",
    "with open ('sampleFile.txt', 'w') as f_out:\n",
    "    f_out.writelines (rows)\n",
    "\n",
    "with open ('sampleFile.txt') as f_in:\n",
    "    rows = f_in.readlines ()\n",
    "    for i in range (len (rows)):\n",
    "        print (rows[i])"
   ]
  },
  {
   "cell_type": "markdown",
   "metadata": {},
   "source": [
    "## Modules\n",
    "\n",
    "Modules in python are files which contains classes, function and variables which can be used while scripting.\n",
    "\n",
    "Since modules are external we need to bring them into our program (ie importing a module)\n",
    "\n",
    "For example:\n",
    "```\n",
    "    import math\n",
    "```"
   ]
  },
  {
   "cell_type": "code",
   "execution_count": 9,
   "metadata": {},
   "outputs": [
    {
     "name": "stdout",
     "output_type": "stream",
     "text": [
      "3.141592653589793\n"
     ]
    }
   ],
   "source": [
    "# importing the whole module\n",
    "\n",
    "import math\n",
    "\n",
    "pie = math.pi \n",
    "print (pie)"
   ]
  },
  {
   "cell_type": "code",
   "execution_count": 10,
   "metadata": {},
   "outputs": [
    {
     "name": "stdout",
     "output_type": "stream",
     "text": [
      "3.141592653589793\n"
     ]
    }
   ],
   "source": [
    "# importing a specific object from a module\n",
    "# from math import pi\n",
    "\n",
    "# importing specific object from a module while giving it an alias\n",
    "from math import pi as p\n",
    "\n",
    "print (p)"
   ]
  },
  {
   "cell_type": "markdown",
   "metadata": {},
   "source": [
    "## Reading CSV files\n",
    "\n",
    "**csv** =  Comma Separated Values\n",
    "\n",
    "Here each value is separated by comma. When reading csv files if we use simple file read/write functions of Python we get a complete string.\n",
    "\n",
    "To separate the values we need to use the ``.split()`` function of string object to get the values in a list and then we need to get the values individually."
   ]
  },
  {
   "cell_type": "code",
   "execution_count": 11,
   "metadata": {},
   "outputs": [
    {
     "name": "stdout",
     "output_type": "stream",
     "text": [
      "class_label,class_name,alcohol,malic_acid,ash,alcalinity_of_ash,magnesium,total_phenols,flavanoids,nonflavanoid_phenols,proanthocyanins,color_intensity,hue,od280,proline\n",
      "\n",
      "['class_label', 'class_name', 'alcohol', 'malic_acid', 'ash', 'alcalinity_of_ash', 'magnesium', 'total_phenols', 'flavanoids', 'nonflavanoid_phenols', 'proanthocyanins', 'color_intensity', 'hue', 'od280', 'proline\\n']\n",
      "malic_acid\n",
      "1.71\n"
     ]
    }
   ],
   "source": [
    "# ./ means file is in the same directory as the JuPyter Notebook\n",
    "# ../ means the file is in the parent directory of the JuPyter Notebook\n",
    "\n",
    "\n",
    "with open ('../datasets/wine.csv') as f:\n",
    "    line = f.readline ()\n",
    "    print (line)\n",
    "    header_list = line.split (',')\n",
    "    print (header_list)\n",
    "    print (header_list[3])\n",
    "    \n",
    "    for line in f:\n",
    "        data = line.split (',')\n",
    "        print (data[3])\n",
    "        break"
   ]
  },
  {
   "cell_type": "markdown",
   "metadata": {},
   "source": [
    "## csv module\n",
    "\n",
    "csv module does the boring work for us and gives the data already separated as we want.\n",
    "\n",
    "* **``reader ()``** - reads the data from file based on separator\n",
    "* **``writer ()``** - writes the data in csv format\n",
    "\n",
    "``next ()`` - next function gets us the value at the current position in the iterator and the moves the cursor to the next item in iterator.\n",
    "\n",
    "We use ``next ()`` function to skip some lines which we do not want some times, eg. skipping the header row or skipping some rows at the start."
   ]
  },
  {
   "cell_type": "code",
   "execution_count": 12,
   "metadata": {},
   "outputs": [
    {
     "name": "stdout",
     "output_type": "stream",
     "text": [
      "['1', 'Barolo', '14.23', '1.71', '2.43', '15.6', '127', '2.8', '3.06', '0.28', '2.29', '5.64', '1.04', '3.92', '1065']\n"
     ]
    }
   ],
   "source": [
    "import csv\n",
    "\n",
    "with open('../datasets/wine.csv') as f:\n",
    "    reader = csv.reader (f, delimiter = ',')\n",
    "    row = next (reader)\n",
    "    for row in reader:\n",
    "        print (row)\n",
    "        break"
   ]
  },
  {
   "cell_type": "code",
   "execution_count": 13,
   "metadata": {},
   "outputs": [
    {
     "name": "stdout",
     "output_type": "stream",
     "text": [
      "['class_label', 'class_name', 'alcohol', 'malic_acid', 'ash', 'alcalinity_of_ash', 'magnesium', 'total_phenols', 'flavanoids', 'nonflavanoid_phenols', 'proanthocyanins', 'color_intensity', 'hue', 'od280', 'proline']\n"
     ]
    }
   ],
   "source": [
    "with open('../datasets/wine.csv') as f:\n",
    "    reader = csv.reader (f) # by default the delimiter is ','\n",
    "    for row in reader:\n",
    "        print (row)\n",
    "        break"
   ]
  },
  {
   "cell_type": "code",
   "execution_count": 14,
   "metadata": {},
   "outputs": [
    {
     "name": "stdout",
     "output_type": "stream",
     "text": [
      "<_csv.reader object at 0x00000207882CF4C0>\n",
      "['spam', 'ham', 'poha', 'parantha']\n",
      "[]\n"
     ]
    }
   ],
   "source": [
    "my_data = ['spam', 'ham', 'poha', 'parantha']\n",
    "\n",
    "with open ('csvwrite.csv', 'w') as f_out:\n",
    "    writer = csv.writer (f_out, delimiter = ',')\n",
    "    writer.writerow (my_data)\n",
    "    \n",
    "with open ('csvwrite.csv') as f_in:\n",
    "    reader = csv.reader (f_in)\n",
    "    print (reader)\n",
    "    for row in reader:\n",
    "        print (row)"
   ]
  },
  {
   "cell_type": "markdown",
   "metadata": {},
   "source": [
    "Plain csv reader and writer objects give us the ability to read the data properly but we are getting is still a list, which becomes cumbersome to work with (we have to manually remember the index of each column to know about what data column we are working with).\n",
    "\n",
    "Fortunately, csv module provides us with the 2 great classes for this task\n",
    "\n",
    "* **``DictReader ()``** - Read the data from the file row by row as a dictionary\n",
    "* **``DictWriter ()``** - Write the data to a csv file from dictionaries.\n",
    "\n",
    "Both the classes work similary as the ``reader ()`` and ``writer ()`` function."
   ]
  },
  {
   "cell_type": "code",
   "execution_count": 15,
   "metadata": {},
   "outputs": [
    {
     "name": "stdout",
     "output_type": "stream",
     "text": [
      "OrderedDict([('class_label', '1'),\n",
      "             ('class_name', 'Barolo'),\n",
      "             ('alcohol', '14.23'),\n",
      "             ('malic_acid', '1.71'),\n",
      "             ('ash', '2.43'),\n",
      "             ('alcalinity_of_ash', '15.6'),\n",
      "             ('magnesium', '127'),\n",
      "             ('total_phenols', '2.8'),\n",
      "             ('flavanoids', '3.06'),\n",
      "             ('nonflavanoid_phenols', '0.28'),\n",
      "             ('proanthocyanins', '2.29'),\n",
      "             ('color_intensity', '5.64'),\n",
      "             ('hue', '1.04'),\n",
      "             ('od280', '3.92'),\n",
      "             ('proline', '1065')])\n"
     ]
    }
   ],
   "source": [
    "from pprint import pprint\n",
    "# shows the dictionary output beautifully having each key value pair in each line instead of in a single line\n",
    "\n",
    "with open ('../datasets/wine.csv') as f:\n",
    "    reader = csv.DictReader (f)\n",
    "    for row in reader:\n",
    "        pprint (row)\n",
    "        break"
   ]
  },
  {
   "cell_type": "code",
   "execution_count": 16,
   "metadata": {},
   "outputs": [
    {
     "name": "stdout",
     "output_type": "stream",
     "text": [
      "OrderedDict([('age', '20'), ('height', '62'), ('id', '1'), ('weight', '120.6'), ('name', 'Alice')])\n"
     ]
    }
   ],
   "source": [
    "dict_to_write = {'age': '20', 'height': '62', 'id': '1', 'weight': '120.6', 'name': 'Alice'}\n",
    "\n",
    "with open ('DictWriterSample.csv', 'w') as f_out:\n",
    "    writer = csv.DictWriter (f_out, delimiter=\"|\", fieldnames =  dict_to_write.keys())\n",
    "    writer.writeheader ()\n",
    "    writer.writerow (dict_to_write)\n",
    "    \n",
    "with open ('DictWriterSample.csv') as f_in:\n",
    "    reader = csv.DictReader (f_in, delimiter=\"|\")\n",
    "    for row in reader:\n",
    "        print (row)"
   ]
  },
  {
   "cell_type": "markdown",
   "metadata": {},
   "source": [
    "## datetime module\n",
    "\n",
    "Helps us convert the strings to date objects. We use this module to do many tasks like:\n",
    "\n",
    "* Convert string to datetime objects\n",
    "* Convert date to strings of our choice - US uses month/day/year we use day/month/year format\n",
    "* Do operations on date eg. add days, month, years\n",
    "* Do operations like select only data for one month or a week"
   ]
  },
  {
   "cell_type": "code",
   "execution_count": 17,
   "metadata": {},
   "outputs": [],
   "source": [
    "from datetime import datetime"
   ]
  },
  {
   "cell_type": "markdown",
   "metadata": {},
   "source": [
    "This datetime object has a function ``strptime ()`` which we read as (str)ing (p)arse (time).\n",
    "\n",
    "**``strptime ()``** - converts string to datetime object\n",
    "\n",
    "It has 2 arguments:\n",
    "\n",
    "1. datestring: the string which contains the date eg. *25/05/2018*\n",
    "2. format: the format in which the string is preset eg. *%d/%m/%Y*"
   ]
  },
  {
   "cell_type": "code",
   "execution_count": 18,
   "metadata": {},
   "outputs": [
    {
     "name": "stdout",
     "output_type": "stream",
     "text": [
      "2018-06-22 00:00:00\n",
      "<class 'datetime.datetime'>\n",
      "2015-09-01 06:09:00\n",
      "<class 'datetime.datetime'>\n"
     ]
    }
   ],
   "source": [
    "datestring = \"22/06/2018\"\n",
    "date_object = datetime.strptime(datestring, \"%d/%m/%Y\")\n",
    "\n",
    "print(date_object)\n",
    "print(type(date_object))\n",
    "\n",
    "my_date = \"9/1/2015 6:09\"\n",
    "\n",
    "date_obj = datetime.strptime(my_date,'%m/%d/%Y %H:%M')\n",
    "print(date_obj)\n",
    "print(type(date_obj))"
   ]
  },
  {
   "cell_type": "markdown",
   "metadata": {},
   "source": [
    "To do operations such as adding days, months to our date object we use ``timedelta ()`` from the datetime module."
   ]
  },
  {
   "cell_type": "code",
   "execution_count": 19,
   "metadata": {},
   "outputs": [
    {
     "name": "stdout",
     "output_type": "stream",
     "text": [
      "2015-10-13 06:09:00\n"
     ]
    }
   ],
   "source": [
    "from datetime import timedelta\n",
    "\n",
    "date_obj = date_obj + timedelta(weeks=6)\n",
    "print(date_obj)"
   ]
  },
  {
   "cell_type": "markdown",
   "metadata": {},
   "source": [
    "Common arguments of ``timedelta ()`` are:\n",
    "\n",
    "* weeks\n",
    "* days\n",
    "* hours\n",
    "* seconds\n",
    "* minutes"
   ]
  },
  {
   "cell_type": "code",
   "execution_count": 20,
   "metadata": {},
   "outputs": [
    {
     "name": "stdout",
     "output_type": "stream",
     "text": [
      "42\n",
      "3628800.0\n"
     ]
    }
   ],
   "source": [
    "indian_date = '18/6/2018'\n",
    "\n",
    "training_start_date = datetime.strptime (indian_date, '%d/%m/%Y')\n",
    "training_end_date = training_start_date + timedelta (weeks=6)\n",
    "\n",
    "diff = training_end_date - training_start_date\n",
    "print (diff.days)\n",
    "print (diff.total_seconds ())"
   ]
  },
  {
   "cell_type": "markdown",
   "metadata": {},
   "source": [
    "**``strftime ()``** - This works on the datetime object. It takes the argument as *formatString* ie the format in which we want to get the date.\n",
    "\n",
    "This format will be made up of same special characters as seen while converting string to datetime object."
   ]
  },
  {
   "cell_type": "code",
   "execution_count": 21,
   "metadata": {},
   "outputs": [
    {
     "name": "stdout",
     "output_type": "stream",
     "text": [
      "2015-09-01 06:09:00\n",
      "01/09/2015\n",
      "<class 'str'>\n"
     ]
    }
   ],
   "source": [
    "my_date = '9/1/2015 6:09'\n",
    "\n",
    "date_obj = datetime.strptime (my_date, '%m/%d/%Y %H:%M')\n",
    "print (date_obj)\n",
    "\n",
    "#convert back to string in indian format and remove the hour and minute data\n",
    "normal_date = date_obj.strftime ('%d/%m/%Y')\n",
    "print (normal_date)        #changed to indian format\n",
    "print (type (normal_date))"
   ]
  }
 ],
 "metadata": {
  "kernelspec": {
   "display_name": "Python 3",
   "language": "python",
   "name": "python3"
  },
  "language_info": {
   "codemirror_mode": {
    "name": "ipython",
    "version": 3
   },
   "file_extension": ".py",
   "mimetype": "text/x-python",
   "name": "python",
   "nbconvert_exporter": "python",
   "pygments_lexer": "ipython3",
   "version": "3.6.5"
  }
 },
 "nbformat": 4,
 "nbformat_minor": 2
}
