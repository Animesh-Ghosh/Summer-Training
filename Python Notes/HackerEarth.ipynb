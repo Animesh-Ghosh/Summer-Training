{
 "cells": [
  {
   "cell_type": "code",
   "execution_count": 16,
   "metadata": {},
   "outputs": [
    {
     "name": "stdout",
     "output_type": "stream",
     "text": [
      "1\n",
      "abhi hibb\n",
      "NO\n"
     ]
    }
   ],
   "source": [
    "N = int (input ())\n",
    "\n",
    "for i in range (N):\n",
    "    \n",
    "    my_dict1 = {}\n",
    "    my_dict2 = {}\n",
    "    \n",
    "    inp = input ()\n",
    "    \n",
    "    s1 = inp.split(' ')[0]\n",
    "    s2 = inp.split(' ')[1]\n",
    "    \n",
    "    if len (s1) == len (s2):\n",
    "        \n",
    "        for w in s1:\n",
    "            if w not in my_dict1.keys ():\n",
    "                my_dict1[w] = 1\n",
    "            else:\n",
    "                my_dict1[w] += 1\n",
    "    \n",
    "        for w in s2:\n",
    "            if w not in my_dict2.keys ():\n",
    "                my_dict2[w] = 1\n",
    "            else:\n",
    "                my_dict2[w] += 1\n",
    "        \n",
    "        flag = False\n",
    "\n",
    "        if my_dict1.keys () == my_dict2.keys ():\n",
    "            flag = True\n",
    "        else:\n",
    "            flag = False\n",
    "\n",
    "        if flag == True:\n",
    "            print (\"YES\")\n",
    "        else:\n",
    "            print (\"NO\")\n",
    "            \n",
    "    else:\n",
    "        print (\"NO\")\n",
    "\n"
   ]
  },
  {
   "cell_type": "code",
   "execution_count": 17,
   "metadata": {},
   "outputs": [
    {
     "name": "stdout",
     "output_type": "stream",
     "text": [
      "dict_keys(['b', 'h', 'i', 'a']) dict_keys(['h', 'i', 'b'])\n",
      "{'a': 1, 'b': 1, 'h': 1, 'i': 1}\n",
      "{'b': 2, 'h': 1, 'i': 1}\n"
     ]
    }
   ],
   "source": [
    "from pprint import pprint\n",
    "\n",
    "print (my_dict1.keys (), my_dict2.keys ())\n",
    "pprint (my_dict1)\n",
    "pprint (my_dict2)"
   ]
  },
  {
   "cell_type": "code",
   "execution_count": 1,
   "metadata": {},
   "outputs": [
    {
     "name": "stdout",
     "output_type": "stream",
     "text": [
      "3\n",
      "sumit mitsu\n",
      "YES\n",
      "ahbi hibb\n",
      "NO\n",
      "ambuj jumba\n",
      "YES\n"
     ]
    }
   ],
   "source": [
    "from itertools import permutations\n",
    "\n",
    "N = int (input ())\n",
    "\n",
    "for i in range (N):\n",
    "    my_dict1 = {}\n",
    "    my_dict2 = {}\n",
    "    \n",
    "    inp = input ()\n",
    "    \n",
    "    s1 = inp.split(' ')[0]\n",
    "    s2 = inp.split(' ')[1]\n",
    "    \n",
    "    if len (s1) == len (s2):\n",
    "        \n",
    "        perms1 = permutations (s1)\n",
    "        perms2 = permutations (s2)\n",
    "    \n",
    "        flag = False\n",
    "    \n",
    "        for p1 in perms1:\n",
    "            for p2 in perms2:\n",
    "                if p1 == p2:\n",
    "                    flag = True\n",
    "                    break\n",
    "            break\n",
    "    \n",
    "        if flag == True:\n",
    "            print (\"YES\")\n",
    "            \n",
    "        else:\n",
    "            print (\"NO\")\n",
    "            \n",
    "    else:\n",
    "        print (\"NO\")\n",
    "        "
   ]
  },
  {
   "cell_type": "code",
   "execution_count": 8,
   "metadata": {},
   "outputs": [
    {
     "name": "stdout",
     "output_type": "stream",
     "text": [
      "Help on permutations object:\n",
      "\n",
      "class permutations(builtins.object)\n",
      " |  permutations(iterable[, r]) --> permutations object\n",
      " |  \n",
      " |  Return successive r-length permutations of elements in the iterable.\n",
      " |  \n",
      " |  permutations(range(3), 2) --> (0,1), (0,2), (1,0), (1,2), (2,0), (2,1)\n",
      " |  \n",
      " |  Methods defined here:\n",
      " |  \n",
      " |  __getattribute__(self, name, /)\n",
      " |      Return getattr(self, name).\n",
      " |  \n",
      " |  __iter__(self, /)\n",
      " |      Implement iter(self).\n",
      " |  \n",
      " |  __new__(*args, **kwargs) from builtins.type\n",
      " |      Create and return a new object.  See help(type) for accurate signature.\n",
      " |  \n",
      " |  __next__(self, /)\n",
      " |      Implement next(self).\n",
      " |  \n",
      " |  __reduce__(...)\n",
      " |      Return state information for pickling.\n",
      " |  \n",
      " |  __setstate__(...)\n",
      " |      Set state information for unpickling.\n",
      " |  \n",
      " |  __sizeof__(...)\n",
      " |      Returns size in memory, in bytes.\n",
      "\n"
     ]
    }
   ],
   "source": [
    "help (perms1)"
   ]
  },
  {
   "cell_type": "code",
   "execution_count": 1,
   "metadata": {},
   "outputs": [
    {
     "name": "stdout",
     "output_type": "stream",
     "text": [
      "Help on built-in function sorted in module builtins:\n",
      "\n",
      "sorted(iterable, /, *, key=None, reverse=False)\n",
      "    Return a new list containing all items from the iterable in ascending order.\n",
      "    \n",
      "    A custom key function can be supplied to customize the sort order, and the\n",
      "    reverse flag can be set to request the result in descending order.\n",
      "\n"
     ]
    },
    {
     "name": "stdin",
     "output_type": "stream",
     "text": [
      " abhi hibb\n"
     ]
    },
    {
     "name": "stdout",
     "output_type": "stream",
     "text": [
      "[['a', 'b', 'h', 'i'], ['h', 'i', 'b', 'b']]\n",
      "['a', 'b', 'h', 'i'] ['b', 'b', 'h', 'i']\n"
     ]
    }
   ],
   "source": [
    "help (sorted)\n",
    "\n",
    "words = [list(i) for i in input ().split ()]\n",
    "\n",
    "print (words)\n",
    "\n",
    "print (sorted (words[0]), sorted (words[1]))"
   ]
  }
 ],
 "metadata": {
  "kernelspec": {
   "display_name": "Python 3",
   "language": "python",
   "name": "python3"
  },
  "language_info": {
   "codemirror_mode": {
    "name": "ipython",
    "version": 3
   },
   "file_extension": ".py",
   "mimetype": "text/x-python",
   "name": "python",
   "nbconvert_exporter": "python",
   "pygments_lexer": "ipython3",
   "version": "3.5.6"
  }
 },
 "nbformat": 4,
 "nbformat_minor": 2
}
