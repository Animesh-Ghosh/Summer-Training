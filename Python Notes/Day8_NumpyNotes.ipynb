{
 "cells": [
  {
   "cell_type": "markdown",
   "metadata": {},
   "source": [
    "### Importing numpy library"
   ]
  },
  {
   "cell_type": "code",
   "execution_count": 1,
   "metadata": {},
   "outputs": [],
   "source": [
    "import numpy as np"
   ]
  },
  {
   "cell_type": "markdown",
   "metadata": {},
   "source": [
    "#### Creating 1D numpy arrays. Using them to create numpy 2D array."
   ]
  },
  {
   "cell_type": "code",
   "execution_count": 2,
   "metadata": {},
   "outputs": [
    {
     "name": "stdout",
     "output_type": "stream",
     "text": [
      "[1 2 3 4 5]\n",
      "<memory at 0x000002B679F63948>\n",
      "int32\n",
      "(5,)\n",
      "<class 'numpy.ndarray'>\n",
      "\n",
      "[4 5 6 7 8]\n",
      "<memory at 0x000002B679F63948>\n",
      "int32\n",
      "(5,)\n",
      "\n",
      "[[1 2 3 4 5]\n",
      " [4 5 6 7 8]]\n",
      "<memory at 0x000002B679F37C18>\n",
      "int32\n",
      "(2, 5)\n"
     ]
    }
   ],
   "source": [
    "arr = np.array ([1, 2, 3, 4, 5])\n",
    "print (arr)\n",
    "print (arr.data)\n",
    "print (arr.dtype)\n",
    "print (arr.shape)\n",
    "print (type (arr))\n",
    "\n",
    "print ()\n",
    "\n",
    "arr2 = np.array ([4, 5, 6, 7, 8])\n",
    "print (arr2)\n",
    "print (arr2.data)\n",
    "print (arr2.dtype)\n",
    "print (arr2.shape)\n",
    "\n",
    "print ()\n",
    "\n",
    "_2DArr = np.array ([arr, arr2])\n",
    "print (_2DArr)\n",
    "print (_2DArr.data)\n",
    "print (_2DArr.dtype)\n",
    "print (_2DArr.shape)"
   ]
  },
  {
   "cell_type": "markdown",
   "metadata": {},
   "source": [
    "** *Note* **:\n",
    "\n",
    "Pass lists of arrays to create 2D arrays.\n",
    "\n",
    "**Incorrect syntax**:\n",
    "\n",
    "_2DArr = np.array (arr, arr2)\n",
    "\n",
    "**Correct syntax**:\n",
    "\n",
    "_2DArr = np.array ([arr, arr2])"
   ]
  },
  {
   "cell_type": "markdown",
   "metadata": {},
   "source": [
    "#### Creating nD numpy arrays:\n",
    "\n",
    "*(using arrays created in previous cells)*"
   ]
  },
  {
   "cell_type": "code",
   "execution_count": 3,
   "metadata": {},
   "outputs": [
    {
     "name": "stdout",
     "output_type": "stream",
     "text": [
      "[[ 0  4  8 12 16]\n",
      " [ 0  8 16 24 32]]\n",
      "(2, 5)\n",
      "\n",
      "[[[ 1  2  3  4  5]\n",
      "  [ 4  5  6  7  8]]\n",
      "\n",
      " [[ 0  4  8 12 16]\n",
      "  [ 0  8 16 24 32]]]\n",
      "(2, 2, 5)\n",
      "\n",
      "[[[ 0  4  8 12 16]\n",
      "  [ 0  8 16 24 32]]\n",
      "\n",
      " [[ 1  2  3  4  5]\n",
      "  [ 4  5  6  7  8]]]\n",
      "(2, 2, 5)\n",
      "\n",
      "[[[[ 1  2  3  4  5]\n",
      "   [ 4  5  6  7  8]]\n",
      "\n",
      "  [[ 0  4  8 12 16]\n",
      "   [ 0  8 16 24 32]]]\n",
      "\n",
      "\n",
      " [[[ 0  4  8 12 16]\n",
      "   [ 0  8 16 24 32]]\n",
      "\n",
      "  [[ 1  2  3  4  5]\n",
      "   [ 4  5  6  7  8]]]]\n",
      "(2, 2, 2, 5)\n"
     ]
    }
   ],
   "source": [
    "_2DArr2 = np.array ([np.arange (0, 20, 4), np.arange(0, 40, 8)])\n",
    "print (_2DArr2)\n",
    "print (_2DArr.shape)\n",
    "\n",
    "print ()\n",
    "\n",
    "_3DArr = np.array ([_2DArr, _2DArr2])\n",
    "print (_3DArr)\n",
    "print (_3DArr.shape)\n",
    "\n",
    "print ()\n",
    "\n",
    "_3DArr2 = np.array ([_2DArr2, _2DArr])\n",
    "print (_3DArr2)\n",
    "print (_3DArr2.shape)\n",
    "\n",
    "print ()\n",
    "\n",
    "_4DArr = np.array ([_3DArr, _3DArr2])\n",
    "print (_4DArr)\n",
    "print (_4DArr.shape)"
   ]
  },
  {
   "cell_type": "markdown",
   "metadata": {},
   "source": [
    "#### Creating Special numpy arrays using numpy methods..."
   ]
  },
  {
   "cell_type": "code",
   "execution_count": 4,
   "metadata": {
    "scrolled": true
   },
   "outputs": [
    {
     "name": "stdout",
     "output_type": "stream",
     "text": [
      "[[[1 1 1]\n",
      "  [1 1 1]\n",
      "  [1 1 1]\n",
      "  [1 1 1]]\n",
      "\n",
      " [[1 1 1]\n",
      "  [1 1 1]\n",
      "  [1 1 1]\n",
      "  [1 1 1]]]\n",
      "\n",
      "[[0.+0.j 0.+0.j 0.+0.j]\n",
      " [0.+0.j 0.+0.j 0.+0.j]\n",
      " [0.+0.j 0.+0.j 0.+0.j]]\n",
      "\n",
      "[[0.94702121 0.21976444 0.44711188 0.60189467]\n",
      " [0.03392908 0.47485751 0.67549603 0.5890447 ]\n",
      " [0.06032561 0.90715582 0.28327427 0.47080314]]\n",
      "\n",
      "[[5.48477883e+241 2.64521041e+185 1.96086573e+243]\n",
      " [5.98129759e-154 3.80985847e+180 6.01334668e-154]]\n",
      "\n",
      "[[11 11]\n",
      " [11 11]\n",
      " [11 11]]\n",
      "\n",
      "[[1. 0. 0.]\n",
      " [0. 1. 0.]\n",
      " [0. 0. 1.]\n",
      " [0. 0. 0.]\n",
      " [0. 0. 0.]]\n"
     ]
    }
   ],
   "source": [
    "ones = np.ones ((2, 4, 3), dtype = int)\n",
    "print (ones)\n",
    "\n",
    "print ()\n",
    "\n",
    "zeros = np.zeros ((3, 3), dtype = complex)\n",
    "print (zeros)\n",
    "\n",
    "print ()\n",
    "\n",
    "# not to be confused with random from random module\n",
    "rand = np.random.random ((3, 4))\n",
    "print (rand)\n",
    "\n",
    "print ()\n",
    "\n",
    "# creates an \"empty\" array; array initialized to arbitrary values\n",
    "empty = np.empty ((2, 3))\n",
    "print (empty)\n",
    "\n",
    "print ()\n",
    "\n",
    "full = np.full ((3, 2), 11)\n",
    "print (full)\n",
    "\n",
    "print ()\n",
    "\n",
    "# creates an identity matrix\n",
    "diagonal = np.eye (5, 3)\n",
    "print (diagonal)"
   ]
  },
  {
   "cell_type": "markdown",
   "metadata": {},
   "source": [
    "#### Typecasting the numpy array to another object type\n",
    "\n",
    "*(using arrays created in previous cells)*"
   ]
  },
  {
   "cell_type": "code",
   "execution_count": 5,
   "metadata": {},
   "outputs": [
    {
     "name": "stdout",
     "output_type": "stream",
     "text": [
      "[[11 11]\n",
      " [11 11]\n",
      " [11 11]]\n",
      "int32\n",
      "\n",
      "[[11. 11.]\n",
      " [11. 11.]\n",
      " [11. 11.]]\n",
      "float64\n"
     ]
    }
   ],
   "source": [
    "print (full)\n",
    "print (full.dtype)\n",
    "\n",
    "print ()\n",
    "\n",
    "full = full.astype (float)\n",
    "print (full)\n",
    "print (full.dtype)"
   ]
  },
  {
   "cell_type": "markdown",
   "metadata": {},
   "source": [
    "#### Trying Broadcasting\n",
    "\n",
    "*Rules:*\n",
    "\n",
    "Operations can be performed when the two arrays are **compatible**. The are compatible when:\n",
    "\n",
    "1. The dimensions of the arrays are same. Eg. (3, 4) and (3, 4)\n",
    "\n",
    "2. When any one array has a dimension (1). Eg. (1, 4) (often shown as (4,) when arr.shape is printed)\n",
    "\n",
    "Broadcasting depends heavily on the fact that the shapes are compatible. If they are not, changes to shape must be made."
   ]
  },
  {
   "cell_type": "code",
   "execution_count": 6,
   "metadata": {},
   "outputs": [
    {
     "name": "stdout",
     "output_type": "stream",
     "text": [
      "[[1 1 1 1]\n",
      " [1 1 1 1]]\n",
      "(2, 4)\n",
      "\n",
      "[ 0 -2 -4 -6]\n",
      "(4,)\n",
      "\n",
      "[[1 3 5 7]\n",
      " [1 3 5 7]]\n",
      "\n",
      "[[-1 -3 -5 -7]\n",
      " [-1 -3 -5 -7]]\n"
     ]
    }
   ],
   "source": [
    "x = np.ones ((2, 4), dtype = int)\n",
    "print (x)\n",
    "print (x.shape)\n",
    "\n",
    "print ()\n",
    "\n",
    "y = np.arange (0, -8, -2)\n",
    "print (y)\n",
    "print (y.shape)\n",
    "\n",
    "print ()\n",
    "\n",
    "print (x - y)\n",
    "print ()\n",
    "print (y - x)"
   ]
  },
  {
   "cell_type": "code",
   "execution_count": 7,
   "metadata": {},
   "outputs": [
    {
     "name": "stdout",
     "output_type": "stream",
     "text": [
      "[[1 1 1]\n",
      " [1 1 1]\n",
      " [1 1 1]]\n",
      "(3, 3)\n",
      "(4,)\n"
     ]
    }
   ],
   "source": [
    "# using array y of previous cell\n",
    "x = np.ones ((3, 3), dtype = int)\n",
    "print (x)\n",
    "print (x.shape)\n",
    "print (y.shape)\n",
    "\n",
    "# gives ValueError\n",
    "# print (y - x)\n",
    "# print (x - y)"
   ]
  },
  {
   "cell_type": "code",
   "execution_count": 8,
   "metadata": {},
   "outputs": [
    {
     "name": "stdout",
     "output_type": "stream",
     "text": [
      "[[[0 0 0]\n",
      "  [0 0 0]\n",
      "  [0 0 0]\n",
      "  [0 0 0]]\n",
      "\n",
      " [[0 0 0]\n",
      "  [0 0 0]\n",
      "  [0 0 0]\n",
      "  [0 0 0]]]\n",
      "(2, 4, 3)\n",
      "\n",
      "[0 1 2]\n",
      "(3,)\n",
      "\n",
      "[0 1 2 3]\n",
      "(4,)\n",
      "\n",
      "[[[0 1 2]\n",
      "  [0 1 2]\n",
      "  [0 1 2]\n",
      "  [0 1 2]]\n",
      "\n",
      " [[0 1 2]\n",
      "  [0 1 2]\n",
      "  [0 1 2]\n",
      "  [0 1 2]]]\n"
     ]
    }
   ],
   "source": [
    "# using array y of previous cells\n",
    "x = np.zeros ((2, 4, 3), dtype = int)\n",
    "print (x)\n",
    "print (x.shape)\n",
    "\n",
    "print ()\n",
    "\n",
    "y1 = np.arange (3)\n",
    "print (y1)\n",
    "print (y1.shape)\n",
    "\n",
    "print ()\n",
    "\n",
    "y2 = np.arange (4)\n",
    "print (y2)\n",
    "print (y2.shape)\n",
    "\n",
    "print ()\n",
    "\n",
    "print (x + y1)\n",
    "# print (x + y2) gives ValueError"
   ]
  },
  {
   "cell_type": "markdown",
   "metadata": {},
   "source": [
    "*Note*:\n",
    "\n",
    "Arrays will not be compatible if the inner most dimension of both arrays are not same, even if the other dimension(s) is (1)."
   ]
  },
  {
   "cell_type": "code",
   "execution_count": 9,
   "metadata": {},
   "outputs": [
    {
     "name": "stdout",
     "output_type": "stream",
     "text": [
      "[[ 1  2  3  4]\n",
      " [ 2  4  6  8]\n",
      " [ 1  4  7 10]]\n",
      "\n",
      "[[11 12 13 14]\n",
      " [12 14 16 18]\n",
      " [11 14 17 20]]\n",
      "\n",
      "[[ 1  2  3  4]\n",
      " [ 2  4  6  8]\n",
      " [ 1  4  7 10]]\n",
      "\n",
      "[[ 10  20  30  40]\n",
      " [ 20  40  60  80]\n",
      " [ 10  40  70 100]]\n",
      "\n",
      "[[ 2.  4.  6.  8.]\n",
      " [ 4.  8. 12. 16.]\n",
      " [ 2.  8. 14. 20.]]\n"
     ]
    }
   ],
   "source": [
    "x = np.array ([[1, 2, 3, 4], [2, 4, 6, 8], np.arange(1, 13, 3)])\n",
    "print (x)\n",
    "\n",
    "print ()\n",
    "\n",
    "x += 10\n",
    "print (x)\n",
    "\n",
    "print ()\n",
    "\n",
    "x -= 10\n",
    "print (x)\n",
    "\n",
    "print ()\n",
    "\n",
    "x *= 10\n",
    "print (x)\n",
    "\n",
    "print ()\n",
    "\n",
    "x = x/5 # shorthand for / gives TypeError\n",
    "print (x)"
   ]
  },
  {
   "cell_type": "code",
   "execution_count": 10,
   "metadata": {},
   "outputs": [
    {
     "name": "stdout",
     "output_type": "stream",
     "text": [
      "[[2 3 4 5]\n",
      " [3 4 5 6]\n",
      " [1 2 3 4]]\n",
      "\n",
      "[[1 2 3 4]\n",
      " [3 4 5 6]\n",
      " [2 3 4 5]]\n",
      "\n",
      "[[ 3  5  7  9]\n",
      " [ 6  8 10 12]\n",
      " [ 3  5  7  9]]\n",
      "[[ 3  5  7  9]\n",
      " [ 6  8 10 12]\n",
      " [ 3  5  7  9]]\n",
      "\n",
      "[[ 1  1  1  1]\n",
      " [ 0  0  0  0]\n",
      " [-1 -1 -1 -1]]\n",
      "[[ 1  1  1  1]\n",
      " [ 0  0  0  0]\n",
      " [-1 -1 -1 -1]]\n",
      "\n",
      "[[ 2  6 12 20]\n",
      " [ 9 16 25 36]\n",
      " [ 2  6 12 20]]\n",
      "[[ 2  6 12 20]\n",
      " [ 9 16 25 36]\n",
      " [ 2  6 12 20]]\n",
      "\n",
      "[[2.         1.5        1.33333333 1.25      ]\n",
      " [1.         1.         1.         1.        ]\n",
      " [0.5        0.66666667 0.75       0.8       ]]\n",
      "[[2.         1.5        1.33333333 1.25      ]\n",
      " [1.         1.         1.         1.        ]\n",
      " [0.5        0.66666667 0.75       0.8       ]]\n",
      "\n",
      "[[0 1 1 1]\n",
      " [0 0 0 0]\n",
      " [1 2 3 4]]\n",
      "[[0 1 1 1]\n",
      " [0 0 0 0]\n",
      " [1 2 3 4]]\n"
     ]
    }
   ],
   "source": [
    "a = np.arange (2, 6)\n",
    "b = np.arange (3, 7)\n",
    "c = np.array ([a, b, np.arange(1, 5)])\n",
    "d = np.array ([np.arange (1, 5), b, a])\n",
    "print (c)\n",
    "print ()\n",
    "print (d)\n",
    "\n",
    "print ()\n",
    "\n",
    "print (np.add (c, d))\n",
    "print (c + d)\n",
    "\n",
    "print ()\n",
    "\n",
    "print (np.subtract (c, d))\n",
    "print (c - d)\n",
    "\n",
    "print ()\n",
    "\n",
    "print (np.multiply (c, d)) # element multiplication\n",
    "print (c * d)\n",
    "\n",
    "print ()\n",
    "\n",
    "print (np.divide (c, d))\n",
    "print (c/d)\n",
    "\n",
    "print ()\n",
    "\n",
    "print (np.remainder (c, d))\n",
    "print (c%d)"
   ]
  },
  {
   "cell_type": "markdown",
   "metadata": {},
   "source": [
    "#### Matrix multiplication using np.dot ()"
   ]
  },
  {
   "cell_type": "code",
   "execution_count": 11,
   "metadata": {
    "scrolled": true
   },
   "outputs": [
    {
     "name": "stdout",
     "output_type": "stream",
     "text": [
      "[[1 2 3]\n",
      " [4 5 6]] (2, 3)\n",
      "[[4]\n",
      " [5]\n",
      " [6]] (3, 1)\n",
      "[[32]\n",
      " [77]]\n"
     ]
    }
   ],
   "source": [
    "a = np.array ([np.arange (1, 4), np.arange (4, 7)])\n",
    "b = np.array ([[4], [5], [6]])\n",
    "print (a, a.shape)\n",
    "print (b, b.shape)\n",
    "\n",
    "print (np.dot (a, b)) # columns of a match with rows f b"
   ]
  },
  {
   "cell_type": "markdown",
   "metadata": {},
   "source": [
    "#### Subsets Slicing and Indexing"
   ]
  },
  {
   "cell_type": "code",
   "execution_count": 12,
   "metadata": {},
   "outputs": [
    {
     "name": "stdout",
     "output_type": "stream",
     "text": [
      "[[ 0  2  4  6  8]\n",
      " [10 12 14 16 18]\n",
      " [20 22 24 26 28]\n",
      " [30 32 34 36 38]] (4, 5)\n",
      "\n",
      "12\n",
      "12\n",
      "\n",
      "[[ 2  4  6]\n",
      " [12 14 16]\n",
      " [22 24 26]\n",
      " [32 34 36]]\n",
      "[[10 12 14 16 18]\n",
      " [20 22 24 26 28]]\n",
      "[[ 8  6]\n",
      " [18 16]\n",
      " [28 26]\n",
      " [38 36]]\n",
      "[32 34 36]\n"
     ]
    }
   ],
   "source": [
    "arr = np.array ([np.arange (5), np.arange (5, 10), np.arange (10, 15), np.arange (15, 20)]) * 2\n",
    "print (arr, arr.shape)\n",
    "\n",
    "print ()\n",
    "\n",
    "print (arr[1][1]) # normal indexing for lists, works for arrays as well\n",
    "print (arr [1, 1]) # indexing for arrays; doesn't work for lists\n",
    "\n",
    "print ()\n",
    "\n",
    "print (arr [:, 1:4]) # slicing used in arrays as well\n",
    "print (arr [1:3, :])\n",
    "print (arr [:, -1:-3:-1])\n",
    "print (arr [-1, 1:4])"
   ]
  },
  {
   "cell_type": "markdown",
   "metadata": {},
   "source": [
    "#### Boolean numpy arrays?\n",
    "\n",
    "Using a Boolean to create an array with dtype = bool.\n",
    "\n",
    "Then using that bool type array to print certain elements which satisfy the condition."
   ]
  },
  {
   "cell_type": "code",
   "execution_count": 13,
   "metadata": {},
   "outputs": [
    {
     "name": "stdout",
     "output_type": "stream",
     "text": [
      "[[ True False False  True False]\n",
      " [False  True False False  True]\n",
      " [False False  True False False]\n",
      " [ True False False  True False]]\n",
      "bool (4, 5)\n",
      "[ 0  6 12 18 24 30 36]\n"
     ]
    }
   ],
   "source": [
    "my_filter = arr%3 == 0\n",
    "print (my_filter)\n",
    "print (my_filter.dtype, my_filter.shape)\n",
    "print (arr[my_filter])"
   ]
  },
  {
   "cell_type": "code",
   "execution_count": 14,
   "metadata": {},
   "outputs": [
    {
     "name": "stdout",
     "output_type": "stream",
     "text": [
      "38\n"
     ]
    }
   ],
   "source": [
    "# using arr array of previous cell\n",
    "# tuples, lists can be used as array indexes; slicing can't be used\n",
    "index = (3, 4)\n",
    "print (arr[index])\n",
    "\n",
    "# new_index = [1:2, 3] # gives SyntaxError\n",
    "# print (arr[new_index])"
   ]
  },
  {
   "cell_type": "markdown",
   "metadata": {},
   "source": [
    "#### Reshaping numpy arrays\n",
    "\n",
    "An array with dimension (m, n) can be changed into another dimension (p, q) if m \\* n = p \\* q"
   ]
  },
  {
   "cell_type": "code",
   "execution_count": 15,
   "metadata": {},
   "outputs": [
    {
     "name": "stdout",
     "output_type": "stream",
     "text": [
      "[[[ 0  1  2]\n",
      "  [ 3  4  5]]\n",
      "\n",
      " [[13 14 15]\n",
      "  [16 17 18]]] (2, 2, 3)\n",
      "\n",
      "[ 0  1  2  3  4  5 13 14 15 16 17 18] (12,)\n",
      "\n",
      "[[ 0  1  2  3  4  5 13 14 15 16 17 18]] (1, 12)\n",
      "\n",
      "[[ 0  1  2  3]\n",
      " [ 4  5 13 14]\n",
      " [15 16 17 18]] (3, 4)\n",
      "\n",
      "[[[ 0  1  2  3]]\n",
      "\n",
      " [[ 4  5 13 14]]\n",
      "\n",
      " [[15 16 17 18]]] (3, 1, 4)\n"
     ]
    }
   ],
   "source": [
    "n_arr = np.array ([[np.arange (3), np.arange (3, 6)], [np.arange (13, 16), np.arange (16, 19)]])\n",
    "print (n_arr, n_arr.shape)\n",
    "print ()\n",
    "print (n_arr.reshape (-1), n_arr.reshape(-1).shape) # changed dimensions from (2, 3, 4) to (24, )\n",
    "print ()\n",
    "print (n_arr.reshape (1, 12), n_arr.reshape(1, 12).shape)\n",
    "print ()\n",
    "print (n_arr.reshape (3, 4), n_arr.reshape(3, 4).shape)\n",
    "print ()\n",
    "print (n_arr.reshape (3, 1, 4), n_arr.reshape(3, 1, 4).shape)"
   ]
  },
  {
   "cell_type": "markdown",
   "metadata": {},
   "source": [
    "#### Importing iris dataset from sklearn module to use slicing"
   ]
  },
  {
   "cell_type": "code",
   "execution_count": 16,
   "metadata": {},
   "outputs": [
    {
     "name": "stdout",
     "output_type": "stream",
     "text": [
      "[0.2 0.2 0.2 0.2 0.2 0.4 0.3 0.2 0.2 0.1 0.2 0.2 0.1 0.1 0.2 0.4 0.4 0.3\n",
      " 0.3 0.3 0.2 0.4 0.2 0.5 0.2 0.2 0.4 0.2 0.2 0.2 0.2 0.4 0.1 0.2 0.1 0.2\n",
      " 0.2 0.1 0.2 0.2 0.3 0.3 0.2 0.6 0.4 0.3 0.2 0.2 0.2 0.2 1.4 1.5 1.5 1.3\n",
      " 1.5 1.3 1.6 1.  1.3 1.4 1.  1.5 1.  1.4 1.3 1.4 1.5 1.  1.5 1.1 1.8 1.3\n",
      " 1.5 1.2 1.3 1.4 1.4 1.7 1.5 1.  1.1 1.  1.2 1.6 1.5 1.6 1.5 1.3 1.3 1.3\n",
      " 1.2 1.4 1.2 1.  1.3 1.2 1.3 1.3 1.1 1.3 2.5 1.9 2.1 1.8 2.2 2.1 1.7 1.8\n",
      " 1.8 2.5 2.  1.9 2.1 2.  2.4 2.3 1.8 2.2 2.3 1.5 2.3 2.  2.  1.8 2.1 1.8\n",
      " 1.8 1.8 2.1 1.6 1.9 2.  2.2 1.5 1.4 2.3 2.4 1.8 1.8 2.1 2.4 2.3 1.9 2.3\n",
      " 2.5 2.3 1.9 2.  2.3 1.8]\n"
     ]
    }
   ],
   "source": [
    "from sklearn import datasets\n",
    "iris_data = datasets.load_iris ()\n",
    "x = iris_data['data']\n",
    "x = x [:, -1]\n",
    "print (x)"
   ]
  }
 ],
 "metadata": {
  "kernelspec": {
   "display_name": "Python 3",
   "language": "python",
   "name": "python3"
  },
  "language_info": {
   "codemirror_mode": {
    "name": "ipython",
    "version": 3
   },
   "file_extension": ".py",
   "mimetype": "text/x-python",
   "name": "python",
   "nbconvert_exporter": "python",
   "pygments_lexer": "ipython3",
   "version": "3.6.5"
  }
 },
 "nbformat": 4,
 "nbformat_minor": 2
}
