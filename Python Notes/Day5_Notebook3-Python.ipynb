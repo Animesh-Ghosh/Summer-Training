{
 "cells": [
  {
   "cell_type": "markdown",
   "metadata": {},
   "source": [
    "## Conditional constructs\n",
    "\n",
    "if...else in Python provides the ability to use Boolean statements to do some stuff a condition is met.\n",
    "\n",
    "```\n",
    "if (Boolean statement):\n",
    "    ...do some stuff\n",
    "elif (Boolean statement2):\n",
    "    ...do some other stuff\n",
    "else (Boolean statement):\n",
    "    ...do some stuff if all other conditions fail\n",
    "```\n",
    "\n",
    "*(The else in the end is optional)*"
   ]
  },
  {
   "cell_type": "code",
   "execution_count": 1,
   "metadata": {},
   "outputs": [
    {
     "name": "stdout",
     "output_type": "stream",
     "text": [
      "0 0\n",
      "0.5\n",
      "1 1\n",
      "2 32\n",
      "3 243\n",
      "4 1024\n"
     ]
    }
   ],
   "source": [
    "x = 0\n",
    "while x < 5:\n",
    "    print (x, x**5)\n",
    "    x += 1\n",
    "    if x//2 == 0:\n",
    "        print (x/2)\n",
    "        continue"
   ]
  },
  {
   "cell_type": "markdown",
   "metadata": {},
   "source": [
    "## Boolean\n",
    "\n",
    "True: can be used to get a True value from a Boolean statement\n",
    "\n",
    "False: can be used to get a False value from a Boolean statement"
   ]
  },
  {
   "cell_type": "code",
   "execution_count": 2,
   "metadata": {},
   "outputs": [
    {
     "name": "stdout",
     "output_type": "stream",
     "text": [
      "Hello World!\n"
     ]
    }
   ],
   "source": [
    "if True:\n",
    "    print ('Hello World!')\n",
    "else:\n",
    "    print ('Not True.')"
   ]
  },
  {
   "cell_type": "code",
   "execution_count": 3,
   "metadata": {},
   "outputs": [
    {
     "name": "stdout",
     "output_type": "stream",
     "text": [
      "Enter age: 22\n",
      "Marriage?\n"
     ]
    }
   ],
   "source": [
    "age = int (input ('Enter age: '))\n",
    "\n",
    "if age > 21:\n",
    "    print(\"Marriage?\")\n",
    "elif age > 25:\n",
    "    print(\"Registration\")\n",
    "elif age > 30:\n",
    "    print(\"Bhai tu jaane de...\")\n",
    "else: \n",
    "    print(\"Beta padhai pe dhyan de lo.\")"
   ]
  },
  {
   "cell_type": "code",
   "execution_count": 4,
   "metadata": {},
   "outputs": [
    {
     "name": "stdout",
     "output_type": "stream",
     "text": [
      "beta shaadi kab karoge?\n",
      "Registration Kab karoge\n",
      "beta shaadi kab karoge?\n",
      "Registration Kab karoge\n",
      "beta shaadi kab karoge?\n",
      "Registration Kab karoge\n"
     ]
    }
   ],
   "source": [
    "for i in range (3):\n",
    "    if age > 21:\n",
    "        print(\"beta shaadi kab karoge?\")\n",
    "        if \"already married\": # even if there's no Boolean statement, if an object is there, if evaluates to True\n",
    "            print(\"Registration Kab karoge\")\n",
    "        else:\n",
    "            print(\"Pammi aunty ki beta bahut acha hai.\")\n",
    "    else:\n",
    "        print(\"kitne number aaye is baar?\")"
   ]
  },
  {
   "cell_type": "markdown",
   "metadata": {},
   "source": [
    "## Tuples\n",
    "\n",
    "An immutable data structure, similar to a list."
   ]
  },
  {
   "cell_type": "code",
   "execution_count": 5,
   "metadata": {},
   "outputs": [
    {
     "name": "stdout",
     "output_type": "stream",
     "text": [
      "Test\n",
      "1234\n",
      "_yes/no\n",
      "1234\n",
      "(1234, '_yes/no')\n"
     ]
    }
   ],
   "source": [
    "my_tuple = ('Test', 1234, '_yes/no')\n",
    "\n",
    "for item in my_tuple:\n",
    "    print (item)\n",
    "    \n",
    "print (my_tuple[1])\n",
    "print (my_tuple[1:])"
   ]
  },
  {
   "cell_type": "markdown",
   "metadata": {},
   "source": [
    "## Loop control statements\n",
    "\n",
    "**break** - takes control out fo the loop body\n",
    "\n",
    "**continue** - skips to the next iteration of the loop, ignoring the following sequence of statements"
   ]
  },
  {
   "cell_type": "code",
   "execution_count": 6,
   "metadata": {},
   "outputs": [
    {
     "name": "stdout",
     "output_type": "stream",
     "text": [
      "A List "
     ]
    }
   ],
   "source": [
    "my_tuple = ('A', 2, 'List', 3.14, '2e-10')\n",
    "for item in my_tuple:\n",
    "    if item == 2:\n",
    "        continue\n",
    "    if item == my_tuple[3]:\n",
    "        break\n",
    "    print (item, end = ' ')"
   ]
  },
  {
   "cell_type": "markdown",
   "metadata": {},
   "source": [
    "## Dictionaries\n",
    "\n",
    "Data structure which uses hashing to store a key-value pair.\n",
    "\n",
    "No indexing or slicing happens in dictionary, since it used keys to store the values."
   ]
  },
  {
   "cell_type": "code",
   "execution_count": 7,
   "metadata": {
    "scrolled": true
   },
   "outputs": [
    {
     "name": "stdout",
     "output_type": "stream",
     "text": [
      "dict_keys(['Name', 'Age', 'Sex', 'Course', 'Life'])\n",
      "Name\n",
      "Age\n",
      "Sex\n",
      "Course\n",
      "Life\n",
      "Name : Abhi\n",
      "Age : 20.0\n",
      "Sex : M\n",
      "Course : BCA\n",
      "Life : 0\n"
     ]
    }
   ],
   "source": [
    "new_dict = {'Name': 'Abhi', 'Age': 20.0, 'Sex': 'M', 'Course': 'BCA', 'Life': 0}\n",
    "\n",
    "print (new_dict.keys ())\n",
    "\n",
    "for item in new_dict:\n",
    "    print (item)\n",
    "    \n",
    "for key, value in new_dict.items ():\n",
    "    print (key, ':', value)"
   ]
  },
  {
   "cell_type": "code",
   "execution_count": 8,
   "metadata": {},
   "outputs": [
    {
     "name": "stdout",
     "output_type": "stream",
     "text": [
      "('Name', 'Abhi')\n",
      "('Age', 20.0)\n",
      "('Sex', 'M')\n",
      "('Course', 'BCA')\n",
      "('Life', 0)\n",
      "Name : Abhi\n",
      "Age : 20.0\n",
      "Sex : M\n",
      "Course : BCA\n",
      "Life : 0\n",
      "Name Abhi\n",
      "Age 20.0\n",
      "Sex M\n",
      "Course BCA\n",
      "Life 0\n"
     ]
    }
   ],
   "source": [
    "for item in new_dict.items ():\n",
    "    print (item)\n",
    "    \n",
    "for item in new_dict:\n",
    "    print (item, ':', new_dict[item])\n",
    "    \n",
    "for item in new_dict.items ():\n",
    "    print (item[0], item[1])"
   ]
  },
  {
   "cell_type": "code",
   "execution_count": 9,
   "metadata": {},
   "outputs": [
    {
     "name": "stdout",
     "output_type": "stream",
     "text": [
      "Number of unique characters in Helloo are:\n",
      " 4\n",
      "Count of each character:\n",
      " {'H': 1, 'e': 1, 'l': 2, 'o': 2}\n"
     ]
    }
   ],
   "source": [
    "my_dict = {}\n",
    "string = 'Helloo'\n",
    "for k in string:\n",
    "    if k in my_dict:\n",
    "        my_dict[k] += 1\n",
    "    else:\n",
    "        my_dict[k] = 1\n",
    "print ('Number of unique characters in', string, 'are:\\n', len(my_dict.keys()))\n",
    "print ('Count of each character:\\n', my_dict)"
   ]
  },
  {
   "cell_type": "code",
   "execution_count": 10,
   "metadata": {},
   "outputs": [
    {
     "name": "stdout",
     "output_type": "stream",
     "text": [
      "{'Age': 20.0, 'Course': 'BCA', 'Life': 0, 'Name': 'NA', 'Sex': 'M'}\n",
      "Name NA\n",
      "Age 20.0\n",
      "Sex M\n",
      "Course BCA\n",
      "Life 0\n"
     ]
    }
   ],
   "source": [
    "from pprint import pprint\n",
    "new_dict = {'Name': 'NA', 'Age': 20.0, 'Sex': 'M', 'Course': 'BCA', 'Life': 0}\n",
    "pprint (new_dict)\n",
    "for key in new_dict:\n",
    "    print (key, new_dict[key])"
   ]
  },
  {
   "cell_type": "code",
   "execution_count": 11,
   "metadata": {},
   "outputs": [
    {
     "name": "stdout",
     "output_type": "stream",
     "text": [
      "[0, 1, 2, 'new_item', 4]\n"
     ]
    }
   ],
   "source": [
    "my_list = []\n",
    "for i in range(5):\n",
    "    my_list.append(i)\n",
    "my_list[3] = 'new_item'\n",
    "print (my_list)"
   ]
  },
  {
   "cell_type": "markdown",
   "metadata": {},
   "source": [
    "## None\n",
    "\n",
    "None is an object type which specifies that there is no object."
   ]
  },
  {
   "cell_type": "code",
   "execution_count": 12,
   "metadata": {},
   "outputs": [
    {
     "name": "stdout",
     "output_type": "stream",
     "text": [
      "No object\n"
     ]
    }
   ],
   "source": [
    "x = None\n",
    "#x = 'Not None'\n",
    "if x:\n",
    "    print ('Object')\n",
    "else:\n",
    "    print ('No object')"
   ]
  },
  {
   "cell_type": "markdown",
   "metadata": {},
   "source": [
    "### Range\n",
    "\n",
    "Usually used in loops, returns an iterable sequence."
   ]
  },
  {
   "cell_type": "code",
   "execution_count": 13,
   "metadata": {},
   "outputs": [
    {
     "name": "stdout",
     "output_type": "stream",
     "text": [
      "range(0, 15)\n",
      "[0, 1, 2, 3, 4, 5, 6, 7, 8, 9, 10, 11, 12, 13, 14]\n",
      "2 x 1 = 2\n",
      "2 x 2 = 4\n",
      "2 x 3 = 6\n",
      "2 x 4 = 8\n",
      "2 x 5 = 10\n",
      "2 x 6 = 12\n",
      "2 x 7 = 14\n",
      "2 x 8 = 16\n",
      "2 x 9 = 18\n",
      "2 x 10 = 20\n"
     ]
    }
   ],
   "source": [
    "print (range (15))\n",
    "print (list (range (15)))\n",
    "\n",
    "for ghoda in range (1, 11):\n",
    "    print ('2 x', ghoda, '=',2 * ghoda)"
   ]
  },
  {
   "cell_type": "markdown",
   "metadata": {},
   "source": [
    "## Functions\n",
    "\n",
    "**Syntax**:\n",
    "\n",
    "```\n",
    "def function_name( arguments ): \n",
    "    function line\n",
    "    function line2\n",
    "    function line 3\n",
    "    return (object(s))\n",
    "```\n",
    "\n",
    "In function definitions, syntax errors will be found but runtime/logical errors will only be found when the function is called."
   ]
  },
  {
   "cell_type": "code",
   "execution_count": 14,
   "metadata": {},
   "outputs": [
    {
     "name": "stdout",
     "output_type": "stream",
     "text": [
      "0 1 2 3 4 5 6 7 8 9 10 "
     ]
    }
   ],
   "source": [
    "def my_range(n):\n",
    "    my_list = []\n",
    "    for item in range(0,n+1):\n",
    "        my_list.append(item)\n",
    "    \n",
    "    return my_list\n",
    "\n",
    "for i in my_range (10):\n",
    "    print (i, end = ' ')"
   ]
  },
  {
   "cell_type": "code",
   "execution_count": 15,
   "metadata": {},
   "outputs": [],
   "source": [
    "def Uni (string):\n",
    "    mydict = {}\n",
    "    for k in string:\n",
    "        if k in mydict:\n",
    "            mydict[k] += 1\n",
    "        else:\n",
    "            mydict[k] = 1\n",
    "    return mydict"
   ]
  },
  {
   "cell_type": "code",
   "execution_count": 16,
   "metadata": {},
   "outputs": [
    {
     "name": "stdout",
     "output_type": "stream",
     "text": [
      "Enter a string: HEellOOo World\n",
      "Number of unique characters in Helloo are:\n",
      " 8\n",
      "Count of each character:\n",
      " {'h': 1, 'e': 2, 'l': 3, 'o': 4, ' ': 1, 'w': 1, 'r': 1, 'd': 1}\n"
     ]
    }
   ],
   "source": [
    "new_string = input ('Enter a string: ')\n",
    "newD = Uni(new_string.casefold ())\n",
    "print ('Number of unique characters in', string, 'are:\\n', len(newD.keys()))\n",
    "print ('Count of each character:\\n', newD)"
   ]
  }
 ],
 "metadata": {
  "kernelspec": {
   "display_name": "Python 3",
   "language": "python",
   "name": "python3"
  },
  "language_info": {
   "codemirror_mode": {
    "name": "ipython",
    "version": 3
   },
   "file_extension": ".py",
   "mimetype": "text/x-python",
   "name": "python",
   "nbconvert_exporter": "python",
   "pygments_lexer": "ipython3",
   "version": "3.7.0"
  }
 },
 "nbformat": 4,
 "nbformat_minor": 2
}
