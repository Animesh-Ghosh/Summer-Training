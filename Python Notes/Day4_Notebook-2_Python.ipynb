{
 "cells": [
  {
   "cell_type": "markdown",
   "metadata": {},
   "source": [
    "### Comparison operator **'=='**\n",
    "\n",
    "**==** used to compare two values. Works fine for *integers*.\n",
    "\n",
    "**Messes up** for *fractions*."
   ]
  },
  {
   "cell_type": "code",
   "execution_count": 1,
   "metadata": {},
   "outputs": [
    {
     "name": "stdout",
     "output_type": "stream",
     "text": [
      "True\n"
     ]
    }
   ],
   "source": [
    "x, y = 10, 37\n",
    "print (x + y == 47)"
   ]
  },
  {
   "cell_type": "code",
   "execution_count": 2,
   "metadata": {},
   "outputs": [
    {
     "name": "stdout",
     "output_type": "stream",
     "text": [
      "False\n",
      "True\n"
     ]
    }
   ],
   "source": [
    "x, y = 0.1, 0.2\n",
    "print (x + y == 0.3) # returns false\n",
    "print (x + y - 0.3 < 0.00001) # returns true"
   ]
  },
  {
   "cell_type": "code",
   "execution_count": 3,
   "metadata": {},
   "outputs": [
    {
     "name": "stdout",
     "output_type": "stream",
     "text": [
      "0.7999999999999999\n"
     ]
    }
   ],
   "source": [
    "print (0.1 + 0.1 + 0.1 + 0.1 + 0.1 + 0.1 + 0.1 + 0.1)"
   ]
  },
  {
   "cell_type": "markdown",
   "metadata": {},
   "source": [
    "**IEEE 754** ... is *interesting*..."
   ]
  },
  {
   "cell_type": "code",
   "execution_count": 4,
   "metadata": {},
   "outputs": [
    {
     "name": "stdout",
     "output_type": "stream",
     "text": [
      "10.0\n",
      "9.0\n"
     ]
    }
   ],
   "source": [
    "x, y = 1.0, 0.1\n",
    "print (x/y) # division yeilds 10\n",
    "print (x//y) # floor division yeilds something else"
   ]
  },
  {
   "cell_type": "code",
   "execution_count": 5,
   "metadata": {
    "scrolled": true
   },
   "outputs": [
    {
     "ename": "ValueError",
     "evalue": "invalid literal for int() with base 10: '12.56'",
     "output_type": "error",
     "traceback": [
      "\u001b[1;31m---------------------------------------------------------------------------\u001b[0m",
      "\u001b[1;31mValueError\u001b[0m                                Traceback (most recent call last)",
      "\u001b[1;32m<ipython-input-5-ecb7d3af163d>\u001b[0m in \u001b[0;36m<module>\u001b[1;34m()\u001b[0m\n\u001b[0;32m      1\u001b[0m \u001b[0mn\u001b[0m \u001b[1;33m=\u001b[0m \u001b[1;34m'12.56'\u001b[0m\u001b[1;33m\u001b[0m\u001b[0m\n\u001b[0;32m      2\u001b[0m \u001b[0mfloat\u001b[0m \u001b[1;33m(\u001b[0m\u001b[0mn\u001b[0m\u001b[1;33m)\u001b[0m \u001b[1;31m# need to hold value in a variable\u001b[0m\u001b[1;33m\u001b[0m\u001b[0m\n\u001b[1;32m----> 3\u001b[1;33m \u001b[0mint\u001b[0m \u001b[1;33m(\u001b[0m\u001b[0mn\u001b[0m\u001b[1;33m)\u001b[0m \u001b[1;31m# wrong value is being passed\u001b[0m\u001b[1;33m\u001b[0m\u001b[0m\n\u001b[0m",
      "\u001b[1;31mValueError\u001b[0m: invalid literal for int() with base 10: '12.56'"
     ]
    }
   ],
   "source": [
    "n = '12.56'\n",
    "float (n) # need to hold value in a variable\n",
    "int (n) # wrong value is being passed"
   ]
  },
  {
   "cell_type": "markdown",
   "metadata": {},
   "source": [
    "Fixed error of the cell above."
   ]
  },
  {
   "cell_type": "code",
   "execution_count": 6,
   "metadata": {},
   "outputs": [
    {
     "data": {
      "text/plain": [
       "12"
      ]
     },
     "execution_count": 6,
     "metadata": {},
     "output_type": "execute_result"
    }
   ],
   "source": [
    "n = '12.56'\n",
    "n = float (n)\n",
    "int (n) # correct value is being passed"
   ]
  },
  {
   "cell_type": "markdown",
   "metadata": {},
   "source": [
    "### Difference between string and list\n",
    "\n",
    "*Strings* are immutable objects while *Lists* are mutable.\n",
    "\n",
    "A = B means different things for different objects.\n",
    "\n",
    "For *lists* assigning normally means a reference is assigned, while assigning with slicing means a copy is made which is then assigned."
   ]
  },
  {
   "cell_type": "markdown",
   "metadata": {},
   "source": [
    "### Examples of string initialization\n",
    "\n",
    "string1 *-->* single quote init\n",
    "\n",
    "string2 *-->* double quote init, ignores single quote as string identifier\n",
    "\n",
    "string3 *-->* multi-line formatted output"
   ]
  },
  {
   "cell_type": "code",
   "execution_count": 7,
   "metadata": {
    "scrolled": true
   },
   "outputs": [
    {
     "name": "stdout",
     "output_type": "stream",
     "text": [
      "Jhimmili Kammal\n",
      "Anthony's stuff is OK, I guess?\n",
      "JK\n",
      "            It's not.\n",
      "            I KID.\n"
     ]
    }
   ],
   "source": [
    "string1 = 'Jhimmili Kammal'\n",
    "string2 = \"Anthony's stuff is OK, I guess?\"\n",
    "string3 = '''JK\n",
    "            It\\'s not.\n",
    "            I KID.'''\n",
    "print (string1)\n",
    "print (string2)\n",
    "print (string3)"
   ]
  },
  {
   "cell_type": "code",
   "execution_count": 8,
   "metadata": {},
   "outputs": [
    {
     "name": "stdout",
     "output_type": "stream",
     "text": [
      "Raw string. Ignores escape characters like \\n, \\t and \\', \\\\\n"
     ]
    }
   ],
   "source": [
    "print (r'Raw string. Ignores escape characters like \\n, \\t and \\', \\\\')"
   ]
  },
  {
   "cell_type": "code",
   "execution_count": 9,
   "metadata": {},
   "outputs": [
    {
     "name": "stdout",
     "output_type": "stream",
     "text": [
      "<class 'str'> 15\n"
     ]
    }
   ],
   "source": [
    "print (type (string1), len (string1))"
   ]
  },
  {
   "cell_type": "markdown",
   "metadata": {},
   "source": [
    "#### easter egg\n",
    "\n",
    "xkcd"
   ]
  },
  {
   "cell_type": "code",
   "execution_count": 10,
   "metadata": {},
   "outputs": [],
   "source": [
    "# import antigravity"
   ]
  },
  {
   "cell_type": "markdown",
   "metadata": {},
   "source": [
    "#### Operator overloading for +, *\n",
    "\n",
    "\\+ Used to concatenate strings, and * used to repeat a string."
   ]
  },
  {
   "cell_type": "code",
   "execution_count": 11,
   "metadata": {},
   "outputs": [
    {
     "name": "stdout",
     "output_type": "stream",
     "text": [
      "Jhimmili Kammal music video\n",
      "Jhimmili Kammal music video, Jhimmili Kammal music video, Jhimmili Kammal music video,  is OK.\n"
     ]
    }
   ],
   "source": [
    "OPstring = string1 + ' music video'\n",
    "print (OPstring)\n",
    "print ((OPstring + ', ') * 3, 'is OK.')"
   ]
  },
  {
   "cell_type": "markdown",
   "metadata": {},
   "source": [
    "#### dir() method\n",
    "\n",
    "shows all class members, methods for an object.\n",
    "\n",
    "```\n",
    "dir (object)\n",
    "```"
   ]
  },
  {
   "cell_type": "code",
   "execution_count": 12,
   "metadata": {
    "scrolled": true
   },
   "outputs": [
    {
     "data": {
      "text/plain": [
       "['__add__',\n",
       " '__class__',\n",
       " '__contains__',\n",
       " '__delattr__',\n",
       " '__dir__',\n",
       " '__doc__',\n",
       " '__eq__',\n",
       " '__format__',\n",
       " '__ge__',\n",
       " '__getattribute__',\n",
       " '__getitem__',\n",
       " '__getnewargs__',\n",
       " '__gt__',\n",
       " '__hash__',\n",
       " '__init__',\n",
       " '__init_subclass__',\n",
       " '__iter__',\n",
       " '__le__',\n",
       " '__len__',\n",
       " '__lt__',\n",
       " '__mod__',\n",
       " '__mul__',\n",
       " '__ne__',\n",
       " '__new__',\n",
       " '__reduce__',\n",
       " '__reduce_ex__',\n",
       " '__repr__',\n",
       " '__rmod__',\n",
       " '__rmul__',\n",
       " '__setattr__',\n",
       " '__sizeof__',\n",
       " '__str__',\n",
       " '__subclasshook__',\n",
       " 'capitalize',\n",
       " 'casefold',\n",
       " 'center',\n",
       " 'count',\n",
       " 'encode',\n",
       " 'endswith',\n",
       " 'expandtabs',\n",
       " 'find',\n",
       " 'format',\n",
       " 'format_map',\n",
       " 'index',\n",
       " 'isalnum',\n",
       " 'isalpha',\n",
       " 'isdecimal',\n",
       " 'isdigit',\n",
       " 'isidentifier',\n",
       " 'islower',\n",
       " 'isnumeric',\n",
       " 'isprintable',\n",
       " 'isspace',\n",
       " 'istitle',\n",
       " 'isupper',\n",
       " 'join',\n",
       " 'ljust',\n",
       " 'lower',\n",
       " 'lstrip',\n",
       " 'maketrans',\n",
       " 'partition',\n",
       " 'replace',\n",
       " 'rfind',\n",
       " 'rindex',\n",
       " 'rjust',\n",
       " 'rpartition',\n",
       " 'rsplit',\n",
       " 'rstrip',\n",
       " 'split',\n",
       " 'splitlines',\n",
       " 'startswith',\n",
       " 'strip',\n",
       " 'swapcase',\n",
       " 'title',\n",
       " 'translate',\n",
       " 'upper',\n",
       " 'zfill']"
      ]
     },
     "execution_count": 12,
     "metadata": {},
     "output_type": "execute_result"
    }
   ],
   "source": [
    "dir (string1)"
   ]
  },
  {
   "cell_type": "markdown",
   "metadata": {},
   "source": [
    "#### Some methods of strings."
   ]
  },
  {
   "cell_type": "code",
   "execution_count": 13,
   "metadata": {},
   "outputs": [
    {
     "name": "stdout",
     "output_type": "stream",
     "text": [
      "Jhimmili kammal\n",
      "jhimmili kammal\n",
      "3\n",
      "APthoPy's stuff is OK, I guess?\n"
     ]
    }
   ],
   "source": [
    "print (string1.capitalize ())\n",
    "print (string1.casefold ())\n",
    "print (string3.count ('I'))\n",
    "print (string2.replace ('n', 'P'))"
   ]
  },
  {
   "cell_type": "code",
   "execution_count": 14,
   "metadata": {},
   "outputs": [
    {
     "name": "stdout",
     "output_type": "stream",
     "text": [
      "31\n"
     ]
    },
    {
     "ename": "IndexError",
     "evalue": "string index out of range",
     "output_type": "error",
     "traceback": [
      "\u001b[1;31m---------------------------------------------------------------------------\u001b[0m",
      "\u001b[1;31mIndexError\u001b[0m                                Traceback (most recent call last)",
      "\u001b[1;32m<ipython-input-14-79c4893baba5>\u001b[0m in \u001b[0;36m<module>\u001b[1;34m()\u001b[0m\n\u001b[0;32m      1\u001b[0m \u001b[0mprint\u001b[0m \u001b[1;33m(\u001b[0m\u001b[0mlen\u001b[0m \u001b[1;33m(\u001b[0m\u001b[0mstring2\u001b[0m\u001b[1;33m)\u001b[0m\u001b[1;33m)\u001b[0m\u001b[1;33m\u001b[0m\u001b[0m\n\u001b[1;32m----> 2\u001b[1;33m \u001b[0mprint\u001b[0m \u001b[1;33m(\u001b[0m\u001b[0mstring2\u001b[0m\u001b[1;33m[\u001b[0m\u001b[1;36m31\u001b[0m\u001b[1;33m]\u001b[0m\u001b[1;33m)\u001b[0m\u001b[1;33m\u001b[0m\u001b[0m\n\u001b[0m",
      "\u001b[1;31mIndexError\u001b[0m: string index out of range"
     ]
    }
   ],
   "source": [
    "print (len (string2))\n",
    "print (string2[31])"
   ]
  },
  {
   "cell_type": "markdown",
   "metadata": {},
   "source": [
    "### Slicing\n",
    "\n",
    "An easier way to get subsequences out of a sequence.\n",
    "\n",
    "Useful for copying a string (or a substring within it) to another string.\n",
    "\n",
    "*(Since strings are immutable, assigning them to a variable means the variable points to the memory location of the string).*"
   ]
  },
  {
   "cell_type": "code",
   "execution_count": 15,
   "metadata": {},
   "outputs": [
    {
     "name": "stdout",
     "output_type": "stream",
     "text": [
      "Kammal\n",
      "Atoyssufi K  us?\n",
      ".DIK I            \n",
      ".ton s'tI            \n",
      "KJ\n",
      "Jhimmili Kammal\n",
      "\n"
     ]
    }
   ],
   "source": [
    "print (string1[9:]) # returns string1 from 9th index to the last.\n",
    "print (string2[::2]) # returns string2 from 0th index to the last in steps of 2\n",
    "print (string3[::-1]) # returns string3 in reverse\n",
    "print (string1[:124]) # works because if the index is greater than the size, it replaces it with len(string1)\n",
    "print (string1[888:555]) # returns empty string"
   ]
  },
  {
   "cell_type": "markdown",
   "metadata": {},
   "source": [
    "### For loop\n",
    "\n",
    "```\n",
    "for i in (iterable):\n",
    "    ..some methods\n",
    "    \n",
    "```\n",
    "\n",
    "Iterates over a sequence. Quite useful.\n",
    "\n",
    "``while (condition):`` is another loop useful for looping on a condtion.\n",
    "\n",
    "*Note: no do ... while loop exists in Python.*"
   ]
  },
  {
   "cell_type": "code",
   "execution_count": 16,
   "metadata": {},
   "outputs": [
    {
     "name": "stdout",
     "output_type": "stream",
     "text": [
      "J h i m m i l i   K a m m a l \n",
      "J Hello h Hello i Hello m Hello m Hello i Hello l Hello i Hello   Hello K Hello a Hello m Hello m Hello a Hello l Hello "
     ]
    }
   ],
   "source": [
    "for i in string1:\n",
    "    print (i, end = ' ')\n",
    "    \n",
    "print ()\n",
    "\n",
    "for kuchhbhi in string1:\n",
    "    print (kuchhbhi, 'Hello', end = ' ')"
   ]
  },
  {
   "cell_type": "markdown",
   "metadata": {},
   "source": [
    "### Lists\n",
    "\n",
    "A sequence of different types of items."
   ]
  },
  {
   "cell_type": "code",
   "execution_count": 17,
   "metadata": {},
   "outputs": [
    {
     "name": "stdout",
     "output_type": "stream",
     "text": [
      "[]\n",
      "[42, 'stringz', 'lame']\n",
      "[42, 'stringz', 'lame', []]\n"
     ]
    }
   ],
   "source": [
    "my_list = []\n",
    "print (my_list) \n",
    "my_list.append (42) # initializing an empty list with .append () method\n",
    "my_list.append ('stringz') # can take different data objects\n",
    "my_list.append ('lame')\n",
    "print (my_list)\n",
    "my_list.append ([]) # can append a list to a list\n",
    "print (my_list)"
   ]
  },
  {
   "cell_type": "code",
   "execution_count": 18,
   "metadata": {},
   "outputs": [
    {
     "name": "stdout",
     "output_type": "stream",
     "text": [
      "4\n",
      "stringz\n",
      "[]\n",
      "['stringz', 'lame']\n",
      "2\n",
      "[10, 'stringz', 'lame', [], [0, 2, 5]]\n"
     ]
    }
   ],
   "source": [
    "print (len (my_list))\n",
    "print (my_list[1])\n",
    "print (my_list[-1])\n",
    "print (my_list[1:3])\n",
    "my_list.append ([0, 2, 5])\n",
    "print (my_list[-1][1]) # multi-indexing ??\n",
    "\n",
    "my_list[0] = 10\n",
    "print (my_list) # mutable object type"
   ]
  }
 ],
 "metadata": {
  "kernelspec": {
   "display_name": "Python 3",
   "language": "python",
   "name": "python3"
  },
  "language_info": {
   "codemirror_mode": {
    "name": "ipython",
    "version": 3
   },
   "file_extension": ".py",
   "mimetype": "text/x-python",
   "name": "python",
   "nbconvert_exporter": "python",
   "pygments_lexer": "ipython3",
   "version": "3.7.0"
  }
 },
 "nbformat": 4,
 "nbformat_minor": 2
}
