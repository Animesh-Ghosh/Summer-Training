{
 "cells": [
  {
   "cell_type": "markdown",
   "metadata": {},
   "source": [
    "#### Question 1\n",
    "\n",
    "Value printed for A does **not** change."
   ]
  },
  {
   "cell_type": "code",
   "execution_count": 1,
   "metadata": {},
   "outputs": [],
   "source": [
    "A = \"spam\"\n",
    "B = A\n",
    "B = \"shrubbery\" \n",
    "#Ni!\n",
    "print (A, B)"
   ]
  },
  {
   "cell_type": "markdown",
   "metadata": {},
   "source": [
    "#### Question 2 answered.\n",
    "\n",
    "Value printed for A **does** change."
   ]
  },
  {
   "cell_type": "code",
   "execution_count": 2,
   "metadata": {},
   "outputs": [],
   "source": [
    "A = [\"spam\"]\n",
    "B = A\n",
    "B[0] = \"shrubbery\"\n",
    "print (A, B)"
   ]
  },
  {
   "cell_type": "markdown",
   "metadata": {},
   "source": [
    "#### Question 3 answered.\n",
    "\n",
    "Value printed for A does **not** change."
   ]
  },
  {
   "cell_type": "code",
   "execution_count": 3,
   "metadata": {},
   "outputs": [],
   "source": [
    "A = [\"spam\"]\n",
    "B = A[:]\n",
    "B[0] = \"shrubbery\"\n",
    "print (A, B)"
   ]
  },
  {
   "cell_type": "markdown",
   "metadata": {},
   "source": [
    "#### Question 4 answered.\n",
    "\n",
    "*Punctuation **'.'** coming appended after a space(**unintended**).*"
   ]
  },
  {
   "cell_type": "code",
   "execution_count": 4,
   "metadata": {},
   "outputs": [
    {
     "name": "stdout",
     "output_type": "stream",
     "text": [
      "Enter your name: Annirudhh\n",
      "Hello Annirudhh."
     ]
    }
   ],
   "source": [
    "name = input (\"Enter your name: \")\n",
    "print (\"Hello\", name, end=\".\")"
   ]
  },
  {
   "cell_type": "markdown",
   "metadata": {},
   "source": [
    "#### Question 5 answered.\n",
    "\n",
    "**Typecasting** done like this."
   ]
  },
  {
   "cell_type": "code",
   "execution_count": 5,
   "metadata": {},
   "outputs": [
    {
     "name": "stdout",
     "output_type": "stream",
     "text": [
      "Enter length of the room(in metres): 10\n",
      "Enter width of the room(in metres): 24.78\n",
      "Area of the room is 247.8 sq. metres.\n"
     ]
    }
   ],
   "source": [
    "length = float (input (\"Enter length of the room(in metres): \"))\n",
    "width = float (input (\"Enter width of the room(in metres): \"))\n",
    "area = length * width\n",
    "print (\"Area of the room is\", area, \"sq. metres.\")"
   ]
  },
  {
   "cell_type": "markdown",
   "metadata": {},
   "source": [
    "#### Question 6 answered.\n",
    "\n",
    "\n",
    "**Typecasting** also done like this."
   ]
  },
  {
   "cell_type": "code",
   "execution_count": 6,
   "metadata": {},
   "outputs": [
    {
     "name": "stdout",
     "output_type": "stream",
     "text": [
      "Enter a number: 10\n",
      "Sum of all positive integers starting from 1 =  55.0\n"
     ]
    }
   ],
   "source": [
    "n = int (input (\"Enter a number: \"))\n",
    "sum = n * (n + 1)/2\n",
    "print (\"Sum of all positive integers starting from 1 = \", sum)"
   ]
  },
  {
   "cell_type": "markdown",
   "metadata": {},
   "source": [
    "#### Question 7 answered.\n",
    "\n",
    "Figured out **Typecasting**."
   ]
  },
  {
   "cell_type": "code",
   "execution_count": 7,
   "metadata": {},
   "outputs": [
    {
     "name": "stdout",
     "output_type": "stream",
     "text": [
      "Enter first number: 11\n",
      "Enter second number: 3\n",
      "Sum =  14\n",
      "Difference =  8\n",
      "Product =  33\n",
      "Quotient =  3.6666666666666665\n",
      "Remainder =  2\n",
      "Power =  1331\n"
     ]
    }
   ],
   "source": [
    "a = int (input (\"Enter first number: \"))\n",
    "b = int (input (\"Enter second number: \"))\n",
    "# a = int (a)\n",
    "# b = int (b)\n",
    "print (\"Sum = \", a + b)\n",
    "print (\"Difference = \", a - b)\n",
    "print (\"Product = \", a * b)\n",
    "print (\"Quotient = \", a/b)\n",
    "print (\"Remainder = \", a%b)\n",
    "print (\"Power = \", a**b)"
   ]
  },
  {
   "cell_type": "markdown",
   "metadata": {},
   "source": [
    "#### Question 8 answered.\n",
    "\n",
    "\n",
    "Figured out **Typecasting**."
   ]
  },
  {
   "cell_type": "code",
   "execution_count": 8,
   "metadata": {},
   "outputs": [
    {
     "name": "stdout",
     "output_type": "stream",
     "text": [
      "Enter number of feet: 4\n",
      "Enter number of inches 9\n",
      "Total number of centimetres =  144.78\n"
     ]
    }
   ],
   "source": [
    "feet = float (input (\"Enter number of feet: \"))\n",
    "inches = float (input (\"Enter number of inches \"))\n",
    "feet_centimetres = feet * 12 * 2.54\n",
    "inch_centimetres = inches * 2.54\n",
    "centimetres = feet_centimetres + inch_centimetres\n",
    "print (\"Total number of centimetres = \", centimetres)"
   ]
  },
  {
   "cell_type": "markdown",
   "metadata": {},
   "source": [
    "#### Question 9\n",
    "\n",
    "Note: *sum()* works on numeric iterables."
   ]
  },
  {
   "cell_type": "code",
   "execution_count": 9,
   "metadata": {},
   "outputs": [
    {
     "name": "stdout",
     "output_type": "stream",
     "text": [
      "Enter first integer: 3\n",
      "Enter second integer: -7\n",
      "Enter third integer: 11\n",
      "Entered integers in ascending order: -7 3 11\n"
     ]
    }
   ],
   "source": [
    "a = int (input ('Enter first integer: '))\n",
    "b = int (input ('Enter second integer: '))\n",
    "c = int (input ('Enter third integer: '))\n",
    "Min = min (a, b, c)\n",
    "Max = max (a, b, c)\n",
    "Mid = a + b + c - Min - Max\n",
    "print ('Entered integers in ascending order:', Min, Mid, Max)"
   ]
  },
  {
   "cell_type": "markdown",
   "metadata": {},
   "source": [
    "#### Question 10\n",
    "\n",
    "Had to store months in lowercase to use casefold() successfully."
   ]
  },
  {
   "cell_type": "code",
   "execution_count": 10,
   "metadata": {},
   "outputs": [
    {
     "name": "stdout",
     "output_type": "stream",
     "text": [
      "Enter month name: August\n",
      "30 days in august\n"
     ]
    }
   ],
   "source": [
    "month = input ('Enter month name: ')\n",
    "month = month.casefold()\n",
    "thirty_one = ('january', 'march', 'may', 'july', 'october', 'december')\n",
    "thirty = ('april', 'june', 'august', 'september', 'november')\n",
    "if month in thirty_one:\n",
    "    print ('31 days in', month)\n",
    "elif month in thirty:\n",
    "    print ('30 days in', month)\n",
    "else:\n",
    "    print ('28 or 29 days in February')"
   ]
  },
  {
   "cell_type": "markdown",
   "metadata": {},
   "source": [
    "#### Question 11\n",
    "\n",
    "Is is good programming practice to have an absolute Boolean statement for the *while* entry-condition?"
   ]
  },
  {
   "cell_type": "code",
   "execution_count": 63,
   "metadata": {},
   "outputs": [
    {
     "name": "stdout",
     "output_type": "stream",
     "text": [
      "Enter value: 1\n",
      "Enter value: 2\n",
      "Enter value: 3\n",
      "Enter value: 7\n",
      "Enter value: 8\n",
      "Enter value: 9\n",
      "Enter value: 0\n",
      "Average = 5.0\n"
     ]
    }
   ],
   "source": [
    "Sum, n = 0, 0\n",
    "while True:\n",
    "    x = float (input ('Enter value: '))\n",
    "    if x == 0:\n",
    "        if n == 0:\n",
    "            print ('First value can\\'t be sentinel value')\n",
    "        break\n",
    "    else:\n",
    "        n += 1\n",
    "        Sum = Sum + x\n",
    "if n != 0:        \n",
    "    avg = Sum/n\n",
    "    print ('Average =', avg)"
   ]
  },
  {
   "cell_type": "markdown",
   "metadata": {},
   "source": [
    "#### Question 12\n",
    "\n",
    "Algorithm for Newton's method of approximation of square roots:\n",
    "\n",
    "*Read **x** from user*\n",
    "\n",
    "*Initialize **guess** to **x/2**\n",
    "\n",
    "*While **guess is greater than 1e-12** Do*\n",
    "\n",
    "*Update **guess to approx** and **approx to average of guess and x/guess** *"
   ]
  },
  {
   "cell_type": "code",
   "execution_count": 3,
   "metadata": {},
   "outputs": [
    {
     "name": "stdout",
     "output_type": "stream",
     "text": [
      "Enter number: 2\n",
      "Approximate square root of 2.0 = 1.414213562373095\n"
     ]
    }
   ],
   "source": [
    "x = float (input ('Enter number: '))\n",
    "guess = x/2\n",
    "while abs(guess**2 - x)  > 1e-12:\n",
    "    guess = (guess + x/guess)/2\n",
    "print ('Approximate square root of', x, '=', guess)"
   ]
  },
  {
   "cell_type": "markdown",
   "metadata": {},
   "source": [
    "#### Question 13\n",
    "\n",
    "Had to import sqrt from math"
   ]
  },
  {
   "cell_type": "code",
   "execution_count": 13,
   "metadata": {},
   "outputs": [
    {
     "name": "stdout",
     "output_type": "stream",
     "text": [
      "Enter perpendicular's length: 3\n",
      "Enter base's length: 4\n",
      "Hypotenuse length = 5.0\n"
     ]
    }
   ],
   "source": [
    "from math import sqrt\n",
    "def Hyp(a, b):\n",
    "    c = a**2 + b**2\n",
    "    c =  sqrt (c)\n",
    "    return c\n",
    "x = float (input ('Enter perpendicular\\'s length: '))\n",
    "y = float (input ('Enter base\\'s length: '))\n",
    "z = Hyp(x, y)\n",
    "print ('Hypotenuse length =', z)"
   ]
  },
  {
   "cell_type": "markdown",
   "metadata": {},
   "source": [
    "#### Question 14"
   ]
  },
  {
   "cell_type": "code",
   "execution_count": 14,
   "metadata": {},
   "outputs": [
    {
     "name": "stdout",
     "output_type": "stream",
     "text": [
      "Enter first value: 13\n",
      "Enter second value: 5\n",
      "Enter third value: 29\n",
      "Median = 13.0\n"
     ]
    }
   ],
   "source": [
    "def Median(a, b, c):\n",
    "    Min = min (a, b, c)\n",
    "    Max = max (a, b, c)\n",
    "    Median = a + b + c - Min - Max # mathematical creativity\n",
    "    return Median\n",
    "x = float (input ('Enter first value: '))\n",
    "y = float (input ('Enter second value: '))\n",
    "z = float (input ('Enter third value: '))\n",
    "Med = Median(x, y, z)\n",
    "print ('Median =', Med)"
   ]
  },
  {
   "cell_type": "markdown",
   "metadata": {},
   "source": [
    "#### Question 15\n",
    "\n",
    "Does not capitalize proper nouns. \n",
    "\n",
    "Lowered uppercase string since I capitalised the whole string before the loop."
   ]
  },
  {
   "cell_type": "code",
   "execution_count": 55,
   "metadata": {},
   "outputs": [
    {
     "name": "stdout",
     "output_type": "stream",
     "text": [
      "Enter string to be capitalized: it is i, annirudhh. have come to learn ML.\n",
      "It is I, annirudhh. Have come to learn ML.\n"
     ]
    }
   ],
   "source": [
    "def Cap(string):\n",
    "    puncs = ('!', ',', '.', '?')\n",
    "    string = string[0].capitalize() + string[1:]\n",
    "    for i in range (len (string)):\n",
    "        if string[i] == 'i':\n",
    "            if string[i+1] == ' ':\n",
    "                string = string[:i] + string[i].capitalize() + string[i+1:]\n",
    "            elif string[i+1] in puncs:\n",
    "                string = string[:i] + string[i].capitalize() + string[i+1:]\n",
    "        elif string[i] == '.':\n",
    "            if i+1 != len(string) and string[i+1] == ' ':\n",
    "                string = string[:i+2] + string[i+2].capitalize() + string[i+3:]\n",
    "    return string\n",
    "inpstr = input ('Enter string to be capitalized: ')\n",
    "capstr = Cap (inpstr)\n",
    "print (capstr)"
   ]
  },
  {
   "cell_type": "markdown",
   "metadata": {},
   "source": [
    "#### Question 16\n",
    "\n",
    "RnG??\n",
    "\n",
    "**random.randrange(a, b)** picks random int from a upto b\n",
    "\n",
    "**random.randint(a, b)** picks random int from a to b\n",
    "\n",
    "**random.choice(string)** picks random sequences"
   ]
  },
  {
   "cell_type": "code",
   "execution_count": 58,
   "metadata": {},
   "outputs": [
    {
     "name": "stdout",
     "output_type": "stream",
     "text": [
      "Randomly generated license:  3877CVQ\n"
     ]
    }
   ],
   "source": [
    "def license ():\n",
    "    import random\n",
    "    chance = random.randint(0,1)\n",
    "    string_list = 'ABCDEFGHIJKLMNOPQRSTUVWXYZ'\n",
    "    letters= ''\n",
    "    numbers = ''\n",
    "    for i in range(3):\n",
    "        letters = letters + random.choice(string_list)\n",
    "    if chance == 0:\n",
    "        l = 3\n",
    "    else:\n",
    "        l = 4\n",
    "    for j in range(l):\n",
    "        numbers = numbers + str (random.randint (0,9))\n",
    "    \n",
    "    if l == 3:\n",
    "        license = letters + numbers\n",
    "    elif l == 4:\n",
    "        license = numbers + letters\n",
    "    return (license)\n",
    "print ('Randomly generated license: ', license())"
   ]
  },
  {
   "cell_type": "markdown",
   "metadata": {},
   "source": [
    "#### Question 17"
   ]
  },
  {
   "cell_type": "code",
   "execution_count": 57,
   "metadata": {},
   "outputs": [
    {
     "name": "stdout",
     "output_type": "stream",
     "text": [
      "Enter integer: 1\n",
      "Enter integer: 3\n",
      "Enter integer: 2\n",
      "Enter integer: 6\n",
      "Enter integer: 11\n",
      "Enter integer: 29\n",
      "Enter integer: -5\n",
      "Enter integer: -2\n",
      "Enter integer: 0\n",
      "[-2, -5, 29, 11, 6, 2, 3, 1]\n"
     ]
    }
   ],
   "source": [
    "my_list = []\n",
    "while True:\n",
    "    inp = int (input ('Enter integer: '))\n",
    "    if inp == 0:\n",
    "        break\n",
    "    else:\n",
    "        my_list.append(inp)      \n",
    "print (my_list[-1::-1])"
   ]
  },
  {
   "cell_type": "markdown",
   "metadata": {},
   "source": [
    "#### Question 18\n",
    "\n",
    "Answers for **subquestions 1 upto 11**:\n",
    "\n",
    "1. schoolName[0] is 'W'\n",
    "2. schoolName[6] is 'g'\n",
    "3. schoolName[3:8] is 'hingt'\n",
    "4. schoolName[:10] is 'Washington'\n",
    "5. schoolName[15:] is 'H.S.'\n",
    "6. schoolName[19] will throw error 'IndexError'\n",
    "7. len(schoolName) is 19\n",
    "8. len(\"\") is 0\n",
    "9. \"Lee\" is specified by schoolName[11:14]\n",
    "10. sample[-1] can be used to return the last character\n",
    "\n",
    "Answers to **subquestion 11 to 14**:"
   ]
  },
  {
   "cell_type": "code",
   "execution_count": 74,
   "metadata": {},
   "outputs": [
    {
     "name": "stdout",
     "output_type": "stream",
     "text": [
      "First letter: T\n",
      "Printing q: q\n",
      "Printing x: x\n",
      "Printing brown using string slicing: brown\n",
      "Printing lazy using string slicing:  lazy\n",
      "Printing string starting from jump: jumps over the lazy dog.\n",
      "T h e   q u i c k   b r o w n   f o x   j u m p s   o v e r   t h e   l a z y   d o g . \n",
      ". g o d   y z a l   e h t   r e v o   s p m u j   x o f   n w o r b   k c i u q   e h T \n",
      "T e q i k b o n f x j m s o e   h   a y d g "
     ]
    }
   ],
   "source": [
    "s = 'The quick brown fox jumps over the lazy dog.'\n",
    "print ('First letter:', s[0])\n",
    "print ('Printing q:', s[4])\n",
    "print ('Printing x:', s[18])\n",
    "print ('Printing brown using string slicing:', s[10:15])\n",
    "print ('Printing lazy using string slicing:', s[-10:-5])\n",
    "print ('Printing string starting from jump:', s[20:])\n",
    "for char in s:\n",
    "    print (char, end = ' ')\n",
    "print ()\n",
    "for char in s[-1::-1]:\n",
    "    print (char, end = ' ')\n",
    "print ()\n",
    "for char in s[::2]:\n",
    "    print (char, end = ' ')"
   ]
  },
  {
   "cell_type": "markdown",
   "metadata": {},
   "source": [
    "#### Question 19"
   ]
  },
  {
   "cell_type": "code",
   "execution_count": 93,
   "metadata": {},
   "outputs": [
    {
     "name": "stdout",
     "output_type": "stream",
     "text": [
      "Enter message: Hello World 10! This is plain text v1.\n",
      "Message has characters other than alpha-numeric. ErrorChar:  !\n",
      "Cipher text in Morse code(incomplete encoding): .... . .-.. .-.. ---    .-- --- .-. .-.. -..    .---- ----- \n"
     ]
    }
   ],
   "source": [
    "morse_code = {'0': '-----', '1': '.----', '2': '..---', '3': '...--', '4': '....-', '5': '.....', '6': '-....', \n",
    "              '7': '--...', '8': '---..', '9': '----.',\n",
    "              'a': '.-', 'b': '-...', 'c': '-.-.', 'd': '-..' , 'e': '.', 'f': '..-.', 'g': '--.', 'h': '....', 'i': '..',\n",
    "              'j': '.---', 'k': '-.-', 'l': '.-..', 'm': '--', 'n': '-.', 'o': '---', 'p': '.--.', 'q': '--.-', 'r': '.-.', \n",
    "              's': '...', 't': '-', 'u': '..-', 'v': '...-', 'w': '.--', 'x': '-..-', 'y': '-.--', 'z': '--..'\n",
    "             }\n",
    "message = input ('Enter message: ')\n",
    "message = message.casefold()\n",
    "code = ''\n",
    "for c in message:\n",
    "    if c == ' ':\n",
    "        code = code + '   '\n",
    "    elif c.isalnum():\n",
    "        code = code + morse_code[c] + ' '\n",
    "    else:\n",
    "        print ('Message has characters other than alpha-numeric. ErrorChar: ', c)\n",
    "        flag = 1\n",
    "        break\n",
    "if flag == 1:\n",
    "    print ('Cipher text in Morse code(incomplete encoding):', code)\n",
    "else:\n",
    "    print ('Cipher text in Morse code:', code)"
   ]
  },
  {
   "cell_type": "markdown",
   "metadata": {},
   "source": [
    "#### Question 20"
   ]
  },
  {
   "cell_type": "code",
   "execution_count": 104,
   "metadata": {},
   "outputs": [
    {
     "name": "stdout",
     "output_type": "stream",
     "text": [
      "Enter string: HEelloo World\n",
      "Number of unique character in the string = 8\n",
      "Count of character strings:\n",
      "Count of h =  1\n",
      "Count of e =  2\n",
      "Count of l =  3\n",
      "Count of o =  3\n",
      "Count of   =  1\n",
      "Count of w =  1\n",
      "Count of r =  1\n",
      "Count of d =  1\n"
     ]
    }
   ],
   "source": [
    "unique = {}\n",
    "string = input ('Enter string: ')\n",
    "string = string.casefold()\n",
    "for c in string:\n",
    "    if c in unique:\n",
    "        unique[c] += 1\n",
    "    else:\n",
    "        unique[c] = 1\n",
    "print ('Number of unique character in the string =', len (unique))\n",
    "print ('Count of character strings:')\n",
    "for key, value in unique.items():\n",
    "    print('Count of', key, '= ', value)"
   ]
  },
  {
   "cell_type": "markdown",
   "metadata": {},
   "source": [
    "#### Question 21\n",
    "\n",
    "Same as **Question 13**."
   ]
  },
  {
   "cell_type": "markdown",
   "metadata": {},
   "source": [
    "#### Question 22"
   ]
  },
  {
   "cell_type": "code",
   "execution_count": 110,
   "metadata": {},
   "outputs": [
    {
     "name": "stdout",
     "output_type": "stream",
     "text": [
      "Enter string: Test String(centered)\n",
      "Enter terminal width: 13\n",
      "Centred string:\n",
      "       Test String(centered)\n"
     ]
    }
   ],
   "source": [
    "def centre (string, term_width):\n",
    "    centered_str = ''\n",
    "    for i in range(term_width//2):\n",
    "        centered_str = centered_str + ' '\n",
    "    centered_str += string\n",
    "    return centered_str\n",
    "new_string = input ('Enter string: ')\n",
    "width = int (input ('Enter terminal width: '))\n",
    "print ('Centred string:\\n', centre(new_string, width))"
   ]
  },
  {
   "cell_type": "markdown",
   "metadata": {},
   "source": [
    "#### Question 23"
   ]
  },
  {
   "cell_type": "code",
   "execution_count": 135,
   "metadata": {},
   "outputs": [
    {
     "name": "stdout",
     "output_type": "stream",
     "text": [
      "Enter string:     -314\n",
      "    -314 is an integer.\n"
     ]
    }
   ],
   "source": [
    "def isInteger (num_str):\n",
    "    for c in range (len (num_str)):\n",
    "        if num_str[c] == ' ':\n",
    "            continue\n",
    "        else:\n",
    "            num = num_str[c:]\n",
    "            break\n",
    "    if len(num) >= 1:\n",
    "        if num[0] == '+' or num[0] == '-':\n",
    "            if num[1:].isdigit():\n",
    "                ans = True\n",
    "        else:\n",
    "            ans = False\n",
    "    return ans\n",
    "number = input ('Enter string: ')\n",
    "if isInteger(number):\n",
    "    print (number, 'is an integer.')\n",
    "else:\n",
    "    print (number, 'is not an integer.')"
   ]
  },
  {
   "cell_type": "markdown",
   "metadata": {},
   "source": [
    "#### Questio 24\n",
    "\n",
    "Determining if number is prime or not.\n",
    "\n",
    "Example run time for 234121 (prime):\n",
    "\n",
    "234119 loop_count for number\n",
    "\n",
    "481 loop_count for x"
   ]
  },
  {
   "cell_type": "code",
   "execution_count": 16,
   "metadata": {},
   "outputs": [
    {
     "name": "stdout",
     "output_type": "stream",
     "text": [
      "Enter a number: 234121\n",
      "234121 is Prime.\n"
     ]
    }
   ],
   "source": [
    "from math import sqrt\n",
    "def isPrime (number):\n",
    "    flag = 0\n",
    "    x = sqrt (number)\n",
    "    x = int (x//1)\n",
    "    for i in range (2, x):\n",
    "        if number %i == 0:\n",
    "            return False\n",
    "    return True\n",
    "\n",
    "def tell_prime ():\n",
    "    inp = int (input ('Enter a number: '))\n",
    "    if isPrime (inp):\n",
    "        print (inp, 'is Prime.')\n",
    "    else:\n",
    "        print (inp, 'is Composite.')\n",
    "        \n",
    "tell_prime ()"
   ]
  },
  {
   "cell_type": "markdown",
   "metadata": {},
   "source": [
    "#### Question 25\n",
    "\n",
    "A leap year is that year which is divisible by 4.\n",
    "\n",
    "Except those years divisible by 100 but not by 400."
   ]
  },
  {
   "cell_type": "code",
   "execution_count": 39,
   "metadata": {},
   "outputs": [
    {
     "name": "stdout",
     "output_type": "stream",
     "text": [
      "Enter month: 2\n",
      "Enter year: 1700\n",
      "Number of days for month 2 is 28\n"
     ]
    }
   ],
   "source": [
    "def days (month, year):\n",
    "    days_dict = {30: [4, 6, 10, 12], 31: [1, 3, 5, 7, 8, 9, 11]}\n",
    "    if month in days_dict[30]:\n",
    "        days = 30\n",
    "    elif month in days_dict[31]:\n",
    "        days = 31\n",
    "    elif month == 2:\n",
    "        if year%100 == 0 and year%400 != 0:\n",
    "            days = 28\n",
    "        elif year%4 == 0:\n",
    "            days = 29\n",
    "        else:\n",
    "            days = 28\n",
    "    return days\n",
    "\n",
    "month = int (input ('Enter month: '))\n",
    "year = int (input ('Enter year: '))\n",
    "days = days (month, year)\n",
    "print ('Number of days for month', month, 'is', days)"
   ]
  },
  {
   "cell_type": "code",
   "execution_count": null,
   "metadata": {},
   "outputs": [],
   "source": []
  }
 ],
 "metadata": {
  "kernelspec": {
   "display_name": "Python 3",
   "language": "python",
   "name": "python3"
  },
  "language_info": {
   "codemirror_mode": {
    "name": "ipython",
    "version": 3
   },
   "file_extension": ".py",
   "mimetype": "text/x-python",
   "name": "python",
   "nbconvert_exporter": "python",
   "pygments_lexer": "ipython3",
   "version": "3.7.0"
  }
 },
 "nbformat": 4,
 "nbformat_minor": 2
}
