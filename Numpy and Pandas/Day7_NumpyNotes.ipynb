{
 "cells": [
  {
   "cell_type": "code",
   "execution_count": 1,
   "metadata": {},
   "outputs": [],
   "source": [
    "import numpy as np"
   ]
  },
  {
   "cell_type": "markdown",
   "metadata": {},
   "source": [
    "#### Creating 1D numpy arrays. Using them to create numpy 2D array."
   ]
  },
  {
   "cell_type": "code",
   "execution_count": 39,
   "metadata": {},
   "outputs": [
    {
     "name": "stdout",
     "output_type": "stream",
     "text": [
      "[1 2 3 4 5]\n",
      "<memory at 0x03CA8FA0>\n",
      "int32\n",
      "(5,)\n",
      "<class 'numpy.ndarray'>\n",
      "[4 5 6 7 8]\n",
      "<memory at 0x03CA8FA0>\n",
      "int32\n",
      "(5,)\n",
      "[[1 2 3 4 5]\n",
      " [4 5 6 7 8]]\n",
      "<memory at 0x03C7DF30>\n",
      "int32\n",
      "(2, 5)\n"
     ]
    }
   ],
   "source": [
    "arr = np.array ([1, 2, 3, 4, 5])\n",
    "print (arr)\n",
    "print (arr.data)\n",
    "print (arr.dtype)\n",
    "print (arr.shape)\n",
    "print (type (arr))\n",
    "\n",
    "arr2 = np.array ([4, 5, 6, 7, 8])\n",
    "print (arr2)\n",
    "print (arr2.data)\n",
    "print (arr2.dtype)\n",
    "print (arr2.shape)\n",
    "\n",
    "_2DArr = np.array ([arr, arr2])\n",
    "print (_2DArr)\n",
    "print (_2DArr.data)\n",
    "print (_2DArr.dtype)\n",
    "print (_2DArr.shape)"
   ]
  },
  {
   "cell_type": "markdown",
   "metadata": {},
   "source": [
    "** *Note* **:\n",
    "\n",
    "Pass lists of arrays to create 2D arrays.\n",
    "\n",
    "**Incorrect syntax**:\n",
    "\n",
    "_2DArr = np.array (arr, arr2)\n",
    "\n",
    "**Correct syntax**:\n",
    "\n",
    "_2DArr = np.array ([arr, arr2])"
   ]
  },
  {
   "cell_type": "markdown",
   "metadata": {},
   "source": [
    "#### Creating nD numpy arrays:\n",
    "\n",
    "*(using arrays created in previous cells)*"
   ]
  },
  {
   "cell_type": "code",
   "execution_count": 40,
   "metadata": {},
   "outputs": [
    {
     "name": "stdout",
     "output_type": "stream",
     "text": [
      "[[ 0  4  8 12 16]\n",
      " [ 0  8 16 24 32]]\n",
      "(2, 5)\n",
      "[[[ 1  2  3  4  5]\n",
      "  [ 4  5  6  7  8]]\n",
      "\n",
      " [[ 0  4  8 12 16]\n",
      "  [ 0  8 16 24 32]]]\n",
      "(2, 2, 5)\n",
      "[[[ 0  4  8 12 16]\n",
      "  [ 0  8 16 24 32]]\n",
      "\n",
      " [[ 1  2  3  4  5]\n",
      "  [ 4  5  6  7  8]]]\n",
      "(2, 2, 5)\n",
      "[[[[ 1  2  3  4  5]\n",
      "   [ 4  5  6  7  8]]\n",
      "\n",
      "  [[ 0  4  8 12 16]\n",
      "   [ 0  8 16 24 32]]]\n",
      "\n",
      "\n",
      " [[[ 0  4  8 12 16]\n",
      "   [ 0  8 16 24 32]]\n",
      "\n",
      "  [[ 1  2  3  4  5]\n",
      "   [ 4  5  6  7  8]]]]\n",
      "(2, 2, 5)\n"
     ]
    }
   ],
   "source": [
    "_2DArr2 = np.array ([np.arange (0, 20, 4), np.arange(0, 40, 8)])\n",
    "print (_2DArr2)\n",
    "print (_2DArr.shape)\n",
    "\n",
    "_3DArr = np.array ([_2DArr, _2DArr2])\n",
    "print (_3DArr)\n",
    "print (_3DArr.shape)\n",
    "\n",
    "_3DArr2 = np.array ([_2DArr2, _2DArr])\n",
    "print (_3DArr2)\n",
    "print (_3DArr2.shape)\n",
    "\n",
    "_4DArr = np.array ([_3DArr, _3DArr2])\n",
    "print (_4DArr)\n",
    "print (_3DArr2.shape)"
   ]
  },
  {
   "cell_type": "markdown",
   "metadata": {},
   "source": [
    "#### Creating Special numpy arrays using numpy methods..."
   ]
  },
  {
   "cell_type": "code",
   "execution_count": 66,
   "metadata": {
    "scrolled": true
   },
   "outputs": [
    {
     "name": "stdout",
     "output_type": "stream",
     "text": [
      "[[[1 1 1 1 1]\n",
      "  [1 1 1 1 1]\n",
      "  [1 1 1 1 1]\n",
      "  [1 1 1 1 1]]\n",
      "\n",
      " [[1 1 1 1 1]\n",
      "  [1 1 1 1 1]\n",
      "  [1 1 1 1 1]\n",
      "  [1 1 1 1 1]]]\n",
      "[[0.+0.j 0.+0.j 0.+0.j]\n",
      " [0.+0.j 0.+0.j 0.+0.j]\n",
      " [0.+0.j 0.+0.j 0.+0.j]]\n",
      "[[0.05379164 0.81291143 0.25237405 0.50646142]\n",
      " [0.39173811 0.97259036 0.9851255  0.31914665]\n",
      " [0.8813062  0.22163454 0.3003555  0.80366421]]\n",
      "[[2.72510035e+224 1.76985064e+295 3.42971271e+243]\n",
      " [1.39038548e+229 4.73914476e-153 1.80660672e+176]]\n",
      "[[11 11]\n",
      " [11 11]\n",
      " [11 11]]\n"
     ]
    }
   ],
   "source": [
    "ones = np.ones ((2, 4, 5), dtype = int)\n",
    "print (ones)\n",
    "\n",
    "zeros = np.zeros ((3, 3), dtype = complex)\n",
    "print (zeros)\n",
    "\n",
    "# not to be confused with random from random module\n",
    "rand = np.random.random ((3, 4))\n",
    "print (rand)\n",
    "\n",
    "# creates an \"empty\" array; array initialized to arbitrary values\n",
    "empty = np.empty ((2, 3))\n",
    "print (empty)\n",
    "\n",
    "full = np.full ((3, 2), 11)\n",
    "print (full)"
   ]
  },
  {
   "cell_type": "markdown",
   "metadata": {},
   "source": [
    "#### Typecasting the numpy array to another object type\n",
    "\n",
    "*(using arrays created in previous cells)*"
   ]
  },
  {
   "cell_type": "code",
   "execution_count": 67,
   "metadata": {},
   "outputs": [
    {
     "name": "stdout",
     "output_type": "stream",
     "text": [
      "[[11 11]\n",
      " [11 11]\n",
      " [11 11]]\n",
      "int32\n",
      "[[11. 11.]\n",
      " [11. 11.]\n",
      " [11. 11.]]\n",
      "float64\n"
     ]
    }
   ],
   "source": [
    "print (full)\n",
    "print (full.dtype)\n",
    "\n",
    "full = full.astype (float)\n",
    "print (full)\n",
    "print (full.dtype)"
   ]
  },
  {
   "cell_type": "markdown",
   "metadata": {},
   "source": [
    "#### Trying Broadcasting\n",
    "\n",
    "*Rules:*\n",
    "\n",
    "Operations can be performed when the two arrays are **compatible**. The are compatible when:\n",
    "\n",
    "1. The dimensions of the arrays are same. Eg. (3, 4) and (3, 4)\n",
    "\n",
    "2. When any one array has a dimension (1). Eg. (1, 4) or (4, 1)"
   ]
  },
  {
   "cell_type": "markdown",
   "metadata": {},
   "source": [
    "**Remember to use np.dot(arr, arr2)**"
   ]
  },
  {
   "cell_type": "code",
   "execution_count": null,
   "metadata": {},
   "outputs": [],
   "source": []
  }
 ],
 "metadata": {
  "kernelspec": {
   "display_name": "Python 3",
   "language": "python",
   "name": "python3"
  },
  "language_info": {
   "codemirror_mode": {
    "name": "ipython",
    "version": 3
   },
   "file_extension": ".py",
   "mimetype": "text/x-python",
   "name": "python",
   "nbconvert_exporter": "python",
   "pygments_lexer": "ipython3",
   "version": "3.6.5"
  }
 },
 "nbformat": 4,
 "nbformat_minor": 2
}
