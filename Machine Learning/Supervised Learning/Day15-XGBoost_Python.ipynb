{
 "cells": [
  {
   "cell_type": "markdown",
   "metadata": {},
   "source": [
    "# Boosting"
   ]
  },
  {
   "cell_type": "markdown",
   "metadata": {},
   "source": [
    "### Importing required libraries"
   ]
  },
  {
   "cell_type": "code",
   "execution_count": 1,
   "metadata": {},
   "outputs": [
    {
     "name": "stderr",
     "output_type": "stream",
     "text": [
      "C:\\Users\\student\\Anaconda3\\lib\\site-packages\\sklearn\\cross_validation.py:41: DeprecationWarning: This module was deprecated in version 0.18 in favor of the model_selection module into which all the refactored classes and functions are moved. Also note that the interface of the new CV iterators are different from that of this module. This module will be removed in 0.20.\n",
      "  \"This module will be removed in 0.20.\", DeprecationWarning)\n"
     ]
    }
   ],
   "source": [
    "import xgboost as xgb\n",
    "import numpy as np\n",
    "import pandas as pd\n",
    "from sklearn import datasets\n",
    "from sklearn.model_selection import train_test_split\n",
    "from sklearn.metrics import mean_squared_error"
   ]
  },
  {
   "cell_type": "markdown",
   "metadata": {},
   "source": [
    "### Classifying using XGBoosted tress"
   ]
  },
  {
   "cell_type": "code",
   "execution_count": 2,
   "metadata": {},
   "outputs": [
    {
     "name": "stdout",
     "output_type": "stream",
     "text": [
      "Accuracy = 1.0\n"
     ]
    }
   ],
   "source": [
    "iris = datasets.load_iris ()\n",
    "X, Y = iris.data, iris.target\n",
    "X_train, X_test, Y_train,  Y_test = train_test_split (X, Y, test_size = 0.3, random_state = 15)\n",
    "\n",
    "xg_cl = xgb.XGBClassifier (objective = 'binary:logistic', n_estimators = 10, seed = 15)\n",
    "\n",
    "xg_cl.fit (X_train, Y_train)\n",
    "predictions = xg_cl.predict (X_test)\n",
    "\n",
    "accuracy = float (np.sum (predictions == Y_test)/Y_test.shape[0])\n",
    "\n",
    "print ('Accuracy =', accuracy)"
   ]
  },
  {
   "cell_type": "markdown",
   "metadata": {},
   "source": [
    "### XGBoost using SciKit Learn API"
   ]
  },
  {
   "cell_type": "code",
   "execution_count": 6,
   "metadata": {},
   "outputs": [
    {
     "name": "stdout",
     "output_type": "stream",
     "text": [
      "RMSE = 196984.859173\n"
     ]
    }
   ],
   "source": [
    "file_path = r'..\\datasets\\boston_housing.csv'\n",
    "housing = pd.read_csv (file_path)\n",
    "X, Y = housing.iloc[:, :-1], housing.iloc[:, -1]\n",
    "\n",
    "X_train, X_test, Y_train, Y_test = train_test_split (X, Y, test_size = 0.3, random_state = 15)\n",
    "\n",
    "xg_reg = xgb.XGBRegressor (objective = 'reg:linear', n_estimators = 10, seed = 15)\n",
    "\n",
    "xg_reg.fit (X_train, Y_train)\n",
    "predictions = xg_reg.predict (X_test)\n",
    "\n",
    "rmse = np.sqrt (mean_squared_error (Y_test, predictions))\n",
    "print ('RMSE =', rmse)"
   ]
  },
  {
   "cell_type": "markdown",
   "metadata": {},
   "source": [
    "### Boosting using XGBoost API"
   ]
  },
  {
   "cell_type": "code",
   "execution_count": 12,
   "metadata": {},
   "outputs": [
    {
     "name": "stdout",
     "output_type": "stream",
     "text": [
      "RMSE = 109916.146589\n"
     ]
    }
   ],
   "source": [
    "# using previously split data\n",
    "\n",
    "DM_train = xgb.DMatrix (data = X_train, label = Y_train)\n",
    "DM_test = xgb.DMatrix (data = X_test, label = Y_test)\n",
    "\n",
    "parameters = {'booster': 'gblinear', 'objective': 'reg:linear'}\n",
    "\n",
    "xg_reg = xgb.train (params = parameters, dtrain = DM_train, num_boost_round = 10)\n",
    "\n",
    "predictions = xg_reg.predict (DM_test)\n",
    "\n",
    "rmse = np.sqrt (mean_squared_error (Y_test, predictions))\n",
    "print ('RMSE =', rmse)"
   ]
  },
  {
   "cell_type": "markdown",
   "metadata": {},
   "source": [
    "## Tuning the model"
   ]
  },
  {
   "cell_type": "markdown",
   "metadata": {},
   "source": [
    "#### Untunted model"
   ]
  },
  {
   "cell_type": "code",
   "execution_count": 40,
   "metadata": {},
   "outputs": [
    {
     "name": "stdout",
     "output_type": "stream",
     "text": [
      "<class 'pandas.core.frame.DataFrame'>\n",
      "Untuned RMSE: 36184.604004\n"
     ]
    }
   ],
   "source": [
    "file_path = r'C:\\Users\\student\\Documents\\Python Scripts\\datasets\\ames_housing_trimmed_processed.csv'\n",
    "housing = pd.read_csv (file_path)\n",
    "\n",
    "X, Y = housing[housing.columns.tolist ()[:-1]], housing[housing.columns.tolist ()[-1]]\n",
    "\n",
    "housing_DMatrix = xgb.DMatrix (data = X, label = Y)\n",
    "\n",
    "untuned = {'objective': 'reg:linear'}\n",
    "\n",
    "untuned_cv_results_rmse = xgb.cv (dtrain = housing_DMatrix, params = untuned, nfold = 4, num_boost_round = 10, \n",
    "                                  metrics = 'rmse', as_pandas = True, seed = 15)\n",
    "\n",
    "print (type (untuned_cv_results_rmse))\n",
    "\n",
    "print('Untuned RMSE: %f' % ((untuned_cv_results_rmse['test-rmse-mean']).tail(1)))"
   ]
  },
  {
   "cell_type": "code",
   "execution_count": 41,
   "metadata": {},
   "outputs": [
    {
     "name": "stdout",
     "output_type": "stream",
     "text": [
      "Tuned RMSE: 81235.318360\n"
     ]
    }
   ],
   "source": [
    "# using previous data\n",
    "\n",
    "tuned = {'objective': 'reg:linear', 'colsample_bytree': 0.3, 'learning_rate': 0.1, 'max_depth': 5}\n",
    "\n",
    "tuned_cv_results_rmse = xgb.cv (dtrain = housing_DMatrix, params = tuned, nfold = 4, num_boost_round = 10, \n",
    "                                metrics = 'rmse', as_pandas = True, seed = 15)\n",
    "\n",
    "print ('Tuned RMSE: %f' % ((tuned_cv_results_rmse['test-rmse-mean']).tail (1)))"
   ]
  }
 ],
 "metadata": {
  "kernelspec": {
   "display_name": "Python 3",
   "language": "python",
   "name": "python3"
  },
  "language_info": {
   "codemirror_mode": {
    "name": "ipython",
    "version": 3
   },
   "file_extension": ".py",
   "mimetype": "text/x-python",
   "name": "python",
   "nbconvert_exporter": "python",
   "pygments_lexer": "ipython3",
   "version": "3.6.5"
  }
 },
 "nbformat": 4,
 "nbformat_minor": 2
}
