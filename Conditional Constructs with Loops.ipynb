{
 "cells": [
  {
   "cell_type": "code",
   "execution_count": 1,
   "metadata": {},
   "outputs": [
    {
     "name": "stdout",
     "output_type": "stream",
     "text": [
      "This is newline.\n",
      "See?\n",
      "This is newline.\n",
      "See?\n",
      "This is newline.\n",
      "See?\n",
      "This is newline.\n",
      "See?\n"
     ]
    }
   ],
   "source": [
    "i = 0\n",
    "while i != 4:\n",
    "    print (\"This is newline.\\nSee?\")\n",
    "    i = i + 1"
   ]
  },
  {
   "cell_type": "code",
   "execution_count": 2,
   "metadata": {},
   "outputs": [
    {
     "name": "stdout",
     "output_type": "stream",
     "text": [
      "This is not newline.\\nRaw, see?\n",
      "This is not newline.\\nRaw, see?\n",
      "This is not newline.\\nRaw, see?\n",
      "This is not newline.\\nRaw, see?\n"
     ]
    }
   ],
   "source": [
    "i = 0\n",
    "while i != 4:\n",
    "    print (r\"This is not newline.\\nRaw, see?\")\n",
    "    i = i + 1"
   ]
  },
  {
   "cell_type": "code",
   "execution_count": 3,
   "metadata": {},
   "outputs": [
    {
     "name": "stdout",
     "output_type": "stream",
     "text": [
      "    This is a pseudo Haiku\n",
      "        Please run this Py    \n"
     ]
    }
   ],
   "source": [
    "print (\"\"\"\\\n",
    "    This is a pseudo Haiku\n",
    "        Please run this Py\\\n",
    "    \"\"\")"
   ]
  },
  {
   "cell_type": "markdown",
   "metadata": {},
   "source": [
    "#### Learning some formated printing"
   ]
  },
  {
   "cell_type": "code",
   "execution_count": 4,
   "metadata": {},
   "outputs": [
    {
     "name": "stdout",
     "output_type": "stream",
     "text": [
      "0 1 1 2 3 5 8 13 21 34 "
     ]
    }
   ],
   "source": [
    "a, b = 0, 1 # fibonacci series 1st try!\n",
    "print (a, end = \" \")\n",
    "while b < 50:\n",
    "    print (b, end = \" \")\n",
    "    a, b = b, a + b"
   ]
  },
  {
   "cell_type": "markdown",
   "metadata": {},
   "source": [
    "#### Fibonacci sequence"
   ]
  },
  {
   "cell_type": "code",
   "execution_count": 1,
   "metadata": {},
   "outputs": [
    {
     "name": "stdout",
     "output_type": "stream",
     "text": [
      "c:\\musers\\namah\n"
     ]
    },
    {
     "data": {
      "text/plain": [
       "'c:\\\\musers\\\\namah'"
      ]
     },
     "execution_count": 1,
     "metadata": {},
     "output_type": "execute_result"
    }
   ],
   "source": [
    "x = 'c:\\musers\\\\namah'\n",
    "print (x)\n",
    "x"
   ]
  },
  {
   "cell_type": "code",
   "execution_count": 4,
   "metadata": {},
   "outputs": [
    {
     "name": "stdout",
     "output_type": "stream",
     "text": [
      "1 Pi 3.14\n",
      "2 Tau 6.28\n",
      "3.14 6.28 LOOP Loop ended.\n"
     ]
    }
   ],
   "source": [
    "my_list = ['1', 'Pi', 2, 'Tau', 3.14, 6.28, 'LOOP']\n",
    "for item in my_list:\n",
    "    print (item, end=' ')\n",
    "    if item == 'Pi':\n",
    "        print (my_list[4])\n",
    "    elif item == 'Tau':\n",
    "        print (my_list[5])\n",
    "print ('Loop ended.')"
   ]
  },
  {
   "cell_type": "markdown",
   "metadata": {},
   "source": [
    "Used *if* statement under *for* statement, working on list."
   ]
  },
  {
   "cell_type": "code",
   "execution_count": null,
   "metadata": {},
   "outputs": [],
   "source": []
  }
 ],
 "metadata": {
  "kernelspec": {
   "display_name": "Python 3",
   "language": "python",
   "name": "python3"
  },
  "language_info": {
   "codemirror_mode": {
    "name": "ipython",
    "version": 3
   },
   "file_extension": ".py",
   "mimetype": "text/x-python",
   "name": "python",
   "nbconvert_exporter": "python",
   "pygments_lexer": "ipython3",
   "version": "3.7.0"
  }
 },
 "nbformat": 4,
 "nbformat_minor": 2
}
